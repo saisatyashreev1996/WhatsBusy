{
 "cells": [
  {
   "cell_type": "markdown",
   "metadata": {},
   "source": [
    "Python.\n",
    "Implement class MoneyBox for working with a virtual money box. Each money box has a limited capacity (int): max number of coins in the money box. When you create a money box the number of coins = 0."
   ]
  },
  {
   "cell_type": "code",
   "execution_count": 9,
   "metadata": {},
   "outputs": [],
   "source": [
    "class MoneyBox:\n",
    "    def __init__(self, capacity):\n",
    "        # Your code here\n",
    "        self.maximum = capacity\n",
    "        self.number_of_coins = 0\n",
    "\n",
    "    def can_add(self, v):\n",
    "        # True, if you can add v coins, False otherwise\n",
    "        # Your code here\n",
    "        coins_after_adding = self.number_of_coins + v\n",
    "        if coins_after_adding > self.maximum:\n",
    "            return False\n",
    "        else:\n",
    "            return True\n",
    "        \n",
    "\n",
    "    def add(self, v):\n",
    "        # put v coins to moneybox\n",
    "        # Your code here\n",
    "        self.number_of_coins = self.number_of_coins + v\n"
   ]
  }
 ],
 "metadata": {
  "kernelspec": {
   "display_name": "Python 3",
   "language": "python",
   "name": "python3"
  },
  "language_info": {
   "codemirror_mode": {
    "name": "ipython",
    "version": 3
   },
   "file_extension": ".py",
   "mimetype": "text/x-python",
   "name": "python",
   "nbconvert_exporter": "python",
   "pygments_lexer": "ipython3",
   "version": "3.7.6"
  }
 },
 "nbformat": 4,
 "nbformat_minor": 4
}
