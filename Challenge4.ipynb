{
 "cells": [
  {
   "cell_type": "markdown",
   "metadata": {},
   "source": [
    "## Reading the data"
   ]
  },
  {
   "cell_type": "code",
   "execution_count": 1,
   "metadata": {},
   "outputs": [],
   "source": [
    "import pandas as pd\n",
    "import seaborn as sns\n",
    "import matplotlib.pyplot as plt\n",
    "from sklearn.metrics import mean_squared_error, mean_absolute_error\n",
    "plt.style.use('fivethirtyeight') # For plots\n",
    "from statsmodels.tsa.arima_model import ARIMA\n",
    "import datetime\n",
    "from statsmodels.graphics.tsaplots import plot_acf\n",
    "from statsmodels.graphics.tsaplots import plot_pacf\n",
    "import matplotlib.pyplot as pyplot\n",
    "from pylab import rcParams\n",
    "import statsmodels.api as sm\n",
    "import itertools\n",
    "import numpy as np"
   ]
  },
  {
   "cell_type": "code",
   "execution_count": 59,
   "metadata": {},
   "outputs": [],
   "source": [
    "data = pd.read_csv('test_restaurant.csv')"
   ]
  },
  {
   "cell_type": "code",
   "execution_count": 60,
   "metadata": {},
   "outputs": [
    {
     "data": {
      "text/html": [
       "<div>\n",
       "<style scoped>\n",
       "    .dataframe tbody tr th:only-of-type {\n",
       "        vertical-align: middle;\n",
       "    }\n",
       "\n",
       "    .dataframe tbody tr th {\n",
       "        vertical-align: top;\n",
       "    }\n",
       "\n",
       "    .dataframe thead th {\n",
       "        text-align: right;\n",
       "    }\n",
       "</style>\n",
       "<table border=\"1\" class=\"dataframe\">\n",
       "  <thead>\n",
       "    <tr style=\"text-align: right;\">\n",
       "      <th></th>\n",
       "      <th>date</th>\n",
       "      <th>num_visitors</th>\n",
       "    </tr>\n",
       "  </thead>\n",
       "  <tbody>\n",
       "    <tr>\n",
       "      <th>0</th>\n",
       "      <td>2000-01-01</td>\n",
       "      <td>49.128490</td>\n",
       "    </tr>\n",
       "    <tr>\n",
       "      <th>1</th>\n",
       "      <td>2000-01-02</td>\n",
       "      <td>50.288060</td>\n",
       "    </tr>\n",
       "    <tr>\n",
       "      <th>2</th>\n",
       "      <td>2000-01-03</td>\n",
       "      <td>53.549213</td>\n",
       "    </tr>\n",
       "    <tr>\n",
       "      <th>3</th>\n",
       "      <td>2000-01-04</td>\n",
       "      <td>45.453240</td>\n",
       "    </tr>\n",
       "    <tr>\n",
       "      <th>4</th>\n",
       "      <td>2000-01-05</td>\n",
       "      <td>49.469402</td>\n",
       "    </tr>\n",
       "    <tr>\n",
       "      <th>...</th>\n",
       "      <td>...</td>\n",
       "      <td>...</td>\n",
       "    </tr>\n",
       "    <tr>\n",
       "      <th>3646</th>\n",
       "      <td>2009-12-25</td>\n",
       "      <td>31.124632</td>\n",
       "    </tr>\n",
       "    <tr>\n",
       "      <th>3647</th>\n",
       "      <td>2009-12-26</td>\n",
       "      <td>27.293856</td>\n",
       "    </tr>\n",
       "    <tr>\n",
       "      <th>3648</th>\n",
       "      <td>2009-12-27</td>\n",
       "      <td>30.218498</td>\n",
       "    </tr>\n",
       "    <tr>\n",
       "      <th>3649</th>\n",
       "      <td>2009-12-28</td>\n",
       "      <td>24.751186</td>\n",
       "    </tr>\n",
       "    <tr>\n",
       "      <th>3650</th>\n",
       "      <td>2009-12-29</td>\n",
       "      <td>66.118840</td>\n",
       "    </tr>\n",
       "  </tbody>\n",
       "</table>\n",
       "<p>3651 rows × 2 columns</p>\n",
       "</div>"
      ],
      "text/plain": [
       "            date  num_visitors\n",
       "0     2000-01-01     49.128490\n",
       "1     2000-01-02     50.288060\n",
       "2     2000-01-03     53.549213\n",
       "3     2000-01-04     45.453240\n",
       "4     2000-01-05     49.469402\n",
       "...          ...           ...\n",
       "3646  2009-12-25     31.124632\n",
       "3647  2009-12-26     27.293856\n",
       "3648  2009-12-27     30.218498\n",
       "3649  2009-12-28     24.751186\n",
       "3650  2009-12-29     66.118840\n",
       "\n",
       "[3651 rows x 2 columns]"
      ]
     },
     "execution_count": 60,
     "metadata": {},
     "output_type": "execute_result"
    }
   ],
   "source": [
    "data"
   ]
  },
  {
   "cell_type": "markdown",
   "metadata": {},
   "source": [
    "## Data Preprocessing"
   ]
  },
  {
   "cell_type": "markdown",
   "metadata": {},
   "source": [
    "### Check for null values or empty strings"
   ]
  },
  {
   "cell_type": "code",
   "execution_count": 61,
   "metadata": {},
   "outputs": [
    {
     "data": {
      "text/plain": [
       "date            0\n",
       "num_visitors    0\n",
       "dtype: int64"
      ]
     },
     "execution_count": 61,
     "metadata": {},
     "output_type": "execute_result"
    }
   ],
   "source": [
    "# NUll value check\n",
    "data.isna().sum()"
   ]
  },
  {
   "cell_type": "code",
   "execution_count": 62,
   "metadata": {},
   "outputs": [
    {
     "data": {
      "text/plain": [
       "0"
      ]
     },
     "execution_count": 62,
     "metadata": {},
     "output_type": "execute_result"
    }
   ],
   "source": [
    "# Empty string check\n",
    "data['date'].eq('').sum()"
   ]
  },
  {
   "cell_type": "markdown",
   "metadata": {},
   "source": [
    "### Check format of the date"
   ]
  },
  {
   "cell_type": "code",
   "execution_count": 63,
   "metadata": {
    "scrolled": true
   },
   "outputs": [
    {
     "data": {
      "text/plain": [
       "0"
      ]
     },
     "execution_count": 63,
     "metadata": {},
     "output_type": "execute_result"
    }
   ],
   "source": [
    "# Convert to datetime to check if all the rows are in datetime format\n",
    "check = pd.to_datetime(data['date'], errors='coerce').isna()\n",
    "\n",
    "# Prints 0 if there are no errors\n",
    "check.sum()\n"
   ]
  },
  {
   "cell_type": "markdown",
   "metadata": {},
   "source": [
    "### Convert date to datetime format"
   ]
  },
  {
   "cell_type": "code",
   "execution_count": 64,
   "metadata": {},
   "outputs": [],
   "source": [
    "data['date'] = pd.to_datetime(data['date'])"
   ]
  },
  {
   "cell_type": "code",
   "execution_count": 65,
   "metadata": {},
   "outputs": [],
   "source": [
    "data = data.set_index('date')"
   ]
  },
  {
   "cell_type": "code",
   "execution_count": 66,
   "metadata": {},
   "outputs": [
    {
     "data": {
      "text/html": [
       "<div>\n",
       "<style scoped>\n",
       "    .dataframe tbody tr th:only-of-type {\n",
       "        vertical-align: middle;\n",
       "    }\n",
       "\n",
       "    .dataframe tbody tr th {\n",
       "        vertical-align: top;\n",
       "    }\n",
       "\n",
       "    .dataframe thead th {\n",
       "        text-align: right;\n",
       "    }\n",
       "</style>\n",
       "<table border=\"1\" class=\"dataframe\">\n",
       "  <thead>\n",
       "    <tr style=\"text-align: right;\">\n",
       "      <th></th>\n",
       "      <th>num_visitors</th>\n",
       "    </tr>\n",
       "    <tr>\n",
       "      <th>date</th>\n",
       "      <th></th>\n",
       "    </tr>\n",
       "  </thead>\n",
       "  <tbody>\n",
       "    <tr>\n",
       "      <th>2000-01-01</th>\n",
       "      <td>49.128490</td>\n",
       "    </tr>\n",
       "    <tr>\n",
       "      <th>2000-01-02</th>\n",
       "      <td>50.288060</td>\n",
       "    </tr>\n",
       "    <tr>\n",
       "      <th>2000-01-03</th>\n",
       "      <td>53.549213</td>\n",
       "    </tr>\n",
       "    <tr>\n",
       "      <th>2000-01-04</th>\n",
       "      <td>45.453240</td>\n",
       "    </tr>\n",
       "    <tr>\n",
       "      <th>2000-01-05</th>\n",
       "      <td>49.469402</td>\n",
       "    </tr>\n",
       "    <tr>\n",
       "      <th>...</th>\n",
       "      <td>...</td>\n",
       "    </tr>\n",
       "    <tr>\n",
       "      <th>2009-12-25</th>\n",
       "      <td>31.124632</td>\n",
       "    </tr>\n",
       "    <tr>\n",
       "      <th>2009-12-26</th>\n",
       "      <td>27.293856</td>\n",
       "    </tr>\n",
       "    <tr>\n",
       "      <th>2009-12-27</th>\n",
       "      <td>30.218498</td>\n",
       "    </tr>\n",
       "    <tr>\n",
       "      <th>2009-12-28</th>\n",
       "      <td>24.751186</td>\n",
       "    </tr>\n",
       "    <tr>\n",
       "      <th>2009-12-29</th>\n",
       "      <td>66.118840</td>\n",
       "    </tr>\n",
       "  </tbody>\n",
       "</table>\n",
       "<p>3651 rows × 1 columns</p>\n",
       "</div>"
      ],
      "text/plain": [
       "            num_visitors\n",
       "date                    \n",
       "2000-01-01     49.128490\n",
       "2000-01-02     50.288060\n",
       "2000-01-03     53.549213\n",
       "2000-01-04     45.453240\n",
       "2000-01-05     49.469402\n",
       "...                  ...\n",
       "2009-12-25     31.124632\n",
       "2009-12-26     27.293856\n",
       "2009-12-27     30.218498\n",
       "2009-12-28     24.751186\n",
       "2009-12-29     66.118840\n",
       "\n",
       "[3651 rows x 1 columns]"
      ]
     },
     "execution_count": 66,
     "metadata": {},
     "output_type": "execute_result"
    }
   ],
   "source": [
    "data"
   ]
  },
  {
   "cell_type": "markdown",
   "metadata": {},
   "source": [
    "## Data Exploration"
   ]
  },
  {
   "cell_type": "markdown",
   "metadata": {},
   "source": [
    "### Draw time series"
   ]
  },
  {
   "cell_type": "code",
   "execution_count": 67,
   "metadata": {},
   "outputs": [
    {
     "data": {
      "image/png": "[encoded data removed]",
      "text/plain": [
       "<Figure size 1080x360 with 1 Axes>"
      ]
     },
     "metadata": {},
     "output_type": "display_data"
    }
   ],
   "source": [
    "# Color pallete for plotting\n",
    "\n",
    "data.plot(style='.', figsize=(15,5), color=\"#F8766D\", title='Number of visitors each day over the years')\n",
    "plt.show()"
   ]
  },
  {
   "cell_type": "markdown",
   "metadata": {},
   "source": [
    "From the above graph, we can see that there is seasonality and upward trend involved which must be removed and analyzed."
   ]
  },
  {
   "cell_type": "markdown",
   "metadata": {},
   "source": [
    "### Checking the monthly, yearly and weekly trend"
   ]
  },
  {
   "cell_type": "code",
   "execution_count": 68,
   "metadata": {},
   "outputs": [],
   "source": [
    "# Get the month, year, quarter and other paramters from date\n",
    "\n",
    "def create_features(df,label):\n",
    "    \n",
    "    df['date']=df.index\n",
    "    df['date'] = pd.to_datetime(df['date'])\n",
    "\n",
    "    df['dayofweek'] = df['date'].dt.dayofweek\n",
    "    df['quarter'] = df['date'].dt.quarter\n",
    "    df['month'] = df['date'].dt.month\n",
    "    df['year'] = df['date'].dt.year\n",
    "    df['dayofyear'] = df['date'].dt.dayofyear\n",
    "\n",
    "    df['dayofmonth'] = df['date'].dt.day\n",
    "    df['weekofyear'] = df['date'].dt.weekofyear\n",
    "    \n",
    "    df = df[['dayofweek','quarter','month','year',\n",
    "       'dayofyear','dayofmonth','weekofyear',label]]\n",
    "    \n",
    "    return df"
   ]
  },
  {
   "cell_type": "code",
   "execution_count": 13,
   "metadata": {},
   "outputs": [],
   "source": [
    "data_features = create_features(data,'num_visitors')"
   ]
  },
  {
   "cell_type": "code",
   "execution_count": 14,
   "metadata": {},
   "outputs": [
    {
     "data": {
      "text/html": [
       "<div>\n",
       "<style scoped>\n",
       "    .dataframe tbody tr th:only-of-type {\n",
       "        vertical-align: middle;\n",
       "    }\n",
       "\n",
       "    .dataframe tbody tr th {\n",
       "        vertical-align: top;\n",
       "    }\n",
       "\n",
       "    .dataframe thead th {\n",
       "        text-align: right;\n",
       "    }\n",
       "</style>\n",
       "<table border=\"1\" class=\"dataframe\">\n",
       "  <thead>\n",
       "    <tr style=\"text-align: right;\">\n",
       "      <th></th>\n",
       "      <th>dayofweek</th>\n",
       "      <th>quarter</th>\n",
       "      <th>month</th>\n",
       "      <th>year</th>\n",
       "      <th>dayofyear</th>\n",
       "      <th>dayofmonth</th>\n",
       "      <th>weekofyear</th>\n",
       "      <th>num_visitors</th>\n",
       "    </tr>\n",
       "    <tr>\n",
       "      <th>date</th>\n",
       "      <th></th>\n",
       "      <th></th>\n",
       "      <th></th>\n",
       "      <th></th>\n",
       "      <th></th>\n",
       "      <th></th>\n",
       "      <th></th>\n",
       "      <th></th>\n",
       "    </tr>\n",
       "  </thead>\n",
       "  <tbody>\n",
       "    <tr>\n",
       "      <th>2000-01-01</th>\n",
       "      <td>5</td>\n",
       "      <td>1</td>\n",
       "      <td>1</td>\n",
       "      <td>2000</td>\n",
       "      <td>1</td>\n",
       "      <td>1</td>\n",
       "      <td>52</td>\n",
       "      <td>49.128490</td>\n",
       "    </tr>\n",
       "    <tr>\n",
       "      <th>2000-01-02</th>\n",
       "      <td>6</td>\n",
       "      <td>1</td>\n",
       "      <td>1</td>\n",
       "      <td>2000</td>\n",
       "      <td>2</td>\n",
       "      <td>2</td>\n",
       "      <td>52</td>\n",
       "      <td>50.288060</td>\n",
       "    </tr>\n",
       "    <tr>\n",
       "      <th>2000-01-03</th>\n",
       "      <td>0</td>\n",
       "      <td>1</td>\n",
       "      <td>1</td>\n",
       "      <td>2000</td>\n",
       "      <td>3</td>\n",
       "      <td>3</td>\n",
       "      <td>1</td>\n",
       "      <td>53.549213</td>\n",
       "    </tr>\n",
       "    <tr>\n",
       "      <th>2000-01-04</th>\n",
       "      <td>1</td>\n",
       "      <td>1</td>\n",
       "      <td>1</td>\n",
       "      <td>2000</td>\n",
       "      <td>4</td>\n",
       "      <td>4</td>\n",
       "      <td>1</td>\n",
       "      <td>45.453240</td>\n",
       "    </tr>\n",
       "    <tr>\n",
       "      <th>2000-01-05</th>\n",
       "      <td>2</td>\n",
       "      <td>1</td>\n",
       "      <td>1</td>\n",
       "      <td>2000</td>\n",
       "      <td>5</td>\n",
       "      <td>5</td>\n",
       "      <td>1</td>\n",
       "      <td>49.469402</td>\n",
       "    </tr>\n",
       "  </tbody>\n",
       "</table>\n",
       "</div>"
      ],
      "text/plain": [
       "            dayofweek  quarter  month  year  dayofyear  dayofmonth  \\\n",
       "date                                                                 \n",
       "2000-01-01          5        1      1  2000          1           1   \n",
       "2000-01-02          6        1      1  2000          2           2   \n",
       "2000-01-03          0        1      1  2000          3           3   \n",
       "2000-01-04          1        1      1  2000          4           4   \n",
       "2000-01-05          2        1      1  2000          5           5   \n",
       "\n",
       "            weekofyear  num_visitors  \n",
       "date                                  \n",
       "2000-01-01          52     49.128490  \n",
       "2000-01-02          52     50.288060  \n",
       "2000-01-03           1     53.549213  \n",
       "2000-01-04           1     45.453240  \n",
       "2000-01-05           1     49.469402  "
      ]
     },
     "execution_count": 14,
     "metadata": {},
     "output_type": "execute_result"
    }
   ],
   "source": [
    "data_features.head()"
   ]
  },
  {
   "cell_type": "code",
   "execution_count": 69,
   "metadata": {
    "scrolled": true
   },
   "outputs": [
    {
     "data": {
      "image/png": "[encoded data removed]",
      "text/plain": [
       "<Figure size 1080x360 with 3 Axes>"
      ]
     },
     "metadata": {},
     "output_type": "display_data"
    }
   ],
   "source": [
    "# Plot the trend for yearly, monthly and weekly trend\n",
    "\n",
    "sns.pairplot(data_features,x_vars=['year','month','dayofweek'],y_vars='num_visitors',height=5,\n",
    "             plot_kws={'alpha':0.15, 'linewidth':0}\n",
    "            )\n",
    "plt.suptitle('Number of visitors by Day of Week, Year and Month')\n",
    "plt.show()"
   ]
  },
  {
   "cell_type": "markdown",
   "metadata": {},
   "source": [
    "From the first graph, we can see that there is an overall upward trend in the number of visitors yearly. In the second graph, we can see the pattern which is followed every year over the months. January and February seems to have high number of visitors and decreases for the other months and again increases for december. In the 3rd graph, we can see that there is not much of difference in the number of visitors for different days of the week."
   ]
  },
  {
   "cell_type": "markdown",
   "metadata": {},
   "source": [
    "### Decomposition of the time series into its components"
   ]
  },
  {
   "cell_type": "code",
   "execution_count": 70,
   "metadata": {},
   "outputs": [],
   "source": [
    "monthly_average = data['num_visitors'].resample('MS').mean()"
   ]
  },
  {
   "cell_type": "code",
   "execution_count": 74,
   "metadata": {},
   "outputs": [
    {
     "data": {
      "image/png": "[encoded data removed]",
      "text/plain": [
       "<Figure size 1296x576 with 4 Axes>"
      ]
     },
     "metadata": {},
     "output_type": "display_data"
    }
   ],
   "source": [
    "rcParams['figure.figsize'] = 18, 8\n",
    "decomposition = sm.tsa.seasonal_decompose(monthly_average, model='additive')\n",
    "fig = decomposition.plot()\n",
    "plt.show()"
   ]
  },
  {
   "cell_type": "markdown",
   "metadata": {},
   "source": [
    "### Train and test split"
   ]
  },
  {
   "cell_type": "code",
   "execution_count": 18,
   "metadata": {},
   "outputs": [],
   "source": [
    "split_date = '01-Jan-2008'\n",
    "data_train = pd.DataFrame(data.loc[data.index <= split_date,'num_visitors'])\n",
    "data_test = pd.DataFrame(data.loc[data.index > split_date,'num_visitors'])"
   ]
  },
  {
   "cell_type": "code",
   "execution_count": 19,
   "metadata": {},
   "outputs": [
    {
     "data": {
      "image/png": "[encoded data removed]",
      "text/plain": [
       "<Figure size 1080x360 with 1 Axes>"
      ]
     },
     "metadata": {},
     "output_type": "display_data"
    }
   ],
   "source": [
    "# Plot train and test so you can see where we have split\n",
    "data_test.rename(columns={'num_visitors': 'TEST_SET'}).join(data_train.rename(columns={'num_visitors': 'TRAINING_SET'}),how='outer').plot(figsize=(15,5), title='num_visitors', style='.')\n",
    "plt.show()"
   ]
  },
  {
   "cell_type": "markdown",
   "metadata": {},
   "source": [
    "### ACF and PACF plots"
   ]
  },
  {
   "cell_type": "code",
   "execution_count": 78,
   "metadata": {
    "scrolled": true
   },
   "outputs": [
    {
     "data": {
      "image/png": "[encoded data removed]",
      "text/plain": [
       "<Figure size 576x576 with 1 Axes>"
      ]
     },
     "metadata": {},
     "output_type": "display_data"
    }
   ],
   "source": [
    "# Draw ACF and plot to check for seasonality and trend\n",
    "rcParams['figure.figsize'] = 8, 8\n",
    "plot_acf(data['num_visitors'])\n",
    "pyplot.show()"
   ]
  },
  {
   "cell_type": "code",
   "execution_count": 79,
   "metadata": {
    "scrolled": true
   },
   "outputs": [
    {
     "data": {
      "image/png": "[encoded data removed]",
      "text/plain": [
       "<Figure size 576x576 with 1 Axes>"
      ]
     },
     "metadata": {},
     "output_type": "display_data"
    }
   ],
   "source": [
    "plot_pacf(data['num_visitors'])\n",
    "pyplot.show()"
   ]
  },
  {
   "cell_type": "markdown",
   "metadata": {},
   "source": [
    "The ACF is decreasing over time and then increasing. So there is a trend involved here.\n"
   ]
  },
  {
   "cell_type": "markdown",
   "metadata": {},
   "source": [
    "### Differencing to remove trend"
   ]
  },
  {
   "cell_type": "code",
   "execution_count": 22,
   "metadata": {},
   "outputs": [],
   "source": [
    "# create a differenced series\n",
    "def difference(dataset, interval=1):\n",
    "    diff = list()\n",
    "    for i in range(interval, len(dataset)):\n",
    "        value = dataset[i] - dataset[i - interval]\n",
    "        diff.append(value)\n",
    "    return np.array(diff)"
   ]
  },
  {
   "cell_type": "code",
   "execution_count": 23,
   "metadata": {},
   "outputs": [],
   "source": [
    "# invert differenced value\n",
    "def inverse_difference(history, yhat, interval=1):\n",
    "    return yhat + history[-interval]"
   ]
  },
  {
   "cell_type": "markdown",
   "metadata": {},
   "source": [
    "Since the data only has 10 years, differencing on 365 interval will not be effective. Hence, I have chosen 7 to difference to remove the trend."
   ]
  },
  {
   "cell_type": "code",
   "execution_count": 24,
   "metadata": {},
   "outputs": [],
   "source": [
    "interval = 7\n",
    "differenced = difference(data['num_visitors'].values, interval)"
   ]
  },
  {
   "cell_type": "markdown",
   "metadata": {},
   "source": [
    "### ACF and PACF after differencing"
   ]
  },
  {
   "cell_type": "code",
   "execution_count": 25,
   "metadata": {},
   "outputs": [
    {
     "data": {
      "image/png": "[encoded data removed]",
      "text/plain": [
       "<Figure size 432x288 with 1 Axes>"
      ]
     },
     "metadata": {},
     "output_type": "display_data"
    }
   ],
   "source": [
    "plot_acf(differenced)\n",
    "pyplot.show()"
   ]
  },
  {
   "cell_type": "code",
   "execution_count": 26,
   "metadata": {},
   "outputs": [
    {
     "data": {
      "image/png": "[encoded data removed]",
      "text/plain": [
       "<Figure size 432x288 with 1 Axes>"
      ]
     },
     "metadata": {},
     "output_type": "display_data"
    }
   ],
   "source": [
    "plot_pacf(differenced)\n",
    "pyplot.show()"
   ]
  },
  {
   "cell_type": "markdown",
   "metadata": {},
   "source": [
    "From the graphs we can see that the trend is now not as evident as before. From PACF, we can still find some seasonality though. "
   ]
  },
  {
   "cell_type": "markdown",
   "metadata": {},
   "source": [
    "We can first try and fit ARIMA. From the ACF and PACF, it looks like a suitable 'p' will most likely be in between 3 and 5. And I gave d=1 because of the differencing. So, I tried fitting ARIMA with (5,1,0)"
   ]
  },
  {
   "cell_type": "markdown",
   "metadata": {},
   "source": [
    "### Fit the ARIMA model and forecasting"
   ]
  },
  {
   "cell_type": "code",
   "execution_count": 27,
   "metadata": {
    "scrolled": true
   },
   "outputs": [],
   "source": [
    "# fit model\n",
    "model = ARIMA(differenced, order=(5,1,0))\n",
    "model_fit = model.fit(disp=0)"
   ]
  },
  {
   "cell_type": "code",
   "execution_count": 28,
   "metadata": {
    "scrolled": true
   },
   "outputs": [],
   "source": [
    "forecast = model_fit.predict(start=len(data_train), end=len(data_train)+len(data_test)-1)"
   ]
  },
  {
   "cell_type": "markdown",
   "metadata": {},
   "source": [
    "We have to take inverse difference of the forecast values to obtain the actual forecasted values"
   ]
  },
  {
   "cell_type": "code",
   "execution_count": 30,
   "metadata": {
    "scrolled": true
   },
   "outputs": [],
   "source": [
    "forecast2 = inverse_difference(data_test['num_visitors'].values, forecast, interval)"
   ]
  },
  {
   "cell_type": "code",
   "execution_count": 31,
   "metadata": {},
   "outputs": [
    {
     "data": {
      "text/plain": [
       "array([31.43393007, 34.32240235, 31.201347  , 35.05985234, 30.2430198 ,\n",
       "       30.7033897 , 35.52385664, 35.00440489, 28.94930308, 33.75916252,\n",
       "       30.88812043, 35.29816783, 35.2190556 , 31.07240282, 30.68135031,\n",
       "       34.15630216, 30.70240223, 30.67629119, 36.21145961, 29.72812335,\n",
       "       30.33464597, 34.40868575, 32.61289087, 31.91741123, 31.08486635,\n",
       "       29.67084805, 36.42232892, 33.7833457 , 13.43496621, 24.03443424,\n",
       "       32.85630815, 32.14855873, 31.26310646, 27.51247335, 32.30293488,\n",
       "       49.76999705, 40.17953469, 32.55939088, 29.95925417, 32.48726722,\n",
       "       32.45747365, 30.93609846, 34.51497612, 31.47016762, 32.50153942,\n",
       "       36.03190255, 28.58701458, 31.40693609, 35.67266505, 28.42180915,\n",
       "       33.40617113, 31.44086134, 30.9112677 , 35.87504575, 32.42288254,\n",
       "       27.95421456, 34.05344042, 31.76075083, 32.79503516, 34.38129064,\n",
       "       31.39446562, 30.88865646, 34.26284283, 30.5734212 , 34.01439303,\n",
       "       30.98526662, 29.87700644, 32.13034895, 34.65466773, 31.17710007,\n",
       "       31.37518438, 28.73827644, 34.78052257, 32.23801225, 33.19561403,\n",
       "       31.94428153, 32.67145258, 36.15687329, 32.57507473, 28.60601478,\n",
       "       31.77026189, 32.88728018, 32.11216964, 33.73103106, 27.75867801,\n",
       "       34.31891522, 32.08490731, 34.65987438, 31.18228359, 31.77880355,\n",
       "       28.33473909, 36.72030054, 30.32398591, 35.87516961, 29.2821894 ,\n",
       "       32.35554515, 34.311907  , 31.90071884, 30.77333216, 30.41587768,\n",
       "       30.87245916, 34.24930485, 31.02986809, 32.14087804, 33.57348072,\n",
       "       30.58421666, 36.73815181, 32.79915874, 32.36538496, 31.50517458,\n",
       "       27.51967326, 34.35435168, 32.81571871, 30.35329834, 32.02919354,\n",
       "       33.11158593, 35.2735235 , 33.54431339, 30.2232804 , 33.61479483,\n",
       "       32.68606895, 29.74949925, 32.71207436, 31.01395693, 32.76753656,\n",
       "       31.79779032, 30.34133027, 34.34442242, 30.63867157, 29.08136639,\n",
       "       33.33551794, 34.67126327, 32.21449247, 33.04285405, 30.92549937,\n",
       "       35.04825773, 35.04930531, 27.4350453 , 32.30046347, 34.32276581,\n",
       "       31.02934213, 32.71615813, 32.62852565, 30.16170848, 33.19793778,\n",
       "       30.40395082, 32.88512363, 34.81010559, 29.5792531 , 30.8100592 ,\n",
       "       33.16151477, 35.40433036, 31.61050974, 31.59636041, 30.83005647,\n",
       "       33.69342149, 34.9826508 , 30.78074899, 29.23119544, 35.33134412,\n",
       "       29.96457212, 34.21945651, 30.6800439 , 29.11933199, 35.32791223,\n",
       "       34.14214927, 29.76237472, 34.76257143, 29.49799172, 34.12458763,\n",
       "       32.91386094, 29.30321415, 33.49338772, 33.81665289, 30.1903689 ,\n",
       "       32.8290929 , 33.09770452, 30.72252948, 33.36821937, 30.54491661,\n",
       "       30.39940193, 34.82215959, 31.93194385, 29.81007143, 34.27023409,\n",
       "       32.22434006, 32.75955071, 32.50349446, 31.5119307 , 33.00858323,\n",
       "       32.43847135, 32.89729219, 33.47911352, 31.0247894 , 34.15366608,\n",
       "       30.73824498, 32.98117075, 31.43200428, 30.88145861, 30.55083913,\n",
       "       34.71334075, 31.19385796, 29.97296832, 32.06675083, 32.9736569 ,\n",
       "       33.22615785, 34.84826229, 28.00464656, 32.58415244, 35.87809667,\n",
       "       29.66346918, 33.79491837, 33.37668731, 30.65116284, 36.1938893 ,\n",
       "       31.28579785, 30.41739459, 31.67218865, 31.66862295, 29.45804684,\n",
       "       33.39636274, 31.21680385, 33.94943436, 34.19741586, 33.35059566,\n",
       "       32.60219863, 33.10451851, 29.88154996, 32.76398416, 30.56009402,\n",
       "       30.5279356 , 32.61253525, 31.97099105, 32.88920819, 31.82379172,\n",
       "       31.86662803, 33.60078777, 33.66761671, 35.2196843 , 30.56989048,\n",
       "       32.00025212, 32.0906113 , 32.21143253, 28.83210188, 32.2572204 ,\n",
       "       31.22004675, 33.54231729, 33.21378949, 32.44637578, 32.47601552,\n",
       "       33.79100695, 32.98554787, 31.13012558, 33.61861569, 30.42198097,\n",
       "       32.99303765, 32.74184314, 33.07698077, 28.15130881, 32.89566219,\n",
       "       28.67991848, 33.67707074, 31.58060181, 31.15957192, 32.21093159,\n",
       "       35.40687082, 31.27668878, 34.71036729, 31.90723393, 32.49176856,\n",
       "       33.17620927, 30.66382871, 32.07460879, 32.86643002, 31.14377542,\n",
       "       32.33636532, 35.22941366, 28.22368165, 33.9435502 , 33.71359377,\n",
       "       30.94286838, 33.4057709 , 32.71376026, 27.03047764, 35.82443873,\n",
       "       33.34517209, 28.80742709, 33.36862705, 34.83996487, 29.25032099,\n",
       "       36.68218939, 30.36997303, 32.5475354 , 31.61372089, 34.70191407,\n",
       "       27.96265422, 33.12090889, 32.50550202, 32.38796707, 31.42656058,\n",
       "       31.98005302, 28.35113823, 34.73116836, 33.63701246, 31.92542138,\n",
       "       33.28607212, 32.29787073, 35.80978392, 31.40561258, 30.60299539,\n",
       "       32.54706879, 29.32216204, 32.91327058, 32.21300933, 31.09310652,\n",
       "       35.75400903, 31.06189721, 31.8571742 , 33.61611569, 33.08940063,\n",
       "       29.60068883, 32.85245381, 31.03801795, 33.51448064, 33.25528161,\n",
       "       33.22393683, 30.69190724, 34.08999052, 32.35329766, 25.62112851,\n",
       "       35.61999513, 32.96165635, 30.49803133, 33.21830107, 31.98497228,\n",
       "       30.59318146, 36.94010138, 30.23560617, 30.86924039, 32.92731976,\n",
       "       30.83519791, 34.88913081, 32.4902226 , 32.51387456, 29.91454615,\n",
       "       33.47982926, 32.48589911, 29.12060252, 31.05030768, 31.54882464,\n",
       "       33.95540682, 34.81154607, 31.96352976, 32.61496193, 35.2353152 ,\n",
       "       30.13697029, 18.15826477, 27.77451832, 26.94683686, 31.5039536 ,\n",
       "       30.98392974, 34.78352742, 34.91762628, 44.65965764, 35.62383384,\n",
       "       36.04656623, 34.46746476, 33.69528005, 31.97293758, 30.01411829,\n",
       "       37.85443667, 33.90899488, 30.99595366, 28.99215836, 33.8470859 ,\n",
       "       32.58637546, 32.16411794, 31.10130149, 31.43154547, 35.75773393,\n",
       "       34.17349477, 32.02542125, 28.74616416, 34.62450622, 30.58563849,\n",
       "       33.5731541 , 33.9398331 , 28.76050388, 31.00958093, 36.61360876,\n",
       "       31.35400083, 35.3562333 , 27.56192291, 13.07102343, 29.72004641,\n",
       "       27.409484  , 30.67647488, 34.46907558, 28.87776863, 36.00004671,\n",
       "       46.6870904 , 36.00785407, 36.0856783 , 32.61677076, 28.24527905,\n",
       "       33.87842514, 33.38503346, 33.76000207, 32.2400047 , 31.53592253,\n",
       "       33.01399087, 31.72018874, 29.18339206, 29.78255187, 34.94675068,\n",
       "       33.09171729, 33.89333205, 28.77488078, 32.62764875, 35.94657647,\n",
       "       32.40636078, 28.75570692, 33.32705526, 29.79475669, 34.63515096,\n",
       "       35.06713546, 29.34023373, 31.92432521, 31.53411294, 32.56495958,\n",
       "       33.96213549, 31.02005211, 29.0462714 , 33.16524382, 33.07216293,\n",
       "       30.88306385, 33.3104861 , 31.18440573, 33.52331046, 35.1589272 ,\n",
       "       30.81718792, 32.57242638, 33.840084  , 31.01263771, 34.01057573,\n",
       "       31.15772998, 30.38920416, 33.31589214, 32.50119717, 31.86997674,\n",
       "       31.71402528, 28.13927372, 32.9707029 , 32.61122686, 32.77647339,\n",
       "       33.27065434, 33.48813405, 31.2446142 , 35.70727318, 30.12869555,\n",
       "       31.08610474, 33.46295929, 30.12971146, 31.77007156, 32.55460772,\n",
       "       31.14634032, 33.96951675, 35.64110716, 28.51000867, 31.74019565,\n",
       "       33.20816485, 30.32649898, 34.63632985, 33.07594275, 28.23781802,\n",
       "       35.4292383 , 32.39350449, 31.63821691, 33.28407726, 31.69346925,\n",
       "       33.13569342, 31.11867804, 32.57998719, 32.73406906, 30.18820923,\n",
       "       32.75162427, 31.16950862, 30.23167893, 35.82786491, 30.09016733,\n",
       "       33.03148643, 33.09487655, 32.19651076, 33.24803331, 33.60459901,\n",
       "       31.51677059, 31.59778385, 30.73506618, 33.56967789, 31.03599385,\n",
       "       31.11492797, 32.5464143 , 29.4184587 , 35.33710967, 32.11685922,\n",
       "       31.34109141, 34.77331907, 31.88770575, 32.61167411, 32.11790793,\n",
       "       29.88922846, 36.92952546, 30.31706891, 33.73899984, 30.73521225,\n",
       "       30.2739411 , 35.42397079, 30.84733109, 30.38421187, 33.43151508,\n",
       "       32.23797087, 32.25429008, 30.78255649, 32.81310586, 33.46926079,\n",
       "       29.62408371, 32.88805227, 29.88029437, 35.55753264, 33.35300156,\n",
       "       30.51583743, 33.43007653, 33.80587178, 34.13122827, 30.28074013,\n",
       "       31.31289647, 32.06366373, 31.25668851, 31.18841275, 33.02999286,\n",
       "       29.38559004, 35.39361107, 31.22555457, 33.6070041 , 33.82008267,\n",
       "       33.15589968, 29.7848569 , 34.90511552, 29.84780321, 34.07872999,\n",
       "       28.34464718, 33.03488799, 31.82950087, 31.04254627, 32.32371142,\n",
       "       32.65103916, 31.17294031, 34.62563397, 31.97346593, 32.03019591,\n",
       "       35.05986694, 30.90514392, 32.14906642, 33.15911059, 31.00256358,\n",
       "       32.60716379, 32.8877769 , 30.82271807, 32.68091104, 33.42685787,\n",
       "       32.34612772, 30.54735034, 31.39612191, 35.28422828, 32.34170981,\n",
       "       30.17716928, 31.53654079, 30.84528141, 37.03267452, 30.10899673,\n",
       "       26.82813177, 34.92930621, 33.46498225, 32.51363697, 31.73348291,\n",
       "       31.23493712, 35.22803595, 32.29758117, 31.07249807, 33.24208688,\n",
       "       31.91227885, 30.3379028 , 33.6856543 , 30.8520477 , 33.4597259 ,\n",
       "       32.11581368, 31.41326825, 32.38895517, 35.14873452, 30.94315279,\n",
       "       31.46706005, 32.41978599, 32.04332982, 32.65503067, 34.40336722,\n",
       "       29.68752606, 33.42079591, 31.87461207, 31.00813019, 32.00387396,\n",
       "       30.18822373, 31.98906125, 34.21379254, 28.23330237, 36.55637631,\n",
       "       32.84001869, 33.01515592, 36.73113503, 28.99763151, 28.27851558,\n",
       "       34.73670426, 31.01449579, 36.73077847, 28.74123262, 28.92856981,\n",
       "       35.39602368, 37.91372987, 29.010715  , 30.34191025, 28.33066445,\n",
       "       33.81942956, 33.52328139, 29.92753334, 29.31070289, 36.92589045,\n",
       "       31.69945019, 32.46548486, 36.38596842, 30.74440315, 32.75540921,\n",
       "       34.45351736, 29.78408027, 32.67556178, 31.30554141, 28.27823327,\n",
       "       33.1099815 , 33.41438228, 32.02856787, 32.16253575, 31.82945561,\n",
       "       34.09828219, 34.15449105, 30.8572425 , 28.75603635, 31.01729171,\n",
       "       31.93536509, 34.92555239, 32.57193839, 32.28644911, 33.32848876,\n",
       "       32.33593031, 31.84669417, 34.49543939, 29.51460162, 33.59770234,\n",
       "       29.63643523, 31.29534507, 34.16670599, 34.16977325, 31.94332061,\n",
       "       32.13114747, 31.63827235, 33.53570133, 31.27384398, 31.26099409,\n",
       "       32.56266358, 31.89718282, 33.2735711 , 31.38709078, 29.91711967,\n",
       "       36.12438644, 30.69059824, 30.40091583, 30.84228159, 33.66430435,\n",
       "       34.25017849, 33.2412309 , 31.99631481, 36.51912143, 31.54929467,\n",
       "       31.05870348, 30.11945855, 30.18485699, 33.55762079, 29.53140296,\n",
       "       30.82749546, 31.78611028, 35.67247558, 32.21518047, 32.4112397 ,\n",
       "       30.83207869, 32.9150697 , 33.67770528, 32.01482551, 31.02533863,\n",
       "       33.18810571, 32.06325635, 33.50616284, 32.42547029, 28.48298292,\n",
       "       33.85884018, 32.99957402, 32.17702126, 32.39768927, 34.66673428,\n",
       "       29.95182119, 34.7382191 , 31.6633377 , 31.90805402, 31.40961782,\n",
       "       33.22122415, 15.01726892, 31.48072377, 33.39505101, 31.16160363,\n",
       "       33.96379439, 31.35838884, 32.28855121])"
      ]
     },
     "execution_count": 31,
     "metadata": {},
     "output_type": "execute_result"
    }
   ],
   "source": [
    "forecast2"
   ]
  },
  {
   "cell_type": "markdown",
   "metadata": {},
   "source": [
    "### Model evaluation using MAE"
   ]
  },
  {
   "cell_type": "code",
   "execution_count": 50,
   "metadata": {
    "scrolled": true
   },
   "outputs": [
    {
     "data": {
      "text/plain": [
       "7.13975568417555"
      ]
     },
     "execution_count": 50,
     "metadata": {},
     "output_type": "execute_result"
    }
   ],
   "source": [
    "np.mean(abs(forecast2-data_test['num_visitors']))"
   ]
  },
  {
   "cell_type": "markdown",
   "metadata": {},
   "source": [
    "There was some seasonality involved in the differenced data because of which the analysis may not be perfect. So, I am gonna try SARIMA where I can set my seasonality"
   ]
  },
  {
   "cell_type": "markdown",
   "metadata": {},
   "source": [
    "### SARIMA"
   ]
  },
  {
   "cell_type": "markdown",
   "metadata": {},
   "source": [
    "I have taken monthly average because SARIMA doesn't perform well on daily data and can be a little tricky"
   ]
  },
  {
   "cell_type": "code",
   "execution_count": 33,
   "metadata": {},
   "outputs": [],
   "source": [
    "monthly_average = data2['num_visitors'].resample('MS').mean()"
   ]
  },
  {
   "cell_type": "markdown",
   "metadata": {},
   "source": [
    "Create a grid search for finding optimum p,d,q and P,D,Q. I have taken S = 12, because of yearly seasonality"
   ]
  },
  {
   "cell_type": "code",
   "execution_count": 34,
   "metadata": {},
   "outputs": [
    {
     "name": "stdout",
     "output_type": "stream",
     "text": [
      "Examples of parameter combinations for Seasonal ARIMA...\n",
      "SARIMAX: (0, 0, 1) x (0, 0, 1, 12)\n",
      "SARIMAX: (0, 0, 1) x (0, 0, 2, 12)\n",
      "SARIMAX: (0, 0, 2) x (0, 1, 0, 12)\n",
      "SARIMAX: (0, 0, 2) x (0, 1, 1, 12)\n"
     ]
    }
   ],
   "source": [
    "p = d = q = range(0, 3)\n",
    "pdq = list(itertools.product(p, d, q))\n",
    "seasonal_pdq = [(x[0], x[1], x[2], 12) for x in list(itertools.product(p, d, q))]\n",
    "print('Examples of parameter combinations for Seasonal ARIMA...')\n",
    "print('SARIMAX: {} x {}'.format(pdq[1], seasonal_pdq[1]))\n",
    "print('SARIMAX: {} x {}'.format(pdq[1], seasonal_pdq[2]))\n",
    "print('SARIMAX: {} x {}'.format(pdq[2], seasonal_pdq[3]))\n",
    "print('SARIMAX: {} x {}'.format(pdq[2], seasonal_pdq[4]))"
   ]
  },
  {
   "cell_type": "code",
   "execution_count": 35,
   "metadata": {},
   "outputs": [
    {
     "name": "stdout",
     "output_type": "stream",
     "text": [
      "(0, 0, 0)\n",
      "(0, 0, 0, 12)\n",
      "<statsmodels.tsa.statespace.sarimax.SARIMAXResultsWrapper object at 0x000001A1BB5A2148>\n",
      "ARIMA(0, 0, 0)x(0, 0, 0, 12)12 - AIC:1118.5790122313226\n",
      "(0, 0, 0)\n",
      "(0, 0, 1, 12)\n",
      "<statsmodels.tsa.statespace.sarimax.SARIMAXResultsWrapper object at 0x000001A1BD9FF648>\n",
      "ARIMA(0, 0, 0)x(0, 0, 1, 12)12 - AIC:904.7505501755546\n",
      "(0, 0, 0)\n",
      "(0, 0, 2, 12)\n"
     ]
    },
    {
     "name": "stderr",
     "output_type": "stream",
     "text": [
      "C:\\Users\\Satya\\Anaconda3\\lib\\site-packages\\statsmodels\\base\\model.py:568: ConvergenceWarning: Maximum Likelihood optimization failed to converge. Check mle_retvals\n",
      "  \"Check mle_retvals\", ConvergenceWarning)\n"
     ]
    },
    {
     "name": "stdout",
     "output_type": "stream",
     "text": [
      "<statsmodels.tsa.statespace.sarimax.SARIMAXResultsWrapper object at 0x000001A1BDA38188>\n",
      "ARIMA(0, 0, 0)x(0, 0, 2, 12)12 - AIC:815.8467270123232\n",
      "(0, 0, 0)\n",
      "(0, 1, 0, 12)\n",
      "<statsmodels.tsa.statespace.sarimax.SARIMAXResultsWrapper object at 0x000001A1BD9F8B08>\n",
      "ARIMA(0, 0, 0)x(0, 1, 0, 12)12 - AIC:455.33099767910653\n",
      "(0, 0, 0)\n",
      "(0, 1, 1, 12)\n",
      "<statsmodels.tsa.statespace.sarimax.SARIMAXResultsWrapper object at 0x000001A1BDA34B88>\n",
      "ARIMA(0, 0, 0)x(0, 1, 1, 12)12 - AIC:357.9525625112283\n",
      "(0, 0, 0)\n",
      "(0, 1, 2, 12)\n"
     ]
    },
    {
     "name": "stderr",
     "output_type": "stream",
     "text": [
      "C:\\Users\\Satya\\Anaconda3\\lib\\site-packages\\statsmodels\\base\\model.py:568: ConvergenceWarning: Maximum Likelihood optimization failed to converge. Check mle_retvals\n",
      "  \"Check mle_retvals\", ConvergenceWarning)\n"
     ]
    },
    {
     "name": "stdout",
     "output_type": "stream",
     "text": [
      "<statsmodels.tsa.statespace.sarimax.SARIMAXResultsWrapper object at 0x000001A1BD9FFC08>\n",
      "ARIMA(0, 0, 0)x(0, 1, 2, 12)12 - AIC:320.4023380751666\n",
      "(0, 0, 0)\n",
      "(0, 2, 0, 12)\n",
      "<statsmodels.tsa.statespace.sarimax.SARIMAXResultsWrapper object at 0x000001A1BDA348C8>\n",
      "ARIMA(0, 0, 0)x(0, 2, 0, 12)12 - AIC:329.89436664574504\n",
      "(0, 0, 0)\n",
      "(0, 2, 1, 12)\n",
      "<statsmodels.tsa.statespace.sarimax.SARIMAXResultsWrapper object at 0x000001A1BDA33648>\n",
      "ARIMA(0, 0, 0)x(0, 2, 1, 12)12 - AIC:223.4897881411489\n",
      "(0, 0, 0)\n",
      "(0, 2, 2, 12)\n"
     ]
    },
    {
     "name": "stderr",
     "output_type": "stream",
     "text": [
      "C:\\Users\\Satya\\Anaconda3\\lib\\site-packages\\statsmodels\\base\\model.py:568: ConvergenceWarning: Maximum Likelihood optimization failed to converge. Check mle_retvals\n",
      "  \"Check mle_retvals\", ConvergenceWarning)\n"
     ]
    },
    {
     "name": "stdout",
     "output_type": "stream",
     "text": [
      "<statsmodels.tsa.statespace.sarimax.SARIMAXResultsWrapper object at 0x000001A1BDA33D48>\n",
      "ARIMA(0, 0, 0)x(0, 2, 2, 12)12 - AIC:2589.3667980052887\n",
      "(0, 0, 0)\n",
      "(1, 0, 0, 12)\n",
      "<statsmodels.tsa.statespace.sarimax.SARIMAXResultsWrapper object at 0x000001A1BD9FFAC8>\n",
      "ARIMA(0, 0, 0)x(1, 0, 0, 12)12 - AIC:331.0658693941677\n",
      "(0, 0, 0)\n",
      "(1, 0, 1, 12)\n"
     ]
    },
    {
     "name": "stderr",
     "output_type": "stream",
     "text": [
      "C:\\Users\\Satya\\Anaconda3\\lib\\site-packages\\statsmodels\\base\\model.py:568: ConvergenceWarning: Maximum Likelihood optimization failed to converge. Check mle_retvals\n",
      "  \"Check mle_retvals\", ConvergenceWarning)\n"
     ]
    },
    {
     "name": "stdout",
     "output_type": "stream",
     "text": [
      "<statsmodels.tsa.statespace.sarimax.SARIMAXResultsWrapper object at 0x000001A1BDA2C748>\n",
      "ARIMA(0, 0, 0)x(1, 0, 1, 12)12 - AIC:327.06712952999527\n",
      "(0, 0, 0)\n",
      "(1, 0, 2, 12)\n"
     ]
    },
    {
     "name": "stderr",
     "output_type": "stream",
     "text": [
      "C:\\Users\\Satya\\Anaconda3\\lib\\site-packages\\statsmodels\\base\\model.py:568: ConvergenceWarning: Maximum Likelihood optimization failed to converge. Check mle_retvals\n",
      "  \"Check mle_retvals\", ConvergenceWarning)\n"
     ]
    },
    {
     "name": "stdout",
     "output_type": "stream",
     "text": [
      "<statsmodels.tsa.statespace.sarimax.SARIMAXResultsWrapper object at 0x000001A1BDA340C8>\n",
      "ARIMA(0, 0, 0)x(1, 0, 2, 12)12 - AIC:281.8094749423431\n",
      "(0, 0, 0)\n",
      "(1, 1, 0, 12)\n",
      "<statsmodels.tsa.statespace.sarimax.SARIMAXResultsWrapper object at 0x000001A1BDA38448>\n",
      "ARIMA(0, 0, 0)x(1, 1, 0, 12)12 - AIC:321.2335178990636\n",
      "(0, 0, 0)\n",
      "(1, 1, 1, 12)\n",
      "<statsmodels.tsa.statespace.sarimax.SARIMAXResultsWrapper object at 0x000001A1BD9F8448>\n",
      "ARIMA(0, 0, 0)x(1, 1, 1, 12)12 - AIC:263.85146558191224\n",
      "(0, 0, 0)\n",
      "(1, 1, 2, 12)\n",
      "<statsmodels.tsa.statespace.sarimax.SARIMAXResultsWrapper object at 0x000001A1BDA017C8>\n",
      "ARIMA(0, 0, 0)x(1, 1, 2, 12)12 - AIC:207.50445097454025\n",
      "(0, 0, 0)\n",
      "(1, 2, 0, 12)\n",
      "<statsmodels.tsa.statespace.sarimax.SARIMAXResultsWrapper object at 0x000001A1BB5B64C8>\n",
      "ARIMA(0, 0, 0)x(1, 2, 0, 12)12 - AIC:251.07128701299837\n",
      "(0, 0, 0)\n",
      "(1, 2, 1, 12)\n",
      "<statsmodels.tsa.statespace.sarimax.SARIMAXResultsWrapper object at 0x000001A1BD9F8B48>\n",
      "ARIMA(0, 0, 0)x(1, 2, 1, 12)12 - AIC:216.2489620743885\n",
      "(0, 0, 0)\n",
      "(1, 2, 2, 12)\n"
     ]
    },
    {
     "name": "stderr",
     "output_type": "stream",
     "text": [
      "C:\\Users\\Satya\\Anaconda3\\lib\\site-packages\\statsmodels\\base\\model.py:568: ConvergenceWarning: Maximum Likelihood optimization failed to converge. Check mle_retvals\n",
      "  \"Check mle_retvals\", ConvergenceWarning)\n"
     ]
    },
    {
     "name": "stdout",
     "output_type": "stream",
     "text": [
      "<statsmodels.tsa.statespace.sarimax.SARIMAXResultsWrapper object at 0x000001A1BDA40808>\n",
      "ARIMA(0, 0, 0)x(1, 2, 2, 12)12 - AIC:2777.781264692842\n",
      "(0, 0, 0)\n",
      "(2, 0, 0, 12)\n",
      "<statsmodels.tsa.statespace.sarimax.SARIMAXResultsWrapper object at 0x000001A1BDA017C8>\n",
      "ARIMA(0, 0, 0)x(2, 0, 0, 12)12 - AIC:280.27361279130537\n",
      "(0, 0, 0)\n",
      "(2, 0, 1, 12)\n",
      "<statsmodels.tsa.statespace.sarimax.SARIMAXResultsWrapper object at 0x000001A1BDA41588>\n",
      "ARIMA(0, 0, 0)x(2, 0, 1, 12)12 - AIC:264.6013101204703\n",
      "(0, 0, 0)\n",
      "(2, 0, 2, 12)\n"
     ]
    },
    {
     "name": "stderr",
     "output_type": "stream",
     "text": [
      "C:\\Users\\Satya\\Anaconda3\\lib\\site-packages\\statsmodels\\base\\model.py:568: ConvergenceWarning: Maximum Likelihood optimization failed to converge. Check mle_retvals\n",
      "  \"Check mle_retvals\", ConvergenceWarning)\n"
     ]
    },
    {
     "name": "stdout",
     "output_type": "stream",
     "text": [
      "<statsmodels.tsa.statespace.sarimax.SARIMAXResultsWrapper object at 0x000001A1BDA2C7C8>\n",
      "ARIMA(0, 0, 0)x(2, 0, 2, 12)12 - AIC:248.62309417038423\n",
      "(0, 0, 0)\n",
      "(2, 1, 0, 12)\n",
      "<statsmodels.tsa.statespace.sarimax.SARIMAXResultsWrapper object at 0x000001A1BDA33848>\n",
      "ARIMA(0, 0, 0)x(2, 1, 0, 12)12 - AIC:249.45882845104273\n",
      "(0, 0, 0)\n",
      "(2, 1, 1, 12)\n",
      "<statsmodels.tsa.statespace.sarimax.SARIMAXResultsWrapper object at 0x000001A1BDA41F88>\n",
      "ARIMA(0, 0, 0)x(2, 1, 1, 12)12 - AIC:220.74755130113658\n",
      "(0, 0, 0)\n",
      "(2, 1, 2, 12)\n",
      "<statsmodels.tsa.statespace.sarimax.SARIMAXResultsWrapper object at 0x000001A1BDA434C8>\n",
      "ARIMA(0, 0, 0)x(2, 1, 2, 12)12 - AIC:219.41471379261992\n",
      "(0, 0, 0)\n",
      "(2, 2, 0, 12)\n",
      "<statsmodels.tsa.statespace.sarimax.SARIMAXResultsWrapper object at 0x000001A1BDA3B648>\n",
      "ARIMA(0, 0, 0)x(2, 2, 0, 12)12 - AIC:197.45357809323755\n",
      "(0, 0, 0)\n",
      "(2, 2, 1, 12)\n",
      "<statsmodels.tsa.statespace.sarimax.SARIMAXResultsWrapper object at 0x000001A1BDA46788>\n",
      "ARIMA(0, 0, 0)x(2, 2, 1, 12)12 - AIC:182.22330017968247\n",
      "(0, 0, 0)\n",
      "(2, 2, 2, 12)\n"
     ]
    },
    {
     "name": "stderr",
     "output_type": "stream",
     "text": [
      "C:\\Users\\Satya\\Anaconda3\\lib\\site-packages\\statsmodels\\base\\model.py:568: ConvergenceWarning: Maximum Likelihood optimization failed to converge. Check mle_retvals\n",
      "  \"Check mle_retvals\", ConvergenceWarning)\n"
     ]
    },
    {
     "name": "stdout",
     "output_type": "stream",
     "text": [
      "<statsmodels.tsa.statespace.sarimax.SARIMAXResultsWrapper object at 0x000001A1BDA017C8>\n",
      "ARIMA(0, 0, 0)x(2, 2, 2, 12)12 - AIC:2905.14398048643\n",
      "(0, 0, 1)\n",
      "(0, 0, 0, 12)\n",
      "<statsmodels.tsa.statespace.sarimax.SARIMAXResultsWrapper object at 0x000001A1BDA33848>\n",
      "ARIMA(0, 0, 1)x(0, 0, 0, 12)12 - AIC:987.0368108887552\n",
      "(0, 0, 1)\n",
      "(0, 0, 1, 12)\n",
      "<statsmodels.tsa.statespace.sarimax.SARIMAXResultsWrapper object at 0x000001A1BDA45888>\n",
      "ARIMA(0, 0, 1)x(0, 0, 1, 12)12 - AIC:785.2636838195907\n",
      "(0, 0, 1)\n",
      "(0, 0, 2, 12)\n",
      "<statsmodels.tsa.statespace.sarimax.SARIMAXResultsWrapper object at 0x000001A1BDA45F88>\n",
      "ARIMA(0, 0, 1)x(0, 0, 2, 12)12 - AIC:632.1632833396375\n",
      "(0, 0, 1)\n",
      "(0, 1, 0, 12)\n",
      "<statsmodels.tsa.statespace.sarimax.SARIMAXResultsWrapper object at 0x000001A1BDA46088>\n",
      "ARIMA(0, 0, 1)x(0, 1, 0, 12)12 - AIC:391.8530188720577\n",
      "(0, 0, 1)\n",
      "(0, 1, 1, 12)\n",
      "<statsmodels.tsa.statespace.sarimax.SARIMAXResultsWrapper object at 0x000001A1BDA448C8>\n",
      "ARIMA(0, 0, 1)x(0, 1, 1, 12)12 - AIC:331.43257861422614\n",
      "(0, 0, 1)\n",
      "(0, 1, 2, 12)\n"
     ]
    },
    {
     "name": "stderr",
     "output_type": "stream",
     "text": [
      "C:\\Users\\Satya\\Anaconda3\\lib\\site-packages\\statsmodels\\base\\model.py:568: ConvergenceWarning: Maximum Likelihood optimization failed to converge. Check mle_retvals\n",
      "  \"Check mle_retvals\", ConvergenceWarning)\n"
     ]
    },
    {
     "name": "stdout",
     "output_type": "stream",
     "text": [
      "<statsmodels.tsa.statespace.sarimax.SARIMAXResultsWrapper object at 0x000001A1BDA46308>\n",
      "ARIMA(0, 0, 1)x(0, 1, 2, 12)12 - AIC:297.02633412231074\n",
      "(0, 0, 1)\n",
      "(0, 2, 0, 12)\n",
      "<statsmodels.tsa.statespace.sarimax.SARIMAXResultsWrapper object at 0x000001A1BDA45BC8>\n",
      "ARIMA(0, 0, 1)x(0, 2, 0, 12)12 - AIC:328.55786168110023\n",
      "(0, 0, 1)\n",
      "(0, 2, 1, 12)\n",
      "<statsmodels.tsa.statespace.sarimax.SARIMAXResultsWrapper object at 0x000001A1B9F35888>\n",
      "ARIMA(0, 0, 1)x(0, 2, 1, 12)12 - AIC:221.8281703054756\n",
      "(0, 0, 1)\n",
      "(0, 2, 2, 12)\n"
     ]
    },
    {
     "name": "stderr",
     "output_type": "stream",
     "text": [
      "C:\\Users\\Satya\\Anaconda3\\lib\\site-packages\\statsmodels\\base\\model.py:568: ConvergenceWarning: Maximum Likelihood optimization failed to converge. Check mle_retvals\n",
      "  \"Check mle_retvals\", ConvergenceWarning)\n"
     ]
    },
    {
     "name": "stdout",
     "output_type": "stream",
     "text": [
      "<statsmodels.tsa.statespace.sarimax.SARIMAXResultsWrapper object at 0x000001A1BDA4B508>\n",
      "ARIMA(0, 0, 1)x(0, 2, 2, 12)12 - AIC:2922.1555100977503\n",
      "(0, 0, 1)\n",
      "(1, 0, 0, 12)\n",
      "<statsmodels.tsa.statespace.sarimax.SARIMAXResultsWrapper object at 0x000001A1BDA3FC88>\n",
      "ARIMA(0, 0, 1)x(1, 0, 0, 12)12 - AIC:324.63401890914884\n",
      "(0, 0, 1)\n",
      "(1, 0, 1, 12)\n",
      "<statsmodels.tsa.statespace.sarimax.SARIMAXResultsWrapper object at 0x000001A1BDA47A88>\n",
      "ARIMA(0, 0, 1)x(1, 0, 1, 12)12 - AIC:319.0685217749105\n",
      "(0, 0, 1)\n",
      "(1, 0, 2, 12)\n"
     ]
    },
    {
     "name": "stderr",
     "output_type": "stream",
     "text": [
      "C:\\Users\\Satya\\Anaconda3\\lib\\site-packages\\statsmodels\\base\\model.py:568: ConvergenceWarning: Maximum Likelihood optimization failed to converge. Check mle_retvals\n",
      "  \"Check mle_retvals\", ConvergenceWarning)\n"
     ]
    },
    {
     "name": "stdout",
     "output_type": "stream",
     "text": [
      "<statsmodels.tsa.statespace.sarimax.SARIMAXResultsWrapper object at 0x000001A1BDA47248>\n",
      "ARIMA(0, 0, 1)x(1, 0, 2, 12)12 - AIC:277.40636336691364\n",
      "(0, 0, 1)\n",
      "(1, 1, 0, 12)\n",
      "<statsmodels.tsa.statespace.sarimax.SARIMAXResultsWrapper object at 0x000001A1BDA4B9C8>\n",
      "ARIMA(0, 0, 1)x(1, 1, 0, 12)12 - AIC:319.668158464287\n",
      "(0, 0, 1)\n",
      "(1, 1, 1, 12)\n",
      "<statsmodels.tsa.statespace.sarimax.SARIMAXResultsWrapper object at 0x000001A1BDA4CF88>\n",
      "ARIMA(0, 0, 1)x(1, 1, 1, 12)12 - AIC:262.773591091238\n",
      "(0, 0, 1)\n",
      "(1, 1, 2, 12)\n",
      "<statsmodels.tsa.statespace.sarimax.SARIMAXResultsWrapper object at 0x000001A1BDA49C48>\n",
      "ARIMA(0, 0, 1)x(1, 1, 2, 12)12 - AIC:207.1074180664619\n",
      "(0, 0, 1)\n",
      "(1, 2, 0, 12)\n",
      "<statsmodels.tsa.statespace.sarimax.SARIMAXResultsWrapper object at 0x000001A1BD9FB508>\n",
      "ARIMA(0, 0, 1)x(1, 2, 0, 12)12 - AIC:252.35845595190065\n",
      "(0, 0, 1)\n",
      "(1, 2, 1, 12)\n",
      "<statsmodels.tsa.statespace.sarimax.SARIMAXResultsWrapper object at 0x000001A1BDA4EA88>\n",
      "ARIMA(0, 0, 1)x(1, 2, 1, 12)12 - AIC:214.32714996323432\n",
      "(0, 0, 1)\n",
      "(1, 2, 2, 12)\n"
     ]
    },
    {
     "name": "stderr",
     "output_type": "stream",
     "text": [
      "C:\\Users\\Satya\\Anaconda3\\lib\\site-packages\\statsmodels\\base\\model.py:568: ConvergenceWarning: Maximum Likelihood optimization failed to converge. Check mle_retvals\n",
      "  \"Check mle_retvals\", ConvergenceWarning)\n"
     ]
    },
    {
     "name": "stdout",
     "output_type": "stream",
     "text": [
      "<statsmodels.tsa.statespace.sarimax.SARIMAXResultsWrapper object at 0x000001A1BDA4AA08>\n",
      "ARIMA(0, 0, 1)x(1, 2, 2, 12)12 - AIC:2817.193417338046\n",
      "(0, 0, 1)\n",
      "(2, 0, 0, 12)\n",
      "<statsmodels.tsa.statespace.sarimax.SARIMAXResultsWrapper object at 0x000001A1BDA50EC8>\n",
      "ARIMA(0, 0, 1)x(2, 0, 0, 12)12 - AIC:278.86177081643825\n",
      "(0, 0, 1)\n",
      "(2, 0, 1, 12)\n"
     ]
    },
    {
     "name": "stderr",
     "output_type": "stream",
     "text": [
      "C:\\Users\\Satya\\Anaconda3\\lib\\site-packages\\statsmodels\\base\\model.py:568: ConvergenceWarning: Maximum Likelihood optimization failed to converge. Check mle_retvals\n",
      "  \"Check mle_retvals\", ConvergenceWarning)\n"
     ]
    },
    {
     "name": "stdout",
     "output_type": "stream",
     "text": [
      "<statsmodels.tsa.statespace.sarimax.SARIMAXResultsWrapper object at 0x000001A1BDA2CD88>\n",
      "ARIMA(0, 0, 1)x(2, 0, 1, 12)12 - AIC:268.37031251287954\n",
      "(0, 0, 1)\n",
      "(2, 0, 2, 12)\n",
      "<statsmodels.tsa.statespace.sarimax.SARIMAXResultsWrapper object at 0x000001A1BDA50908>\n",
      "ARIMA(0, 0, 1)x(2, 0, 2, 12)12 - AIC:260.57851790970454\n",
      "(0, 0, 1)\n",
      "(2, 1, 0, 12)\n",
      "<statsmodels.tsa.statespace.sarimax.SARIMAXResultsWrapper object at 0x000001A1BDA4FA08>\n",
      "ARIMA(0, 0, 1)x(2, 1, 0, 12)12 - AIC:250.28644309225993\n",
      "(0, 0, 1)\n",
      "(2, 1, 1, 12)\n",
      "<statsmodels.tsa.statespace.sarimax.SARIMAXResultsWrapper object at 0x000001A1BDA40148>\n",
      "ARIMA(0, 0, 1)x(2, 1, 1, 12)12 - AIC:221.86846127744516\n",
      "(0, 0, 1)\n",
      "(2, 1, 2, 12)\n",
      "<statsmodels.tsa.statespace.sarimax.SARIMAXResultsWrapper object at 0x000001A1BDA50648>\n",
      "ARIMA(0, 0, 1)x(2, 1, 2, 12)12 - AIC:217.44727780950444\n",
      "(0, 0, 1)\n",
      "(2, 2, 0, 12)\n",
      "<statsmodels.tsa.statespace.sarimax.SARIMAXResultsWrapper object at 0x000001A1BDA40388>\n",
      "ARIMA(0, 0, 1)x(2, 2, 0, 12)12 - AIC:198.7378148865658\n",
      "(0, 0, 1)\n",
      "(2, 2, 1, 12)\n",
      "<statsmodels.tsa.statespace.sarimax.SARIMAXResultsWrapper object at 0x000001A1BDA50648>\n",
      "ARIMA(0, 0, 1)x(2, 2, 1, 12)12 - AIC:183.79442860418595\n",
      "(0, 0, 1)\n",
      "(2, 2, 2, 12)\n",
      "<statsmodels.tsa.statespace.sarimax.SARIMAXResultsWrapper object at 0x000001A1BDA4C6C8>\n",
      "ARIMA(0, 0, 1)x(2, 2, 2, 12)12 - AIC:2868.030883568974\n",
      "(0, 0, 2)\n",
      "(0, 0, 0, 12)\n",
      "<statsmodels.tsa.statespace.sarimax.SARIMAXResultsWrapper object at 0x000001A1BDA49948>\n",
      "ARIMA(0, 0, 2)x(0, 0, 0, 12)12 - AIC:883.166748037425\n",
      "(0, 0, 2)\n",
      "(0, 0, 1, 12)\n",
      "<statsmodels.tsa.statespace.sarimax.SARIMAXResultsWrapper object at 0x000001A1BDA44308>\n",
      "ARIMA(0, 0, 2)x(0, 0, 1, 12)12 - AIC:709.0191930021381\n",
      "(0, 0, 2)\n",
      "(0, 0, 2, 12)\n",
      "<statsmodels.tsa.statespace.sarimax.SARIMAXResultsWrapper object at 0x000001A1BDA49C48>\n",
      "ARIMA(0, 0, 2)x(0, 0, 2, 12)12 - AIC:593.0792724923912\n",
      "(0, 0, 2)\n",
      "(0, 1, 0, 12)\n",
      "<statsmodels.tsa.statespace.sarimax.SARIMAXResultsWrapper object at 0x000001A1BDA53D48>\n",
      "ARIMA(0, 0, 2)x(0, 1, 0, 12)12 - AIC:358.83806808368803\n",
      "(0, 0, 2)\n",
      "(0, 1, 1, 12)\n",
      "<statsmodels.tsa.statespace.sarimax.SARIMAXResultsWrapper object at 0x000001A1BDA48F08>\n",
      "ARIMA(0, 0, 2)x(0, 1, 1, 12)12 - AIC:312.32199187298454\n",
      "(0, 0, 2)\n",
      "(0, 1, 2, 12)\n"
     ]
    },
    {
     "name": "stderr",
     "output_type": "stream",
     "text": [
      "C:\\Users\\Satya\\Anaconda3\\lib\\site-packages\\statsmodels\\base\\model.py:568: ConvergenceWarning: Maximum Likelihood optimization failed to converge. Check mle_retvals\n",
      "  \"Check mle_retvals\", ConvergenceWarning)\n"
     ]
    },
    {
     "name": "stdout",
     "output_type": "stream",
     "text": [
      "<statsmodels.tsa.statespace.sarimax.SARIMAXResultsWrapper object at 0x000001A1BDA4AB48>\n",
      "ARIMA(0, 0, 2)x(0, 1, 2, 12)12 - AIC:279.34475283106667\n",
      "(0, 0, 2)\n",
      "(0, 2, 0, 12)\n",
      "<statsmodels.tsa.statespace.sarimax.SARIMAXResultsWrapper object at 0x000001A1BDA46548>\n",
      "ARIMA(0, 0, 2)x(0, 2, 0, 12)12 - AIC:326.4617836935759\n",
      "(0, 0, 2)\n",
      "(0, 2, 1, 12)\n",
      "<statsmodels.tsa.statespace.sarimax.SARIMAXResultsWrapper object at 0x000001A1BDA55EC8>\n",
      "ARIMA(0, 0, 2)x(0, 2, 1, 12)12 - AIC:220.15383681766767\n",
      "(0, 0, 2)\n",
      "(0, 2, 2, 12)\n"
     ]
    },
    {
     "name": "stderr",
     "output_type": "stream",
     "text": [
      "C:\\Users\\Satya\\Anaconda3\\lib\\site-packages\\statsmodels\\base\\model.py:568: ConvergenceWarning: Maximum Likelihood optimization failed to converge. Check mle_retvals\n",
      "  \"Check mle_retvals\", ConvergenceWarning)\n"
     ]
    },
    {
     "name": "stdout",
     "output_type": "stream",
     "text": [
      "<statsmodels.tsa.statespace.sarimax.SARIMAXResultsWrapper object at 0x000001A1BDA55488>\n",
      "ARIMA(0, 0, 2)x(0, 2, 2, 12)12 - AIC:3248.0564878425444\n",
      "(0, 0, 2)\n",
      "(1, 0, 0, 12)\n",
      "<statsmodels.tsa.statespace.sarimax.SARIMAXResultsWrapper object at 0x000001A1BDA58148>\n",
      "ARIMA(0, 0, 2)x(1, 0, 0, 12)12 - AIC:320.99334302513523\n",
      "(0, 0, 2)\n",
      "(1, 0, 1, 12)\n",
      "<statsmodels.tsa.statespace.sarimax.SARIMAXResultsWrapper object at 0x000001A1BDA57EC8>\n",
      "ARIMA(0, 0, 2)x(1, 0, 1, 12)12 - AIC:314.5511682940885\n",
      "(0, 0, 2)\n",
      "(1, 0, 2, 12)\n"
     ]
    },
    {
     "name": "stderr",
     "output_type": "stream",
     "text": [
      "C:\\Users\\Satya\\Anaconda3\\lib\\site-packages\\statsmodels\\base\\model.py:568: ConvergenceWarning: Maximum Likelihood optimization failed to converge. Check mle_retvals\n",
      "  \"Check mle_retvals\", ConvergenceWarning)\n"
     ]
    },
    {
     "name": "stdout",
     "output_type": "stream",
     "text": [
      "<statsmodels.tsa.statespace.sarimax.SARIMAXResultsWrapper object at 0x000001A1BDA4FE88>\n",
      "ARIMA(0, 0, 2)x(1, 0, 2, 12)12 - AIC:271.0494051641635\n",
      "(0, 0, 2)\n",
      "(1, 1, 0, 12)\n",
      "<statsmodels.tsa.statespace.sarimax.SARIMAXResultsWrapper object at 0x000001A1BDA49C48>\n",
      "ARIMA(0, 0, 2)x(1, 1, 0, 12)12 - AIC:315.6149373943489\n",
      "(0, 0, 2)\n",
      "(1, 1, 1, 12)\n",
      "<statsmodels.tsa.statespace.sarimax.SARIMAXResultsWrapper object at 0x000001A1BDA554C8>\n",
      "ARIMA(0, 0, 2)x(1, 1, 1, 12)12 - AIC:261.43052739913685\n",
      "(0, 0, 2)\n",
      "(1, 1, 2, 12)\n",
      "<statsmodels.tsa.statespace.sarimax.SARIMAXResultsWrapper object at 0x000001A1BDA52408>\n",
      "ARIMA(0, 0, 2)x(1, 1, 2, 12)12 - AIC:206.76703746568245\n",
      "(0, 0, 2)\n",
      "(1, 2, 0, 12)\n",
      "<statsmodels.tsa.statespace.sarimax.SARIMAXResultsWrapper object at 0x000001A1BDA58E08>\n",
      "ARIMA(0, 0, 2)x(1, 2, 0, 12)12 - AIC:254.2074423405378\n",
      "(0, 0, 2)\n",
      "(1, 2, 1, 12)\n",
      "<statsmodels.tsa.statespace.sarimax.SARIMAXResultsWrapper object at 0x000001A1BDA42D48>\n",
      "ARIMA(0, 0, 2)x(1, 2, 1, 12)12 - AIC:212.64949976758007\n",
      "(0, 0, 2)\n",
      "(1, 2, 2, 12)\n"
     ]
    },
    {
     "name": "stderr",
     "output_type": "stream",
     "text": [
      "C:\\Users\\Satya\\Anaconda3\\lib\\site-packages\\statsmodels\\base\\model.py:568: ConvergenceWarning: Maximum Likelihood optimization failed to converge. Check mle_retvals\n",
      "  \"Check mle_retvals\", ConvergenceWarning)\n"
     ]
    },
    {
     "name": "stdout",
     "output_type": "stream",
     "text": [
      "<statsmodels.tsa.statespace.sarimax.SARIMAXResultsWrapper object at 0x000001A1BDA58648>\n",
      "ARIMA(0, 0, 2)x(1, 2, 2, 12)12 - AIC:3144.6240648588\n",
      "(0, 0, 2)\n",
      "(2, 0, 0, 12)\n",
      "<statsmodels.tsa.statespace.sarimax.SARIMAXResultsWrapper object at 0x000001A1BDA505C8>\n",
      "ARIMA(0, 0, 2)x(2, 0, 0, 12)12 - AIC:277.91728512059706\n",
      "(0, 0, 2)\n",
      "(2, 0, 1, 12)\n"
     ]
    },
    {
     "name": "stderr",
     "output_type": "stream",
     "text": [
      "C:\\Users\\Satya\\Anaconda3\\lib\\site-packages\\statsmodels\\base\\model.py:568: ConvergenceWarning: Maximum Likelihood optimization failed to converge. Check mle_retvals\n",
      "  \"Check mle_retvals\", ConvergenceWarning)\n"
     ]
    },
    {
     "name": "stdout",
     "output_type": "stream",
     "text": [
      "<statsmodels.tsa.statespace.sarimax.SARIMAXResultsWrapper object at 0x000001A1BDA5A6C8>\n",
      "ARIMA(0, 0, 2)x(2, 0, 1, 12)12 - AIC:268.11253654197685\n",
      "(0, 0, 2)\n",
      "(2, 0, 2, 12)\n"
     ]
    },
    {
     "name": "stderr",
     "output_type": "stream",
     "text": [
      "C:\\Users\\Satya\\Anaconda3\\lib\\site-packages\\statsmodels\\base\\model.py:568: ConvergenceWarning: Maximum Likelihood optimization failed to converge. Check mle_retvals\n",
      "  \"Check mle_retvals\", ConvergenceWarning)\n"
     ]
    },
    {
     "name": "stdout",
     "output_type": "stream",
     "text": [
      "<statsmodels.tsa.statespace.sarimax.SARIMAXResultsWrapper object at 0x000001A1BDA44288>\n",
      "ARIMA(0, 0, 2)x(2, 0, 2, 12)12 - AIC:254.15852723720153\n",
      "(0, 0, 2)\n",
      "(2, 1, 0, 12)\n",
      "<statsmodels.tsa.statespace.sarimax.SARIMAXResultsWrapper object at 0x000001A1BDA56288>\n",
      "ARIMA(0, 0, 2)x(2, 1, 0, 12)12 - AIC:251.68697847282309\n",
      "(0, 0, 2)\n",
      "(2, 1, 1, 12)\n",
      "<statsmodels.tsa.statespace.sarimax.SARIMAXResultsWrapper object at 0x000001A1BDA56388>\n",
      "ARIMA(0, 0, 2)x(2, 1, 1, 12)12 - AIC:223.86757698271686\n",
      "(0, 0, 2)\n",
      "(2, 1, 2, 12)\n",
      "<statsmodels.tsa.statespace.sarimax.SARIMAXResultsWrapper object at 0x000001A1BDA5AE08>\n",
      "ARIMA(0, 0, 2)x(2, 1, 2, 12)12 - AIC:215.63599879576878\n",
      "(0, 0, 2)\n",
      "(2, 2, 0, 12)\n",
      "<statsmodels.tsa.statespace.sarimax.SARIMAXResultsWrapper object at 0x000001A1BD9F8B48>\n",
      "ARIMA(0, 0, 2)x(2, 2, 0, 12)12 - AIC:200.62680046202226\n",
      "(0, 0, 2)\n",
      "(2, 2, 1, 12)\n",
      "<statsmodels.tsa.statespace.sarimax.SARIMAXResultsWrapper object at 0x000001A1BDA59AC8>\n",
      "ARIMA(0, 0, 2)x(2, 2, 1, 12)12 - AIC:185.786306152506\n",
      "(0, 0, 2)\n",
      "(2, 2, 2, 12)\n"
     ]
    },
    {
     "name": "stderr",
     "output_type": "stream",
     "text": [
      "C:\\Users\\Satya\\Anaconda3\\lib\\site-packages\\statsmodels\\base\\model.py:568: ConvergenceWarning: Maximum Likelihood optimization failed to converge. Check mle_retvals\n",
      "  \"Check mle_retvals\", ConvergenceWarning)\n"
     ]
    },
    {
     "name": "stdout",
     "output_type": "stream",
     "text": [
      "<statsmodels.tsa.statespace.sarimax.SARIMAXResultsWrapper object at 0x000001A1BDA34408>\n",
      "ARIMA(0, 0, 2)x(2, 2, 2, 12)12 - AIC:3194.7638665893983\n",
      "(0, 1, 0)\n",
      "(0, 0, 0, 12)\n",
      "<statsmodels.tsa.statespace.sarimax.SARIMAXResultsWrapper object at 0x000001A1BDA58A88>\n",
      "ARIMA(0, 1, 0)x(0, 0, 0, 12)12 - AIC:786.8699052420452\n",
      "(0, 1, 0)\n",
      "(0, 0, 1, 12)\n",
      "<statsmodels.tsa.statespace.sarimax.SARIMAXResultsWrapper object at 0x000001A1BDA57E08>\n",
      "ARIMA(0, 1, 0)x(0, 0, 1, 12)12 - AIC:602.1004104925069\n",
      "(0, 1, 0)\n",
      "(0, 0, 2, 12)\n",
      "<statsmodels.tsa.statespace.sarimax.SARIMAXResultsWrapper object at 0x000001A1BDA582C8>\n",
      "ARIMA(0, 1, 0)x(0, 0, 2, 12)12 - AIC:481.8263358091692\n",
      "(0, 1, 0)\n",
      "(0, 1, 0, 12)\n",
      "<statsmodels.tsa.statespace.sarimax.SARIMAXResultsWrapper object at 0x000001A1BDA464C8>\n",
      "ARIMA(0, 1, 0)x(0, 1, 0, 12)12 - AIC:322.31932651233177\n",
      "(0, 1, 0)\n",
      "(0, 1, 1, 12)\n",
      "<statsmodels.tsa.statespace.sarimax.SARIMAXResultsWrapper object at 0x000001A1BDA57548>\n",
      "ARIMA(0, 1, 0)x(0, 1, 1, 12)12 - AIC:270.0926478756694\n",
      "(0, 1, 0)\n",
      "(0, 1, 2, 12)\n",
      "<statsmodels.tsa.statespace.sarimax.SARIMAXResultsWrapper object at 0x000001A1BDA56E08>\n",
      "ARIMA(0, 1, 0)x(0, 1, 2, 12)12 - AIC:239.2423026350553\n",
      "(0, 1, 0)\n",
      "(0, 2, 0, 12)\n",
      "<statsmodels.tsa.statespace.sarimax.SARIMAXResultsWrapper object at 0x000001A1BDA5A5C8>\n",
      "ARIMA(0, 1, 0)x(0, 2, 0, 12)12 - AIC:380.73739419566\n",
      "(0, 1, 0)\n",
      "(0, 2, 1, 12)\n",
      "<statsmodels.tsa.statespace.sarimax.SARIMAXResultsWrapper object at 0x000001A1BDA562C8>\n",
      "ARIMA(0, 1, 0)x(0, 2, 1, 12)12 - AIC:271.52049565454564\n",
      "(0, 1, 0)\n",
      "(0, 2, 2, 12)\n"
     ]
    },
    {
     "name": "stderr",
     "output_type": "stream",
     "text": [
      "C:\\Users\\Satya\\Anaconda3\\lib\\site-packages\\statsmodels\\base\\model.py:568: ConvergenceWarning: Maximum Likelihood optimization failed to converge. Check mle_retvals\n",
      "  \"Check mle_retvals\", ConvergenceWarning)\n"
     ]
    },
    {
     "name": "stdout",
     "output_type": "stream",
     "text": [
      "<statsmodels.tsa.statespace.sarimax.SARIMAXResultsWrapper object at 0x000001A1BDA56388>\n",
      "ARIMA(0, 1, 0)x(0, 2, 2, 12)12 - AIC:nan\n",
      "(0, 1, 0)\n",
      "(1, 0, 0, 12)\n",
      "<statsmodels.tsa.statespace.sarimax.SARIMAXResultsWrapper object at 0x000001A1BDA59848>\n",
      "ARIMA(0, 1, 0)x(1, 0, 0, 12)12 - AIC:323.5007311336255\n",
      "(0, 1, 0)\n",
      "(1, 0, 1, 12)\n",
      "<statsmodels.tsa.statespace.sarimax.SARIMAXResultsWrapper object at 0x000001A1BDA5A848>\n",
      "ARIMA(0, 1, 0)x(1, 0, 1, 12)12 - AIC:301.8011898441694\n",
      "(0, 1, 0)\n",
      "(1, 0, 2, 12)\n",
      "<statsmodels.tsa.statespace.sarimax.SARIMAXResultsWrapper object at 0x000001A1BDA548C8>\n",
      "ARIMA(0, 1, 0)x(1, 0, 2, 12)12 - AIC:269.55215487206044\n",
      "(0, 1, 0)\n",
      "(1, 1, 0, 12)\n",
      "<statsmodels.tsa.statespace.sarimax.SARIMAXResultsWrapper object at 0x000001A1BDA57B48>\n",
      "ARIMA(0, 1, 0)x(1, 1, 0, 12)12 - AIC:274.15488365147985\n",
      "(0, 1, 0)\n",
      "(1, 1, 1, 12)\n",
      "<statsmodels.tsa.statespace.sarimax.SARIMAXResultsWrapper object at 0x000001A1BDA55648>\n",
      "ARIMA(0, 1, 0)x(1, 1, 1, 12)12 - AIC:271.6731317812555\n",
      "(0, 1, 0)\n",
      "(1, 1, 2, 12)\n",
      "<statsmodels.tsa.statespace.sarimax.SARIMAXResultsWrapper object at 0x000001A1BDA56C88>\n",
      "ARIMA(0, 1, 0)x(1, 1, 2, 12)12 - AIC:241.24218681311086\n",
      "(0, 1, 0)\n",
      "(1, 2, 0, 12)\n",
      "<statsmodels.tsa.statespace.sarimax.SARIMAXResultsWrapper object at 0x000001A1BDA3E488>\n",
      "ARIMA(0, 1, 0)x(1, 2, 0, 12)12 - AIC:297.83737939869366\n",
      "(0, 1, 0)\n",
      "(1, 2, 1, 12)\n",
      "<statsmodels.tsa.statespace.sarimax.SARIMAXResultsWrapper object at 0x000001A1BDA5BC88>\n",
      "ARIMA(0, 1, 0)x(1, 2, 1, 12)12 - AIC:263.40817938828246\n",
      "(0, 1, 0)\n",
      "(1, 2, 2, 12)\n"
     ]
    },
    {
     "name": "stderr",
     "output_type": "stream",
     "text": [
      "C:\\Users\\Satya\\Anaconda3\\lib\\site-packages\\statsmodels\\base\\model.py:568: ConvergenceWarning: Maximum Likelihood optimization failed to converge. Check mle_retvals\n",
      "  \"Check mle_retvals\", ConvergenceWarning)\n"
     ]
    },
    {
     "name": "stdout",
     "output_type": "stream",
     "text": [
      "<statsmodels.tsa.statespace.sarimax.SARIMAXResultsWrapper object at 0x000001A1BDA5B888>\n",
      "ARIMA(0, 1, 0)x(1, 2, 2, 12)12 - AIC:2584.7286132154572\n",
      "(0, 1, 0)\n",
      "(2, 0, 0, 12)\n",
      "<statsmodels.tsa.statespace.sarimax.SARIMAXResultsWrapper object at 0x000001A1BDA59088>\n",
      "ARIMA(0, 1, 0)x(2, 0, 0, 12)12 - AIC:270.6785004375387\n",
      "(0, 1, 0)\n",
      "(2, 0, 1, 12)\n",
      "<statsmodels.tsa.statespace.sarimax.SARIMAXResultsWrapper object at 0x000001A1BDA55448>\n",
      "ARIMA(0, 1, 0)x(2, 0, 1, 12)12 - AIC:269.83200891414185\n",
      "(0, 1, 0)\n",
      "(2, 0, 2, 12)\n",
      "<statsmodels.tsa.statespace.sarimax.SARIMAXResultsWrapper object at 0x000001A1BD9FF448>\n",
      "ARIMA(0, 1, 0)x(2, 0, 2, 12)12 - AIC:269.8151326611698\n",
      "(0, 1, 0)\n",
      "(2, 1, 0, 12)\n",
      "<statsmodels.tsa.statespace.sarimax.SARIMAXResultsWrapper object at 0x000001A1BDA52848>\n",
      "ARIMA(0, 1, 0)x(2, 1, 0, 12)12 - AIC:240.15547333759983\n",
      "(0, 1, 0)\n",
      "(2, 1, 1, 12)\n",
      "<statsmodels.tsa.statespace.sarimax.SARIMAXResultsWrapper object at 0x000001A1BDA53A88>\n",
      "ARIMA(0, 1, 0)x(2, 1, 1, 12)12 - AIC:242.12478896019806\n",
      "(0, 1, 0)\n",
      "(2, 1, 2, 12)\n",
      "<statsmodels.tsa.statespace.sarimax.SARIMAXResultsWrapper object at 0x000001A1BDA534C8>\n",
      "ARIMA(0, 1, 0)x(2, 1, 2, 12)12 - AIC:241.2290287757537\n",
      "(0, 1, 0)\n",
      "(2, 2, 0, 12)\n"
     ]
    },
    {
     "name": "stderr",
     "output_type": "stream",
     "text": [
      "C:\\Users\\Satya\\Anaconda3\\lib\\site-packages\\statsmodels\\base\\model.py:568: ConvergenceWarning: Maximum Likelihood optimization failed to converge. Check mle_retvals\n",
      "  \"Check mle_retvals\", ConvergenceWarning)\n"
     ]
    },
    {
     "name": "stdout",
     "output_type": "stream",
     "text": [
      "<statsmodels.tsa.statespace.sarimax.SARIMAXResultsWrapper object at 0x000001A1BDA55648>\n",
      "ARIMA(0, 1, 0)x(2, 2, 0, 12)12 - AIC:236.33194283981464\n",
      "(0, 1, 0)\n",
      "(2, 2, 1, 12)\n",
      "<statsmodels.tsa.statespace.sarimax.SARIMAXResultsWrapper object at 0x000001A1BDA59F88>\n",
      "ARIMA(0, 1, 0)x(2, 2, 1, 12)12 - AIC:223.9326200574512\n",
      "(0, 1, 0)\n",
      "(2, 2, 2, 12)\n"
     ]
    },
    {
     "name": "stderr",
     "output_type": "stream",
     "text": [
      "C:\\Users\\Satya\\Anaconda3\\lib\\site-packages\\statsmodels\\base\\model.py:568: ConvergenceWarning: Maximum Likelihood optimization failed to converge. Check mle_retvals\n",
      "  \"Check mle_retvals\", ConvergenceWarning)\n"
     ]
    },
    {
     "name": "stdout",
     "output_type": "stream",
     "text": [
      "<statsmodels.tsa.statespace.sarimax.SARIMAXResultsWrapper object at 0x000001A1BDA5BA48>\n",
      "ARIMA(0, 1, 0)x(2, 2, 2, 12)12 - AIC:3115.1519394362454\n",
      "(0, 1, 1)\n",
      "(0, 0, 0, 12)\n",
      "<statsmodels.tsa.statespace.sarimax.SARIMAXResultsWrapper object at 0x000001A1BDA542C8>\n",
      "ARIMA(0, 1, 1)x(0, 0, 0, 12)12 - AIC:780.5981304018499\n",
      "(0, 1, 1)\n",
      "(0, 0, 1, 12)\n",
      "<statsmodels.tsa.statespace.sarimax.SARIMAXResultsWrapper object at 0x000001A1BDA54C88>\n",
      "ARIMA(0, 1, 1)x(0, 0, 1, 12)12 - AIC:597.3938523468786\n",
      "(0, 1, 1)\n",
      "(0, 0, 2, 12)\n",
      "<statsmodels.tsa.statespace.sarimax.SARIMAXResultsWrapper object at 0x000001A1BDA542C8>\n",
      "ARIMA(0, 1, 1)x(0, 0, 2, 12)12 - AIC:479.438667233285\n",
      "(0, 1, 1)\n",
      "(0, 1, 0, 12)\n",
      "<statsmodels.tsa.statespace.sarimax.SARIMAXResultsWrapper object at 0x000001A1BD9FB348>\n",
      "ARIMA(0, 1, 1)x(0, 1, 0, 12)12 - AIC:262.26540704397644\n",
      "(0, 1, 1)\n",
      "(0, 1, 1, 12)\n",
      "<statsmodels.tsa.statespace.sarimax.SARIMAXResultsWrapper object at 0x000001A1BDA4B208>\n",
      "ARIMA(0, 1, 1)x(0, 1, 1, 12)12 - AIC:209.65479095627248\n",
      "(0, 1, 1)\n",
      "(0, 1, 2, 12)\n",
      "<statsmodels.tsa.statespace.sarimax.SARIMAXResultsWrapper object at 0x000001A1BDA58908>\n",
      "ARIMA(0, 1, 1)x(0, 1, 2, 12)12 - AIC:184.1516269513649\n",
      "(0, 1, 1)\n",
      "(0, 2, 0, 12)\n",
      "<statsmodels.tsa.statespace.sarimax.SARIMAXResultsWrapper object at 0x000001A1BDA60F08>\n",
      "ARIMA(0, 1, 1)x(0, 2, 0, 12)12 - AIC:331.87308072956677\n",
      "(0, 1, 1)\n",
      "(0, 2, 1, 12)\n",
      "<statsmodels.tsa.statespace.sarimax.SARIMAXResultsWrapper object at 0x000001A1BDA60748>\n",
      "ARIMA(0, 1, 1)x(0, 2, 1, 12)12 - AIC:226.35434471572194\n",
      "(0, 1, 1)\n",
      "(0, 2, 2, 12)\n"
     ]
    },
    {
     "name": "stderr",
     "output_type": "stream",
     "text": [
      "C:\\Users\\Satya\\Anaconda3\\lib\\site-packages\\statsmodels\\base\\model.py:568: ConvergenceWarning: Maximum Likelihood optimization failed to converge. Check mle_retvals\n",
      "  \"Check mle_retvals\", ConvergenceWarning)\n"
     ]
    },
    {
     "name": "stdout",
     "output_type": "stream",
     "text": [
      "<statsmodels.tsa.statespace.sarimax.SARIMAXResultsWrapper object at 0x000001A1BDA60F08>\n",
      "ARIMA(0, 1, 1)x(0, 2, 2, 12)12 - AIC:nan\n",
      "(0, 1, 1)\n",
      "(1, 0, 0, 12)\n",
      "<statsmodels.tsa.statespace.sarimax.SARIMAXResultsWrapper object at 0x000001A1BDA5AE08>\n",
      "ARIMA(0, 1, 1)x(1, 0, 0, 12)12 - AIC:268.20436373657867\n",
      "(0, 1, 1)\n",
      "(1, 0, 1, 12)\n"
     ]
    },
    {
     "name": "stderr",
     "output_type": "stream",
     "text": [
      "C:\\Users\\Satya\\Anaconda3\\lib\\site-packages\\statsmodels\\base\\model.py:568: ConvergenceWarning: Maximum Likelihood optimization failed to converge. Check mle_retvals\n",
      "  \"Check mle_retvals\", ConvergenceWarning)\n"
     ]
    },
    {
     "name": "stdout",
     "output_type": "stream",
     "text": [
      "<statsmodels.tsa.statespace.sarimax.SARIMAXResultsWrapper object at 0x000001A1BDA5BE88>\n",
      "ARIMA(0, 1, 1)x(1, 0, 1, 12)12 - AIC:264.91651729115364\n",
      "(0, 1, 1)\n",
      "(1, 0, 2, 12)\n"
     ]
    },
    {
     "name": "stderr",
     "output_type": "stream",
     "text": [
      "C:\\Users\\Satya\\Anaconda3\\lib\\site-packages\\statsmodels\\base\\model.py:568: ConvergenceWarning: Maximum Likelihood optimization failed to converge. Check mle_retvals\n",
      "  \"Check mle_retvals\", ConvergenceWarning)\n"
     ]
    },
    {
     "name": "stdout",
     "output_type": "stream",
     "text": [
      "<statsmodels.tsa.statespace.sarimax.SARIMAXResultsWrapper object at 0x000001A1BDA52B48>\n",
      "ARIMA(0, 1, 1)x(1, 0, 2, 12)12 - AIC:215.1552273351087\n",
      "(0, 1, 1)\n",
      "(1, 1, 0, 12)\n",
      "<statsmodels.tsa.statespace.sarimax.SARIMAXResultsWrapper object at 0x000001A1BDA5A108>\n",
      "ARIMA(0, 1, 1)x(1, 1, 0, 12)12 - AIC:218.75707888228362\n",
      "(0, 1, 1)\n",
      "(1, 1, 1, 12)\n",
      "<statsmodels.tsa.statespace.sarimax.SARIMAXResultsWrapper object at 0x000001A1BDA60148>\n",
      "ARIMA(0, 1, 1)x(1, 1, 1, 12)12 - AIC:211.70102114276423\n",
      "(0, 1, 1)\n",
      "(1, 1, 2, 12)\n",
      "<statsmodels.tsa.statespace.sarimax.SARIMAXResultsWrapper object at 0x000001A1BDA60048>\n",
      "ARIMA(0, 1, 1)x(1, 1, 2, 12)12 - AIC:184.58955715286817\n",
      "(0, 1, 1)\n",
      "(1, 2, 0, 12)\n",
      "<statsmodels.tsa.statespace.sarimax.SARIMAXResultsWrapper object at 0x000001A1BDA48448>\n",
      "ARIMA(0, 1, 1)x(1, 2, 0, 12)12 - AIC:255.4624080658243\n",
      "(0, 1, 1)\n",
      "(1, 2, 1, 12)\n",
      "<statsmodels.tsa.statespace.sarimax.SARIMAXResultsWrapper object at 0x000001A1BDA60048>\n",
      "ARIMA(0, 1, 1)x(1, 2, 1, 12)12 - AIC:220.82321242337323\n",
      "(0, 1, 1)\n",
      "(1, 2, 2, 12)\n"
     ]
    },
    {
     "name": "stderr",
     "output_type": "stream",
     "text": [
      "C:\\Users\\Satya\\Anaconda3\\lib\\site-packages\\statsmodels\\base\\model.py:568: ConvergenceWarning: Maximum Likelihood optimization failed to converge. Check mle_retvals\n",
      "  \"Check mle_retvals\", ConvergenceWarning)\n"
     ]
    },
    {
     "name": "stdout",
     "output_type": "stream",
     "text": [
      "<statsmodels.tsa.statespace.sarimax.SARIMAXResultsWrapper object at 0x000001A1BDA5AA08>\n",
      "ARIMA(0, 1, 1)x(1, 2, 2, 12)12 - AIC:2734.7093589970455\n",
      "(0, 1, 1)\n",
      "(2, 0, 0, 12)\n",
      "<statsmodels.tsa.statespace.sarimax.SARIMAXResultsWrapper object at 0x000001A1BDA5B488>\n",
      "ARIMA(0, 1, 1)x(2, 0, 0, 12)12 - AIC:219.88018293502063\n",
      "(0, 1, 1)\n",
      "(2, 0, 1, 12)\n"
     ]
    },
    {
     "name": "stderr",
     "output_type": "stream",
     "text": [
      "C:\\Users\\Satya\\Anaconda3\\lib\\site-packages\\statsmodels\\base\\model.py:568: ConvergenceWarning: Maximum Likelihood optimization failed to converge. Check mle_retvals\n",
      "  \"Check mle_retvals\", ConvergenceWarning)\n"
     ]
    },
    {
     "name": "stdout",
     "output_type": "stream",
     "text": [
      "<statsmodels.tsa.statespace.sarimax.SARIMAXResultsWrapper object at 0x000001A1BDA33388>\n",
      "ARIMA(0, 1, 1)x(2, 0, 1, 12)12 - AIC:222.92420503879126\n",
      "(0, 1, 1)\n",
      "(2, 0, 2, 12)\n"
     ]
    },
    {
     "name": "stderr",
     "output_type": "stream",
     "text": [
      "C:\\Users\\Satya\\Anaconda3\\lib\\site-packages\\statsmodels\\base\\model.py:568: ConvergenceWarning: Maximum Likelihood optimization failed to converge. Check mle_retvals\n",
      "  \"Check mle_retvals\", ConvergenceWarning)\n"
     ]
    },
    {
     "name": "stdout",
     "output_type": "stream",
     "text": [
      "<statsmodels.tsa.statespace.sarimax.SARIMAXResultsWrapper object at 0x000001A1BDA5D248>\n",
      "ARIMA(0, 1, 1)x(2, 0, 2, 12)12 - AIC:223.97166867675338\n",
      "(0, 1, 1)\n",
      "(2, 1, 0, 12)\n",
      "<statsmodels.tsa.statespace.sarimax.SARIMAXResultsWrapper object at 0x000001A1BDA58DC8>\n",
      "ARIMA(0, 1, 1)x(2, 1, 0, 12)12 - AIC:187.95384024574741\n",
      "(0, 1, 1)\n",
      "(2, 1, 1, 12)\n",
      "<statsmodels.tsa.statespace.sarimax.SARIMAXResultsWrapper object at 0x000001A1BDA54E08>\n",
      "ARIMA(0, 1, 1)x(2, 1, 1, 12)12 - AIC:189.94616575506987\n",
      "(0, 1, 1)\n",
      "(2, 1, 2, 12)\n",
      "<statsmodels.tsa.statespace.sarimax.SARIMAXResultsWrapper object at 0x000001A1BDA51248>\n",
      "ARIMA(0, 1, 1)x(2, 1, 2, 12)12 - AIC:187.49507103177413\n",
      "(0, 1, 1)\n",
      "(2, 2, 0, 12)\n",
      "<statsmodels.tsa.statespace.sarimax.SARIMAXResultsWrapper object at 0x000001A1BDA44408>\n",
      "ARIMA(0, 1, 1)x(2, 2, 0, 12)12 - AIC:202.0639706439297\n",
      "(0, 1, 1)\n",
      "(2, 2, 1, 12)\n",
      "<statsmodels.tsa.statespace.sarimax.SARIMAXResultsWrapper object at 0x000001A1BDA5DEC8>\n",
      "ARIMA(0, 1, 1)x(2, 2, 1, 12)12 - AIC:188.52788328255303\n",
      "(0, 1, 1)\n",
      "(2, 2, 2, 12)\n"
     ]
    },
    {
     "name": "stderr",
     "output_type": "stream",
     "text": [
      "C:\\Users\\Satya\\Anaconda3\\lib\\site-packages\\statsmodels\\base\\model.py:568: ConvergenceWarning: Maximum Likelihood optimization failed to converge. Check mle_retvals\n",
      "  \"Check mle_retvals\", ConvergenceWarning)\n"
     ]
    },
    {
     "name": "stdout",
     "output_type": "stream",
     "text": [
      "<statsmodels.tsa.statespace.sarimax.SARIMAXResultsWrapper object at 0x000001A1BDA59808>\n",
      "ARIMA(0, 1, 1)x(2, 2, 2, 12)12 - AIC:2667.137702184597\n",
      "(0, 1, 2)\n",
      "(0, 0, 0, 12)\n",
      "<statsmodels.tsa.statespace.sarimax.SARIMAXResultsWrapper object at 0x000001A1BDA5DEC8>\n",
      "ARIMA(0, 1, 2)x(0, 0, 0, 12)12 - AIC:765.037879757302\n",
      "(0, 1, 2)\n",
      "(0, 0, 1, 12)\n",
      "<statsmodels.tsa.statespace.sarimax.SARIMAXResultsWrapper object at 0x000001A1BDA60048>\n",
      "ARIMA(0, 1, 2)x(0, 0, 1, 12)12 - AIC:582.8300862903968\n",
      "(0, 1, 2)\n",
      "(0, 0, 2, 12)\n",
      "<statsmodels.tsa.statespace.sarimax.SARIMAXResultsWrapper object at 0x000001A1BDA5BC88>\n",
      "ARIMA(0, 1, 2)x(0, 0, 2, 12)12 - AIC:463.25061075623023\n",
      "(0, 1, 2)\n",
      "(0, 1, 0, 12)\n",
      "<statsmodels.tsa.statespace.sarimax.SARIMAXResultsWrapper object at 0x000001A1BDA60048>\n",
      "ARIMA(0, 1, 2)x(0, 1, 0, 12)12 - AIC:256.8855202600444\n",
      "(0, 1, 2)\n",
      "(0, 1, 1, 12)\n",
      "<statsmodels.tsa.statespace.sarimax.SARIMAXResultsWrapper object at 0x000001A1BDA59848>\n",
      "ARIMA(0, 1, 2)x(0, 1, 1, 12)12 - AIC:208.2640448281004\n",
      "(0, 1, 2)\n",
      "(0, 1, 2, 12)\n",
      "<statsmodels.tsa.statespace.sarimax.SARIMAXResultsWrapper object at 0x000001A1BDA55948>\n",
      "ARIMA(0, 1, 2)x(0, 1, 2, 12)12 - AIC:184.76805510142844\n",
      "(0, 1, 2)\n",
      "(0, 2, 0, 12)\n",
      "<statsmodels.tsa.statespace.sarimax.SARIMAXResultsWrapper object at 0x000001A1BDA59D08>\n",
      "ARIMA(0, 1, 2)x(0, 2, 0, 12)12 - AIC:324.029464877853\n",
      "(0, 1, 2)\n",
      "(0, 2, 1, 12)\n",
      "<statsmodels.tsa.statespace.sarimax.SARIMAXResultsWrapper object at 0x000001A1BDA56BC8>\n",
      "ARIMA(0, 1, 2)x(0, 2, 1, 12)12 - AIC:225.18442543252513\n",
      "(0, 1, 2)\n",
      "(0, 2, 2, 12)\n"
     ]
    },
    {
     "name": "stderr",
     "output_type": "stream",
     "text": [
      "C:\\Users\\Satya\\Anaconda3\\lib\\site-packages\\statsmodels\\base\\model.py:568: ConvergenceWarning: Maximum Likelihood optimization failed to converge. Check mle_retvals\n",
      "  \"Check mle_retvals\", ConvergenceWarning)\n"
     ]
    },
    {
     "name": "stdout",
     "output_type": "stream",
     "text": [
      "<statsmodels.tsa.statespace.sarimax.SARIMAXResultsWrapper object at 0x000001A1BDA5B348>\n",
      "ARIMA(0, 1, 2)x(0, 2, 2, 12)12 - AIC:nan\n",
      "(0, 1, 2)\n",
      "(1, 0, 0, 12)\n",
      "<statsmodels.tsa.statespace.sarimax.SARIMAXResultsWrapper object at 0x000001A1BDA60788>\n",
      "ARIMA(0, 1, 2)x(1, 0, 0, 12)12 - AIC:269.5067133526378\n",
      "(0, 1, 2)\n",
      "(1, 0, 1, 12)\n"
     ]
    },
    {
     "name": "stderr",
     "output_type": "stream",
     "text": [
      "C:\\Users\\Satya\\Anaconda3\\lib\\site-packages\\statsmodels\\base\\model.py:568: ConvergenceWarning: Maximum Likelihood optimization failed to converge. Check mle_retvals\n",
      "  \"Check mle_retvals\", ConvergenceWarning)\n"
     ]
    },
    {
     "name": "stdout",
     "output_type": "stream",
     "text": [
      "<statsmodels.tsa.statespace.sarimax.SARIMAXResultsWrapper object at 0x000001A1BDA60708>\n",
      "ARIMA(0, 1, 2)x(1, 0, 1, 12)12 - AIC:263.8573000648723\n",
      "(0, 1, 2)\n",
      "(1, 0, 2, 12)\n"
     ]
    },
    {
     "name": "stderr",
     "output_type": "stream",
     "text": [
      "C:\\Users\\Satya\\Anaconda3\\lib\\site-packages\\statsmodels\\base\\model.py:568: ConvergenceWarning: Maximum Likelihood optimization failed to converge. Check mle_retvals\n",
      "  \"Check mle_retvals\", ConvergenceWarning)\n"
     ]
    },
    {
     "name": "stdout",
     "output_type": "stream",
     "text": [
      "<statsmodels.tsa.statespace.sarimax.SARIMAXResultsWrapper object at 0x000001A1BDA525C8>\n",
      "ARIMA(0, 1, 2)x(1, 0, 2, 12)12 - AIC:210.9339561128211\n",
      "(0, 1, 2)\n",
      "(1, 1, 0, 12)\n",
      "<statsmodels.tsa.statespace.sarimax.SARIMAXResultsWrapper object at 0x000001A1BDA41FC8>\n",
      "ARIMA(0, 1, 2)x(1, 1, 0, 12)12 - AIC:220.53594636671306\n",
      "(0, 1, 2)\n",
      "(1, 1, 1, 12)\n",
      "<statsmodels.tsa.statespace.sarimax.SARIMAXResultsWrapper object at 0x000001A1BDA60108>\n",
      "ARIMA(0, 1, 2)x(1, 1, 1, 12)12 - AIC:209.3508634122797\n",
      "(0, 1, 2)\n",
      "(1, 1, 2, 12)\n",
      "<statsmodels.tsa.statespace.sarimax.SARIMAXResultsWrapper object at 0x000001A1BDA60BC8>\n",
      "ARIMA(0, 1, 2)x(1, 1, 2, 12)12 - AIC:184.9706941254908\n",
      "(0, 1, 2)\n",
      "(1, 2, 0, 12)\n",
      "<statsmodels.tsa.statespace.sarimax.SARIMAXResultsWrapper object at 0x000001A1BDA5D9C8>\n",
      "ARIMA(0, 1, 2)x(1, 2, 0, 12)12 - AIC:256.58878543831526\n",
      "(0, 1, 2)\n",
      "(1, 2, 1, 12)\n",
      "<statsmodels.tsa.statespace.sarimax.SARIMAXResultsWrapper object at 0x000001A1BDA5B808>\n",
      "ARIMA(0, 1, 2)x(1, 2, 1, 12)12 - AIC:218.53229525624653\n",
      "(0, 1, 2)\n",
      "(1, 2, 2, 12)\n"
     ]
    },
    {
     "name": "stderr",
     "output_type": "stream",
     "text": [
      "C:\\Users\\Satya\\Anaconda3\\lib\\site-packages\\statsmodels\\base\\model.py:568: ConvergenceWarning: Maximum Likelihood optimization failed to converge. Check mle_retvals\n",
      "  \"Check mle_retvals\", ConvergenceWarning)\n"
     ]
    },
    {
     "name": "stdout",
     "output_type": "stream",
     "text": [
      "<statsmodels.tsa.statespace.sarimax.SARIMAXResultsWrapper object at 0x000001A1BDA60C48>\n",
      "ARIMA(0, 1, 2)x(1, 2, 2, 12)12 - AIC:2980.089237214716\n",
      "(0, 1, 2)\n",
      "(2, 0, 0, 12)\n",
      "<statsmodels.tsa.statespace.sarimax.SARIMAXResultsWrapper object at 0x000001A1BDA52708>\n",
      "ARIMA(0, 1, 2)x(2, 0, 0, 12)12 - AIC:221.51820248842392\n",
      "(0, 1, 2)\n",
      "(2, 0, 1, 12)\n"
     ]
    },
    {
     "name": "stderr",
     "output_type": "stream",
     "text": [
      "C:\\Users\\Satya\\Anaconda3\\lib\\site-packages\\statsmodels\\base\\model.py:568: ConvergenceWarning: Maximum Likelihood optimization failed to converge. Check mle_retvals\n",
      "  \"Check mle_retvals\", ConvergenceWarning)\n"
     ]
    },
    {
     "name": "stdout",
     "output_type": "stream",
     "text": [
      "<statsmodels.tsa.statespace.sarimax.SARIMAXResultsWrapper object at 0x000001A1BDA60C48>\n",
      "ARIMA(0, 1, 2)x(2, 0, 1, 12)12 - AIC:224.77334699380643\n",
      "(0, 1, 2)\n",
      "(2, 0, 2, 12)\n"
     ]
    },
    {
     "name": "stderr",
     "output_type": "stream",
     "text": [
      "C:\\Users\\Satya\\Anaconda3\\lib\\site-packages\\statsmodels\\base\\model.py:568: ConvergenceWarning: Maximum Likelihood optimization failed to converge. Check mle_retvals\n",
      "  \"Check mle_retvals\", ConvergenceWarning)\n"
     ]
    },
    {
     "name": "stdout",
     "output_type": "stream",
     "text": [
      "<statsmodels.tsa.statespace.sarimax.SARIMAXResultsWrapper object at 0x000001A1BDA60F88>\n",
      "ARIMA(0, 1, 2)x(2, 0, 2, 12)12 - AIC:225.93838937851265\n",
      "(0, 1, 2)\n",
      "(2, 1, 0, 12)\n",
      "<statsmodels.tsa.statespace.sarimax.SARIMAXResultsWrapper object at 0x000001A1B9EB99C8>\n",
      "ARIMA(0, 1, 2)x(2, 1, 0, 12)12 - AIC:189.917392339785\n",
      "(0, 1, 2)\n",
      "(2, 1, 1, 12)\n",
      "<statsmodels.tsa.statespace.sarimax.SARIMAXResultsWrapper object at 0x000001A1BDA60D48>\n",
      "ARIMA(0, 1, 2)x(2, 1, 1, 12)12 - AIC:191.90429274824524\n",
      "(0, 1, 2)\n",
      "(2, 1, 2, 12)\n",
      "<statsmodels.tsa.statespace.sarimax.SARIMAXResultsWrapper object at 0x000001A1BDA5A108>\n",
      "ARIMA(0, 1, 2)x(2, 1, 2, 12)12 - AIC:186.19189031166354\n",
      "(0, 1, 2)\n",
      "(2, 2, 0, 12)\n",
      "<statsmodels.tsa.statespace.sarimax.SARIMAXResultsWrapper object at 0x000001A1BDA3EF08>\n",
      "ARIMA(0, 1, 2)x(2, 2, 0, 12)12 - AIC:203.1437382259255\n",
      "(0, 1, 2)\n",
      "(2, 2, 1, 12)\n",
      "<statsmodels.tsa.statespace.sarimax.SARIMAXResultsWrapper object at 0x000001A1BDA35448>\n",
      "ARIMA(0, 1, 2)x(2, 2, 1, 12)12 - AIC:190.16214178174178\n",
      "(0, 1, 2)\n",
      "(2, 2, 2, 12)\n"
     ]
    },
    {
     "name": "stderr",
     "output_type": "stream",
     "text": [
      "C:\\Users\\Satya\\Anaconda3\\lib\\site-packages\\statsmodels\\base\\model.py:568: ConvergenceWarning: Maximum Likelihood optimization failed to converge. Check mle_retvals\n",
      "  \"Check mle_retvals\", ConvergenceWarning)\n"
     ]
    },
    {
     "name": "stdout",
     "output_type": "stream",
     "text": [
      "<statsmodels.tsa.statespace.sarimax.SARIMAXResultsWrapper object at 0x000001A1BDA487C8>\n",
      "ARIMA(0, 1, 2)x(2, 2, 2, 12)12 - AIC:3142.091825299256\n",
      "(0, 2, 0)\n",
      "(0, 0, 0, 12)\n",
      "<statsmodels.tsa.statespace.sarimax.SARIMAXResultsWrapper object at 0x000001A1BDA4A7C8>\n",
      "ARIMA(0, 2, 0)x(0, 0, 0, 12)12 - AIC:848.3906427020725\n",
      "(0, 2, 0)\n",
      "(0, 0, 1, 12)\n",
      "<statsmodels.tsa.statespace.sarimax.SARIMAXResultsWrapper object at 0x000001A1BDA4EB88>\n",
      "ARIMA(0, 2, 0)x(0, 0, 1, 12)12 - AIC:650.0669382870627\n",
      "(0, 2, 0)\n",
      "(0, 0, 2, 12)\n",
      "<statsmodels.tsa.statespace.sarimax.SARIMAXResultsWrapper object at 0x000001A1BDA5ABC8>\n",
      "ARIMA(0, 2, 0)x(0, 0, 2, 12)12 - AIC:528.7808614416896\n",
      "(0, 2, 0)\n",
      "(0, 1, 0, 12)\n",
      "<statsmodels.tsa.statespace.sarimax.SARIMAXResultsWrapper object at 0x000001A1BDA46BC8>\n",
      "ARIMA(0, 2, 0)x(0, 1, 0, 12)12 - AIC:434.7412011553178\n",
      "(0, 2, 0)\n",
      "(0, 1, 1, 12)\n",
      "<statsmodels.tsa.statespace.sarimax.SARIMAXResultsWrapper object at 0x000001A1BDA5DC88>\n",
      "ARIMA(0, 2, 0)x(0, 1, 1, 12)12 - AIC:372.06732988846403\n",
      "(0, 2, 0)\n",
      "(0, 1, 2, 12)\n",
      "<statsmodels.tsa.statespace.sarimax.SARIMAXResultsWrapper object at 0x000001A1BDA35048>\n",
      "ARIMA(0, 2, 0)x(0, 1, 2, 12)12 - AIC:326.63405786652925\n",
      "(0, 2, 0)\n",
      "(0, 2, 0, 12)\n",
      "<statsmodels.tsa.statespace.sarimax.SARIMAXResultsWrapper object at 0x000001A1BDA4C888>\n",
      "ARIMA(0, 2, 0)x(0, 2, 0, 12)12 - AIC:478.7860746071892\n",
      "(0, 2, 0)\n",
      "(0, 2, 1, 12)\n",
      "<statsmodels.tsa.statespace.sarimax.SARIMAXResultsWrapper object at 0x000001A1BDA4A308>\n",
      "ARIMA(0, 2, 0)x(0, 2, 1, 12)12 - AIC:356.9608024161613\n",
      "(0, 2, 0)\n",
      "(0, 2, 2, 12)\n",
      "<statsmodels.tsa.statespace.sarimax.SARIMAXResultsWrapper object at 0x000001A1BDA35188>\n",
      "ARIMA(0, 2, 0)x(0, 2, 2, 12)12 - AIC:2908.8817441057245\n",
      "(0, 2, 0)\n",
      "(1, 0, 0, 12)\n",
      "<statsmodels.tsa.statespace.sarimax.SARIMAXResultsWrapper object at 0x000001A1BDA5B608>\n",
      "ARIMA(0, 2, 0)x(1, 0, 0, 12)12 - AIC:431.6533453224629\n",
      "(0, 2, 0)\n",
      "(1, 0, 1, 12)\n",
      "<statsmodels.tsa.statespace.sarimax.SARIMAXResultsWrapper object at 0x000001A1BDA46CC8>\n",
      "ARIMA(0, 2, 0)x(1, 0, 1, 12)12 - AIC:408.53351814384143\n",
      "(0, 2, 0)\n",
      "(1, 0, 2, 12)\n",
      "<statsmodels.tsa.statespace.sarimax.SARIMAXResultsWrapper object at 0x000001A1BDA5B908>\n",
      "ARIMA(0, 2, 0)x(1, 0, 2, 12)12 - AIC:364.5430926774168\n",
      "(0, 2, 0)\n",
      "(1, 1, 0, 12)\n",
      "<statsmodels.tsa.statespace.sarimax.SARIMAXResultsWrapper object at 0x000001A1BDA34D88>\n",
      "ARIMA(0, 2, 0)x(1, 1, 0, 12)12 - AIC:374.6642109586332\n",
      "(0, 2, 0)\n",
      "(1, 1, 1, 12)\n",
      "<statsmodels.tsa.statespace.sarimax.SARIMAXResultsWrapper object at 0x000001A1BDA60BC8>\n",
      "ARIMA(0, 2, 0)x(1, 1, 1, 12)12 - AIC:372.4091424484423\n",
      "(0, 2, 0)\n",
      "(1, 1, 2, 12)\n",
      "<statsmodels.tsa.statespace.sarimax.SARIMAXResultsWrapper object at 0x000001A1BDA35B88>\n",
      "ARIMA(0, 2, 0)x(1, 1, 2, 12)12 - AIC:328.511833871468\n",
      "(0, 2, 0)\n",
      "(1, 2, 0, 12)\n",
      "<statsmodels.tsa.statespace.sarimax.SARIMAXResultsWrapper object at 0x000001A1BDA41F48>\n",
      "ARIMA(0, 2, 0)x(1, 2, 0, 12)12 - AIC:382.95005726484254\n",
      "(0, 2, 0)\n",
      "(1, 2, 1, 12)\n",
      "<statsmodels.tsa.statespace.sarimax.SARIMAXResultsWrapper object at 0x000001A1BD9FB988>\n",
      "ARIMA(0, 2, 0)x(1, 2, 1, 12)12 - AIC:346.5300779838295\n",
      "(0, 2, 0)\n",
      "(1, 2, 2, 12)\n",
      "<statsmodels.tsa.statespace.sarimax.SARIMAXResultsWrapper object at 0x000001A1BDA59088>\n",
      "ARIMA(0, 2, 0)x(1, 2, 2, 12)12 - AIC:2860.340483888949\n",
      "(0, 2, 0)\n",
      "(2, 0, 0, 12)\n",
      "<statsmodels.tsa.statespace.sarimax.SARIMAXResultsWrapper object at 0x000001A1BDA47388>\n",
      "ARIMA(0, 2, 0)x(2, 0, 0, 12)12 - AIC:365.915369143095\n",
      "(0, 2, 0)\n",
      "(2, 0, 1, 12)\n",
      "<statsmodels.tsa.statespace.sarimax.SARIMAXResultsWrapper object at 0x000001A1BDA3FA88>\n",
      "ARIMA(0, 2, 0)x(2, 0, 1, 12)12 - AIC:365.80425366619954\n",
      "(0, 2, 0)\n",
      "(2, 0, 2, 12)\n",
      "<statsmodels.tsa.statespace.sarimax.SARIMAXResultsWrapper object at 0x000001A1BDA5C048>\n",
      "ARIMA(0, 2, 0)x(2, 0, 2, 12)12 - AIC:364.8987414268774\n",
      "(0, 2, 0)\n",
      "(2, 1, 0, 12)\n",
      "<statsmodels.tsa.statespace.sarimax.SARIMAXResultsWrapper object at 0x000001A1BDA5B188>\n",
      "ARIMA(0, 2, 0)x(2, 1, 0, 12)12 - AIC:329.9378184352419\n",
      "(0, 2, 0)\n",
      "(2, 1, 1, 12)\n",
      "<statsmodels.tsa.statespace.sarimax.SARIMAXResultsWrapper object at 0x000001A1BDA5AD48>\n",
      "ARIMA(0, 2, 0)x(2, 1, 1, 12)12 - AIC:331.91588317234215\n",
      "(0, 2, 0)\n",
      "(2, 1, 2, 12)\n",
      "<statsmodels.tsa.statespace.sarimax.SARIMAXResultsWrapper object at 0x000001A1BDA5C508>\n",
      "ARIMA(0, 2, 0)x(2, 1, 2, 12)12 - AIC:329.4177231666198\n",
      "(0, 2, 0)\n",
      "(2, 2, 0, 12)\n",
      "<statsmodels.tsa.statespace.sarimax.SARIMAXResultsWrapper object at 0x000001A1BDA5C088>\n",
      "ARIMA(0, 2, 0)x(2, 2, 0, 12)12 - AIC:304.9239710625191\n",
      "(0, 2, 0)\n",
      "(2, 2, 1, 12)\n",
      "<statsmodels.tsa.statespace.sarimax.SARIMAXResultsWrapper object at 0x000001A1BDA554C8>\n",
      "ARIMA(0, 2, 0)x(2, 2, 1, 12)12 - AIC:296.23841739630393\n",
      "(0, 2, 0)\n",
      "(2, 2, 2, 12)\n",
      "<statsmodels.tsa.statespace.sarimax.SARIMAXResultsWrapper object at 0x000001A1BDA59708>\n",
      "ARIMA(0, 2, 0)x(2, 2, 2, 12)12 - AIC:2680.6517570461265\n",
      "(0, 2, 1)\n",
      "(0, 0, 0, 12)\n",
      "<statsmodels.tsa.statespace.sarimax.SARIMAXResultsWrapper object at 0x000001A1BDA56AC8>\n",
      "ARIMA(0, 2, 1)x(0, 0, 0, 12)12 - AIC:782.2319010402429\n",
      "(0, 2, 1)\n",
      "(0, 0, 1, 12)\n",
      "<statsmodels.tsa.statespace.sarimax.SARIMAXResultsWrapper object at 0x000001A1BDA38BC8>\n",
      "ARIMA(0, 2, 1)x(0, 0, 1, 12)12 - AIC:597.9373732618516\n",
      "(0, 2, 1)\n",
      "(0, 0, 2, 12)\n",
      "<statsmodels.tsa.statespace.sarimax.SARIMAXResultsWrapper object at 0x000001A1BDA64788>\n",
      "ARIMA(0, 2, 1)x(0, 0, 2, 12)12 - AIC:477.2186077431701\n",
      "(0, 2, 1)\n",
      "(0, 1, 0, 12)\n",
      "<statsmodels.tsa.statespace.sarimax.SARIMAXResultsWrapper object at 0x000001A1BDA553C8>\n",
      "ARIMA(0, 2, 1)x(0, 1, 0, 12)12 - AIC:323.6711011990093\n",
      "(0, 2, 1)\n",
      "(0, 1, 1, 12)\n",
      "<statsmodels.tsa.statespace.sarimax.SARIMAXResultsWrapper object at 0x000001A1BDA5C788>\n",
      "ARIMA(0, 2, 1)x(0, 1, 1, 12)12 - AIC:269.5776280040603\n",
      "(0, 2, 1)\n",
      "(0, 1, 2, 12)\n",
      "<statsmodels.tsa.statespace.sarimax.SARIMAXResultsWrapper object at 0x000001A1BDA649C8>\n",
      "ARIMA(0, 2, 1)x(0, 1, 2, 12)12 - AIC:240.05311048607683\n",
      "(0, 2, 1)\n",
      "(0, 2, 0, 12)\n",
      "<statsmodels.tsa.statespace.sarimax.SARIMAXResultsWrapper object at 0x000001A1BDA56F08>\n",
      "ARIMA(0, 2, 1)x(0, 2, 0, 12)12 - AIC:377.8825754508079\n",
      "(0, 2, 1)\n",
      "(0, 2, 1, 12)\n",
      "<statsmodels.tsa.statespace.sarimax.SARIMAXResultsWrapper object at 0x000001A1BDA56B88>\n",
      "ARIMA(0, 2, 1)x(0, 2, 1, 12)12 - AIC:271.85203202216167\n",
      "(0, 2, 1)\n",
      "(0, 2, 2, 12)\n"
     ]
    },
    {
     "name": "stderr",
     "output_type": "stream",
     "text": [
      "C:\\Users\\Satya\\Anaconda3\\lib\\site-packages\\statsmodels\\base\\model.py:568: ConvergenceWarning: Maximum Likelihood optimization failed to converge. Check mle_retvals\n",
      "  \"Check mle_retvals\", ConvergenceWarning)\n"
     ]
    },
    {
     "name": "stdout",
     "output_type": "stream",
     "text": [
      "<statsmodels.tsa.statespace.sarimax.SARIMAXResultsWrapper object at 0x000001A1BDA56388>\n",
      "ARIMA(0, 2, 1)x(0, 2, 2, 12)12 - AIC:nan\n",
      "(0, 2, 1)\n",
      "(1, 0, 0, 12)\n",
      "<statsmodels.tsa.statespace.sarimax.SARIMAXResultsWrapper object at 0x000001A1BDA49A08>\n",
      "ARIMA(0, 2, 1)x(1, 0, 0, 12)12 - AIC:328.182067825769\n",
      "(0, 2, 1)\n",
      "(1, 0, 1, 12)\n",
      "<statsmodels.tsa.statespace.sarimax.SARIMAXResultsWrapper object at 0x000001A1BDA34D88>\n",
      "ARIMA(0, 2, 1)x(1, 0, 1, 12)12 - AIC:304.1150236989234\n",
      "(0, 2, 1)\n",
      "(1, 0, 2, 12)\n"
     ]
    },
    {
     "name": "stderr",
     "output_type": "stream",
     "text": [
      "C:\\Users\\Satya\\Anaconda3\\lib\\site-packages\\statsmodels\\base\\model.py:568: ConvergenceWarning: Maximum Likelihood optimization failed to converge. Check mle_retvals\n",
      "  \"Check mle_retvals\", ConvergenceWarning)\n"
     ]
    },
    {
     "name": "stdout",
     "output_type": "stream",
     "text": [
      "<statsmodels.tsa.statespace.sarimax.SARIMAXResultsWrapper object at 0x000001A1BDA5C448>\n",
      "ARIMA(0, 2, 1)x(1, 0, 2, 12)12 - AIC:270.4667197663007\n",
      "(0, 2, 1)\n",
      "(1, 1, 0, 12)\n",
      "<statsmodels.tsa.statespace.sarimax.SARIMAXResultsWrapper object at 0x000001A1BDA57E08>\n",
      "ARIMA(0, 2, 1)x(1, 1, 0, 12)12 - AIC:278.85794210887565\n",
      "(0, 2, 1)\n",
      "(1, 1, 1, 12)\n",
      "<statsmodels.tsa.statespace.sarimax.SARIMAXResultsWrapper object at 0x000001A1BDA34F48>\n",
      "ARIMA(0, 2, 1)x(1, 1, 1, 12)12 - AIC:271.90517730134997\n",
      "(0, 2, 1)\n",
      "(1, 1, 2, 12)\n",
      "<statsmodels.tsa.statespace.sarimax.SARIMAXResultsWrapper object at 0x000001A1BDA35DC8>\n",
      "ARIMA(0, 2, 1)x(1, 1, 2, 12)12 - AIC:241.9244632916201\n",
      "(0, 2, 1)\n",
      "(1, 2, 0, 12)\n",
      "<statsmodels.tsa.statespace.sarimax.SARIMAXResultsWrapper object at 0x000001A1BDA568C8>\n",
      "ARIMA(0, 2, 1)x(1, 2, 0, 12)12 - AIC:301.7090742717187\n",
      "(0, 2, 1)\n",
      "(1, 2, 1, 12)\n",
      "<statsmodels.tsa.statespace.sarimax.SARIMAXResultsWrapper object at 0x000001A1BDA57188>\n",
      "ARIMA(0, 2, 1)x(1, 2, 1, 12)12 - AIC:265.17951079073214\n",
      "(0, 2, 1)\n",
      "(1, 2, 2, 12)\n",
      "<statsmodels.tsa.statespace.sarimax.SARIMAXResultsWrapper object at 0x000001A1BDA57648>\n",
      "ARIMA(0, 2, 1)x(1, 2, 2, 12)12 - AIC:4880.8881162591515\n",
      "(0, 2, 1)\n",
      "(2, 0, 0, 12)\n",
      "<statsmodels.tsa.statespace.sarimax.SARIMAXResultsWrapper object at 0x000001A1BDA64B88>\n",
      "ARIMA(0, 2, 1)x(2, 0, 0, 12)12 - AIC:275.43699296660986\n",
      "(0, 2, 1)\n",
      "(2, 0, 1, 12)\n",
      "<statsmodels.tsa.statespace.sarimax.SARIMAXResultsWrapper object at 0x000001A1BDA54DC8>\n",
      "ARIMA(0, 2, 1)x(2, 0, 1, 12)12 - AIC:275.1732918327043\n",
      "(0, 2, 1)\n",
      "(2, 0, 2, 12)\n"
     ]
    },
    {
     "name": "stderr",
     "output_type": "stream",
     "text": [
      "C:\\Users\\Satya\\Anaconda3\\lib\\site-packages\\statsmodels\\base\\model.py:568: ConvergenceWarning: Maximum Likelihood optimization failed to converge. Check mle_retvals\n",
      "  \"Check mle_retvals\", ConvergenceWarning)\n"
     ]
    },
    {
     "name": "stdout",
     "output_type": "stream",
     "text": [
      "<statsmodels.tsa.statespace.sarimax.SARIMAXResultsWrapper object at 0x000001A1BDA5D988>\n",
      "ARIMA(0, 2, 1)x(2, 0, 2, 12)12 - AIC:270.2888258787941\n",
      "(0, 2, 1)\n",
      "(2, 1, 0, 12)\n",
      "<statsmodels.tsa.statespace.sarimax.SARIMAXResultsWrapper object at 0x000001A1BDA54F08>\n",
      "ARIMA(0, 2, 1)x(2, 1, 0, 12)12 - AIC:244.7379779434529\n",
      "(0, 2, 1)\n",
      "(2, 1, 1, 12)\n",
      "<statsmodels.tsa.statespace.sarimax.SARIMAXResultsWrapper object at 0x000001A1BDA38208>\n",
      "ARIMA(0, 2, 1)x(2, 1, 1, 12)12 - AIC:246.73720707910394\n",
      "(0, 2, 1)\n",
      "(2, 1, 2, 12)\n",
      "<statsmodels.tsa.statespace.sarimax.SARIMAXResultsWrapper object at 0x000001A1BDA5CAC8>\n",
      "ARIMA(0, 2, 1)x(2, 1, 2, 12)12 - AIC:242.86535212173987\n",
      "(0, 2, 1)\n",
      "(2, 2, 0, 12)\n",
      "<statsmodels.tsa.statespace.sarimax.SARIMAXResultsWrapper object at 0x000001A1BDA5A3C8>\n",
      "ARIMA(0, 2, 1)x(2, 2, 0, 12)12 - AIC:240.33116507752584\n",
      "(0, 2, 1)\n",
      "(2, 2, 1, 12)\n",
      "<statsmodels.tsa.statespace.sarimax.SARIMAXResultsWrapper object at 0x000001A1BDA352C8>\n",
      "ARIMA(0, 2, 1)x(2, 2, 1, 12)12 - AIC:229.96186521150358\n",
      "(0, 2, 1)\n",
      "(2, 2, 2, 12)\n",
      "<statsmodels.tsa.statespace.sarimax.SARIMAXResultsWrapper object at 0x000001A1BDA58388>\n",
      "ARIMA(0, 2, 1)x(2, 2, 2, 12)12 - AIC:4475.877594688365\n",
      "(0, 2, 2)\n",
      "(0, 0, 0, 12)\n",
      "<statsmodels.tsa.statespace.sarimax.SARIMAXResultsWrapper object at 0x000001A1BDA64508>\n",
      "ARIMA(0, 2, 2)x(0, 0, 0, 12)12 - AIC:775.0285564842296\n",
      "(0, 2, 2)\n",
      "(0, 0, 1, 12)\n",
      "<statsmodels.tsa.statespace.sarimax.SARIMAXResultsWrapper object at 0x000001A1BDA53788>\n",
      "ARIMA(0, 2, 2)x(0, 0, 1, 12)12 - AIC:593.2703678051412\n",
      "(0, 2, 2)\n",
      "(0, 0, 2, 12)\n",
      "<statsmodels.tsa.statespace.sarimax.SARIMAXResultsWrapper object at 0x000001A1BDA64A08>\n",
      "ARIMA(0, 2, 2)x(0, 0, 2, 12)12 - AIC:474.7547610450546\n",
      "(0, 2, 2)\n",
      "(0, 1, 0, 12)\n",
      "<statsmodels.tsa.statespace.sarimax.SARIMAXResultsWrapper object at 0x000001A1BDA66E08>\n",
      "ARIMA(0, 2, 2)x(0, 1, 0, 12)12 - AIC:265.97232246644313\n",
      "(0, 2, 2)\n",
      "(0, 1, 1, 12)\n",
      "<statsmodels.tsa.statespace.sarimax.SARIMAXResultsWrapper object at 0x000001A1BDA57248>\n",
      "ARIMA(0, 2, 2)x(0, 1, 1, 12)12 - AIC:210.05553552151179\n",
      "(0, 2, 2)\n",
      "(0, 1, 2, 12)\n",
      "<statsmodels.tsa.statespace.sarimax.SARIMAXResultsWrapper object at 0x000001A1BDA64EC8>\n",
      "ARIMA(0, 2, 2)x(0, 1, 2, 12)12 - AIC:190.0079416339448\n",
      "(0, 2, 2)\n",
      "(0, 2, 0, 12)\n",
      "<statsmodels.tsa.statespace.sarimax.SARIMAXResultsWrapper object at 0x000001A1BDA52D48>\n",
      "ARIMA(0, 2, 2)x(0, 2, 0, 12)12 - AIC:333.68087113707486\n",
      "(0, 2, 2)\n",
      "(0, 2, 1, 12)\n",
      "<statsmodels.tsa.statespace.sarimax.SARIMAXResultsWrapper object at 0x000001A1BD9FF648>\n",
      "ARIMA(0, 2, 2)x(0, 2, 1, 12)12 - AIC:228.453157045375\n",
      "(0, 2, 2)\n",
      "(0, 2, 2, 12)\n",
      "<statsmodels.tsa.statespace.sarimax.SARIMAXResultsWrapper object at 0x000001A1BDA64B48>\n",
      "ARIMA(0, 2, 2)x(0, 2, 2, 12)12 - AIC:2832.5340230345196\n",
      "(0, 2, 2)\n",
      "(1, 0, 0, 12)\n",
      "<statsmodels.tsa.statespace.sarimax.SARIMAXResultsWrapper object at 0x000001A1BDA59788>\n",
      "ARIMA(0, 2, 2)x(1, 0, 0, 12)12 - AIC:280.2786728290843\n",
      "(0, 2, 2)\n",
      "(1, 0, 1, 12)\n"
     ]
    },
    {
     "name": "stderr",
     "output_type": "stream",
     "text": [
      "C:\\Users\\Satya\\Anaconda3\\lib\\site-packages\\statsmodels\\base\\model.py:568: ConvergenceWarning: Maximum Likelihood optimization failed to converge. Check mle_retvals\n",
      "  \"Check mle_retvals\", ConvergenceWarning)\n"
     ]
    },
    {
     "name": "stdout",
     "output_type": "stream",
     "text": [
      "<statsmodels.tsa.statespace.sarimax.SARIMAXResultsWrapper object at 0x000001A1BDA53F88>\n",
      "ARIMA(0, 2, 2)x(1, 0, 1, 12)12 - AIC:270.83100648468917\n",
      "(0, 2, 2)\n",
      "(1, 0, 2, 12)\n"
     ]
    },
    {
     "name": "stderr",
     "output_type": "stream",
     "text": [
      "C:\\Users\\Satya\\Anaconda3\\lib\\site-packages\\statsmodels\\base\\model.py:568: ConvergenceWarning: Maximum Likelihood optimization failed to converge. Check mle_retvals\n",
      "  \"Check mle_retvals\", ConvergenceWarning)\n"
     ]
    },
    {
     "name": "stdout",
     "output_type": "stream",
     "text": [
      "<statsmodels.tsa.statespace.sarimax.SARIMAXResultsWrapper object at 0x000001A1BDA5CB88>\n",
      "ARIMA(0, 2, 2)x(1, 0, 2, 12)12 - AIC:221.47347178326027\n",
      "(0, 2, 2)\n",
      "(1, 1, 0, 12)\n"
     ]
    },
    {
     "name": "stderr",
     "output_type": "stream",
     "text": [
      "C:\\Users\\Satya\\Anaconda3\\lib\\site-packages\\statsmodels\\base\\model.py:568: ConvergenceWarning: Maximum Likelihood optimization failed to converge. Check mle_retvals\n",
      "  \"Check mle_retvals\", ConvergenceWarning)\n"
     ]
    },
    {
     "name": "stdout",
     "output_type": "stream",
     "text": [
      "<statsmodels.tsa.statespace.sarimax.SARIMAXResultsWrapper object at 0x000001A1BDA66C08>\n",
      "ARIMA(0, 2, 2)x(1, 1, 0, 12)12 - AIC:230.7242176669144\n",
      "(0, 2, 2)\n",
      "(1, 1, 1, 12)\n",
      "<statsmodels.tsa.statespace.sarimax.SARIMAXResultsWrapper object at 0x000001A1BDA433C8>\n",
      "ARIMA(0, 2, 2)x(1, 1, 1, 12)12 - AIC:217.8338467225586\n",
      "(0, 2, 2)\n",
      "(1, 1, 2, 12)\n",
      "<statsmodels.tsa.statespace.sarimax.SARIMAXResultsWrapper object at 0x000001A1BDA43C08>\n",
      "ARIMA(0, 2, 2)x(1, 1, 2, 12)12 - AIC:190.82009755255677\n",
      "(0, 2, 2)\n",
      "(1, 2, 0, 12)\n",
      "<statsmodels.tsa.statespace.sarimax.SARIMAXResultsWrapper object at 0x000001A1BDA35E08>\n",
      "ARIMA(0, 2, 2)x(1, 2, 0, 12)12 - AIC:265.6868909695995\n",
      "(0, 2, 2)\n",
      "(1, 2, 1, 12)\n",
      "<statsmodels.tsa.statespace.sarimax.SARIMAXResultsWrapper object at 0x000001A1BDA66E08>\n",
      "ARIMA(0, 2, 2)x(1, 2, 1, 12)12 - AIC:226.63438967320224\n",
      "(0, 2, 2)\n",
      "(1, 2, 2, 12)\n",
      "<statsmodels.tsa.statespace.sarimax.SARIMAXResultsWrapper object at 0x000001A1BDA665C8>\n",
      "ARIMA(0, 2, 2)x(1, 2, 2, 12)12 - AIC:2781.6639487687203\n",
      "(0, 2, 2)\n",
      "(2, 0, 0, 12)\n",
      "<statsmodels.tsa.statespace.sarimax.SARIMAXResultsWrapper object at 0x000001A1BDA4EFC8>\n",
      "ARIMA(0, 2, 2)x(2, 0, 0, 12)12 - AIC:231.5291479803695\n",
      "(0, 2, 2)\n",
      "(2, 0, 1, 12)\n",
      "<statsmodels.tsa.statespace.sarimax.SARIMAXResultsWrapper object at 0x000001A1BB5CCDC8>\n",
      "ARIMA(0, 2, 2)x(2, 0, 1, 12)12 - AIC:228.37355089599936\n",
      "(0, 2, 2)\n",
      "(2, 0, 2, 12)\n"
     ]
    },
    {
     "name": "stderr",
     "output_type": "stream",
     "text": [
      "C:\\Users\\Satya\\Anaconda3\\lib\\site-packages\\statsmodels\\base\\model.py:568: ConvergenceWarning: Maximum Likelihood optimization failed to converge. Check mle_retvals\n",
      "  \"Check mle_retvals\", ConvergenceWarning)\n"
     ]
    },
    {
     "name": "stdout",
     "output_type": "stream",
     "text": [
      "<statsmodels.tsa.statespace.sarimax.SARIMAXResultsWrapper object at 0x000001A1BB5A2788>\n",
      "ARIMA(0, 2, 2)x(2, 0, 2, 12)12 - AIC:221.51964830961285\n",
      "(0, 2, 2)\n",
      "(2, 1, 0, 12)\n",
      "<statsmodels.tsa.statespace.sarimax.SARIMAXResultsWrapper object at 0x000001A1BDA49888>\n",
      "ARIMA(0, 2, 2)x(2, 1, 0, 12)12 - AIC:198.98625189678683\n",
      "(0, 2, 2)\n",
      "(2, 1, 1, 12)\n",
      "<statsmodels.tsa.statespace.sarimax.SARIMAXResultsWrapper object at 0x000001A1BDA4BF88>\n",
      "ARIMA(0, 2, 2)x(2, 1, 1, 12)12 - AIC:200.98584918857637\n",
      "(0, 2, 2)\n",
      "(2, 1, 2, 12)\n",
      "<statsmodels.tsa.statespace.sarimax.SARIMAXResultsWrapper object at 0x000001A1BDA4B9C8>\n",
      "ARIMA(0, 2, 2)x(2, 1, 2, 12)12 - AIC:193.4920928931034\n",
      "(0, 2, 2)\n",
      "(2, 2, 0, 12)\n",
      "<statsmodels.tsa.statespace.sarimax.SARIMAXResultsWrapper object at 0x000001A1BB5CC948>\n",
      "ARIMA(0, 2, 2)x(2, 2, 0, 12)12 - AIC:211.99606818322377\n",
      "(0, 2, 2)\n",
      "(2, 2, 1, 12)\n",
      "<statsmodels.tsa.statespace.sarimax.SARIMAXResultsWrapper object at 0x000001A1BB5CF488>\n",
      "ARIMA(0, 2, 2)x(2, 2, 1, 12)12 - AIC:198.25225736888524\n",
      "(0, 2, 2)\n",
      "(2, 2, 2, 12)\n"
     ]
    },
    {
     "name": "stderr",
     "output_type": "stream",
     "text": [
      "C:\\Users\\Satya\\Anaconda3\\lib\\site-packages\\statsmodels\\base\\model.py:568: ConvergenceWarning: Maximum Likelihood optimization failed to converge. Check mle_retvals\n",
      "  \"Check mle_retvals\", ConvergenceWarning)\n"
     ]
    },
    {
     "name": "stdout",
     "output_type": "stream",
     "text": [
      "<statsmodels.tsa.statespace.sarimax.SARIMAXResultsWrapper object at 0x000001A1BDA45708>\n",
      "ARIMA(0, 2, 2)x(2, 2, 2, 12)12 - AIC:2955.078384176319\n",
      "(1, 0, 0)\n",
      "(0, 0, 0, 12)\n",
      "<statsmodels.tsa.statespace.sarimax.SARIMAXResultsWrapper object at 0x000001A1BB5CA088>\n",
      "ARIMA(1, 0, 0)x(0, 0, 0, 12)12 - AIC:793.4195139269734\n",
      "(1, 0, 0)\n",
      "(0, 0, 1, 12)\n",
      "<statsmodels.tsa.statespace.sarimax.SARIMAXResultsWrapper object at 0x000001A1BD9FFE48>\n",
      "ARIMA(1, 0, 0)x(0, 0, 1, 12)12 - AIC:608.2448802438387\n",
      "(1, 0, 0)\n",
      "(0, 0, 2, 12)\n"
     ]
    },
    {
     "name": "stderr",
     "output_type": "stream",
     "text": [
      "C:\\Users\\Satya\\Anaconda3\\lib\\site-packages\\statsmodels\\base\\model.py:568: ConvergenceWarning: Maximum Likelihood optimization failed to converge. Check mle_retvals\n",
      "  \"Check mle_retvals\", ConvergenceWarning)\n"
     ]
    },
    {
     "name": "stdout",
     "output_type": "stream",
     "text": [
      "<statsmodels.tsa.statespace.sarimax.SARIMAXResultsWrapper object at 0x000001A1BDA2CEC8>\n",
      "ARIMA(1, 0, 0)x(0, 0, 2, 12)12 - AIC:544.2194174044232\n",
      "(1, 0, 0)\n",
      "(0, 1, 0, 12)\n",
      "<statsmodels.tsa.statespace.sarimax.SARIMAXResultsWrapper object at 0x000001A1BD9F0288>\n",
      "ARIMA(1, 0, 0)x(0, 1, 0, 12)12 - AIC:320.57376208890236\n",
      "(1, 0, 0)\n",
      "(0, 1, 1, 12)\n",
      "<statsmodels.tsa.statespace.sarimax.SARIMAXResultsWrapper object at 0x000001A1BDA2CEC8>\n",
      "ARIMA(1, 0, 0)x(0, 1, 1, 12)12 - AIC:271.7280992728931\n",
      "(1, 0, 0)\n",
      "(0, 1, 2, 12)\n",
      "<statsmodels.tsa.statespace.sarimax.SARIMAXResultsWrapper object at 0x000001A1BDA4B288>\n",
      "ARIMA(1, 0, 0)x(0, 1, 2, 12)12 - AIC:241.47534265371095\n",
      "(1, 0, 0)\n",
      "(0, 2, 0, 12)\n",
      "<statsmodels.tsa.statespace.sarimax.SARIMAXResultsWrapper object at 0x000001A1BB5A2288>\n",
      "ARIMA(1, 0, 0)x(0, 2, 0, 12)12 - AIC:330.84085404144463\n",
      "(1, 0, 0)\n",
      "(0, 2, 1, 12)\n",
      "<statsmodels.tsa.statespace.sarimax.SARIMAXResultsWrapper object at 0x000001A1BB5CCF48>\n",
      "ARIMA(1, 0, 0)x(0, 2, 1, 12)12 - AIC:224.96871180231835\n",
      "(1, 0, 0)\n",
      "(0, 2, 2, 12)\n"
     ]
    },
    {
     "name": "stderr",
     "output_type": "stream",
     "text": [
      "C:\\Users\\Satya\\Anaconda3\\lib\\site-packages\\statsmodels\\base\\model.py:568: ConvergenceWarning: Maximum Likelihood optimization failed to converge. Check mle_retvals\n",
      "  \"Check mle_retvals\", ConvergenceWarning)\n"
     ]
    },
    {
     "name": "stdout",
     "output_type": "stream",
     "text": [
      "<statsmodels.tsa.statespace.sarimax.SARIMAXResultsWrapper object at 0x000001A1BD9F0FC8>\n",
      "ARIMA(1, 0, 0)x(0, 2, 2, 12)12 - AIC:2694.6942185354665\n",
      "(1, 0, 0)\n",
      "(1, 0, 0, 12)\n",
      "<statsmodels.tsa.statespace.sarimax.SARIMAXResultsWrapper object at 0x000001A1BDA4E848>\n",
      "ARIMA(1, 0, 0)x(1, 0, 0, 12)12 - AIC:321.2658284916068\n",
      "(1, 0, 0)\n",
      "(1, 0, 1, 12)\n"
     ]
    },
    {
     "name": "stderr",
     "output_type": "stream",
     "text": [
      "C:\\Users\\Satya\\Anaconda3\\lib\\site-packages\\statsmodels\\base\\model.py:568: ConvergenceWarning: Maximum Likelihood optimization failed to converge. Check mle_retvals\n",
      "  \"Check mle_retvals\", ConvergenceWarning)\n"
     ]
    },
    {
     "name": "stdout",
     "output_type": "stream",
     "text": [
      "<statsmodels.tsa.statespace.sarimax.SARIMAXResultsWrapper object at 0x000001A1BD9F0908>\n",
      "ARIMA(1, 0, 0)x(1, 0, 1, 12)12 - AIC:318.36693841710843\n",
      "(1, 0, 0)\n",
      "(1, 0, 2, 12)\n",
      "<statsmodels.tsa.statespace.sarimax.SARIMAXResultsWrapper object at 0x000001A1BD9F0E48>\n",
      "ARIMA(1, 0, 0)x(1, 0, 2, 12)12 - AIC:273.33163146828355\n",
      "(1, 0, 0)\n",
      "(1, 1, 0, 12)\n",
      "<statsmodels.tsa.statespace.sarimax.SARIMAXResultsWrapper object at 0x000001A1BB5CCB48>\n",
      "ARIMA(1, 0, 0)x(1, 1, 0, 12)12 - AIC:272.4394336731894\n",
      "(1, 0, 0)\n",
      "(1, 1, 1, 12)\n",
      "<statsmodels.tsa.statespace.sarimax.SARIMAXResultsWrapper object at 0x000001A1BDA53208>\n",
      "ARIMA(1, 0, 0)x(1, 1, 1, 12)12 - AIC:264.85715257659444\n",
      "(1, 0, 0)\n",
      "(1, 1, 2, 12)\n",
      "<statsmodels.tsa.statespace.sarimax.SARIMAXResultsWrapper object at 0x000001A1BDA560C8>\n",
      "ARIMA(1, 0, 0)x(1, 1, 2, 12)12 - AIC:208.94780449661724\n",
      "(1, 0, 0)\n",
      "(1, 2, 0, 12)\n",
      "<statsmodels.tsa.statespace.sarimax.SARIMAXResultsWrapper object at 0x000001A1BD9F8148>\n",
      "ARIMA(1, 0, 0)x(1, 2, 0, 12)12 - AIC:250.11910833364738\n",
      "(1, 0, 0)\n",
      "(1, 2, 1, 12)\n",
      "<statsmodels.tsa.statespace.sarimax.SARIMAXResultsWrapper object at 0x000001A1BDA42648>\n",
      "ARIMA(1, 0, 0)x(1, 2, 1, 12)12 - AIC:217.4823382847858\n",
      "(1, 0, 0)\n",
      "(1, 2, 2, 12)\n"
     ]
    },
    {
     "name": "stderr",
     "output_type": "stream",
     "text": [
      "C:\\Users\\Satya\\Anaconda3\\lib\\site-packages\\statsmodels\\base\\model.py:568: ConvergenceWarning: Maximum Likelihood optimization failed to converge. Check mle_retvals\n",
      "  \"Check mle_retvals\", ConvergenceWarning)\n"
     ]
    },
    {
     "name": "stdout",
     "output_type": "stream",
     "text": [
      "<statsmodels.tsa.statespace.sarimax.SARIMAXResultsWrapper object at 0x000001A1BD9FBF08>\n",
      "ARIMA(1, 0, 0)x(1, 2, 2, 12)12 - AIC:2588.3377641878574\n",
      "(1, 0, 0)\n",
      "(2, 0, 0, 12)\n",
      "<statsmodels.tsa.statespace.sarimax.SARIMAXResultsWrapper object at 0x000001A1BDA56508>\n",
      "ARIMA(1, 0, 0)x(2, 0, 0, 12)12 - AIC:275.56319230192616\n",
      "(1, 0, 0)\n",
      "(2, 0, 1, 12)\n",
      "<statsmodels.tsa.statespace.sarimax.SARIMAXResultsWrapper object at 0x000001A1BDA01A88>\n",
      "ARIMA(1, 0, 0)x(2, 0, 1, 12)12 - AIC:264.0049532233686\n",
      "(1, 0, 0)\n",
      "(2, 0, 2, 12)\n"
     ]
    },
    {
     "name": "stderr",
     "output_type": "stream",
     "text": [
      "C:\\Users\\Satya\\Anaconda3\\lib\\site-packages\\statsmodels\\base\\model.py:568: ConvergenceWarning: Maximum Likelihood optimization failed to converge. Check mle_retvals\n",
      "  \"Check mle_retvals\", ConvergenceWarning)\n"
     ]
    },
    {
     "name": "stdout",
     "output_type": "stream",
     "text": [
      "<statsmodels.tsa.statespace.sarimax.SARIMAXResultsWrapper object at 0x000001A1BB5CFD08>\n",
      "ARIMA(1, 0, 0)x(2, 0, 2, 12)12 - AIC:254.81073872999482\n",
      "(1, 0, 0)\n",
      "(2, 1, 0, 12)\n",
      "<statsmodels.tsa.statespace.sarimax.SARIMAXResultsWrapper object at 0x000001A1BDA01A88>\n",
      "ARIMA(1, 0, 0)x(2, 1, 0, 12)12 - AIC:248.10109300842004\n",
      "(1, 0, 0)\n",
      "(2, 1, 1, 12)\n",
      "<statsmodels.tsa.statespace.sarimax.SARIMAXResultsWrapper object at 0x000001A1BDA495C8>\n",
      "ARIMA(1, 0, 0)x(2, 1, 1, 12)12 - AIC:219.20508050912966\n",
      "(1, 0, 0)\n",
      "(2, 1, 2, 12)\n",
      "<statsmodels.tsa.statespace.sarimax.SARIMAXResultsWrapper object at 0x000001A1BDA48348>\n",
      "ARIMA(1, 0, 0)x(2, 1, 2, 12)12 - AIC:220.5889536220154\n",
      "(1, 0, 0)\n",
      "(2, 2, 0, 12)\n",
      "<statsmodels.tsa.statespace.sarimax.SARIMAXResultsWrapper object at 0x000001A1BDA4E988>\n",
      "ARIMA(1, 0, 0)x(2, 2, 0, 12)12 - AIC:197.06089055805964\n",
      "(1, 0, 0)\n",
      "(2, 2, 1, 12)\n",
      "<statsmodels.tsa.statespace.sarimax.SARIMAXResultsWrapper object at 0x000001A1BDA496C8>\n",
      "ARIMA(1, 0, 0)x(2, 2, 1, 12)12 - AIC:181.99210817747996\n",
      "(1, 0, 0)\n",
      "(2, 2, 2, 12)\n"
     ]
    },
    {
     "name": "stderr",
     "output_type": "stream",
     "text": [
      "C:\\Users\\Satya\\Anaconda3\\lib\\site-packages\\statsmodels\\base\\model.py:568: ConvergenceWarning: Maximum Likelihood optimization failed to converge. Check mle_retvals\n",
      "  \"Check mle_retvals\", ConvergenceWarning)\n"
     ]
    },
    {
     "name": "stdout",
     "output_type": "stream",
     "text": [
      "<statsmodels.tsa.statespace.sarimax.SARIMAXResultsWrapper object at 0x000001A1BDA48F08>\n",
      "ARIMA(1, 0, 0)x(2, 2, 2, 12)12 - AIC:2640.0926434248995\n",
      "(1, 0, 1)\n",
      "(0, 0, 0, 12)\n",
      "<statsmodels.tsa.statespace.sarimax.SARIMAXResultsWrapper object at 0x000001A1BDA56948>\n",
      "ARIMA(1, 0, 1)x(0, 0, 0, 12)12 - AIC:786.4383923131869\n",
      "(1, 0, 1)\n",
      "(0, 0, 1, 12)\n",
      "<statsmodels.tsa.statespace.sarimax.SARIMAXResultsWrapper object at 0x000001A1BDA49748>\n",
      "ARIMA(1, 0, 1)x(0, 0, 1, 12)12 - AIC:603.4719321315868\n",
      "(1, 0, 1)\n",
      "(0, 0, 2, 12)\n"
     ]
    },
    {
     "name": "stderr",
     "output_type": "stream",
     "text": [
      "C:\\Users\\Satya\\Anaconda3\\lib\\site-packages\\statsmodels\\base\\model.py:568: ConvergenceWarning: Maximum Likelihood optimization failed to converge. Check mle_retvals\n",
      "  \"Check mle_retvals\", ConvergenceWarning)\n"
     ]
    },
    {
     "name": "stdout",
     "output_type": "stream",
     "text": [
      "<statsmodels.tsa.statespace.sarimax.SARIMAXResultsWrapper object at 0x000001A1BDA53688>\n",
      "ARIMA(1, 0, 1)x(0, 0, 2, 12)12 - AIC:539.2150101178369\n",
      "(1, 0, 1)\n",
      "(0, 1, 0, 12)\n",
      "<statsmodels.tsa.statespace.sarimax.SARIMAXResultsWrapper object at 0x000001A1BDA60788>\n",
      "ARIMA(1, 0, 1)x(0, 1, 0, 12)12 - AIC:265.9193237700527\n",
      "(1, 0, 1)\n",
      "(0, 1, 1, 12)\n",
      "<statsmodels.tsa.statespace.sarimax.SARIMAXResultsWrapper object at 0x000001A1BDA531C8>\n",
      "ARIMA(1, 0, 1)x(0, 1, 1, 12)12 - AIC:212.87641131209526\n",
      "(1, 0, 1)\n",
      "(0, 1, 2, 12)\n",
      "<statsmodels.tsa.statespace.sarimax.SARIMAXResultsWrapper object at 0x000001A1BB5CD988>\n",
      "ARIMA(1, 0, 1)x(0, 1, 2, 12)12 - AIC:187.2094087747637\n",
      "(1, 0, 1)\n",
      "(0, 2, 0, 12)\n",
      "<statsmodels.tsa.statespace.sarimax.SARIMAXResultsWrapper object at 0x000001A1BB5B6C48>\n",
      "ARIMA(1, 0, 1)x(0, 2, 0, 12)12 - AIC:329.52364499617136\n",
      "(1, 0, 1)\n",
      "(0, 2, 1, 12)\n",
      "<statsmodels.tsa.statespace.sarimax.SARIMAXResultsWrapper object at 0x000001A1BDA58488>\n",
      "ARIMA(1, 0, 1)x(0, 2, 1, 12)12 - AIC:223.6723732171286\n",
      "(1, 0, 1)\n",
      "(0, 2, 2, 12)\n"
     ]
    },
    {
     "name": "stderr",
     "output_type": "stream",
     "text": [
      "C:\\Users\\Satya\\Anaconda3\\lib\\site-packages\\statsmodels\\base\\model.py:568: ConvergenceWarning: Maximum Likelihood optimization failed to converge. Check mle_retvals\n",
      "  \"Check mle_retvals\", ConvergenceWarning)\n"
     ]
    },
    {
     "name": "stdout",
     "output_type": "stream",
     "text": [
      "<statsmodels.tsa.statespace.sarimax.SARIMAXResultsWrapper object at 0x000001A1BDA59CC8>\n",
      "ARIMA(1, 0, 1)x(0, 2, 2, 12)12 - AIC:2872.140090502033\n",
      "(1, 0, 1)\n",
      "(1, 0, 0, 12)\n",
      "<statsmodels.tsa.statespace.sarimax.SARIMAXResultsWrapper object at 0x000001A1BB5CD6C8>\n",
      "ARIMA(1, 0, 1)x(1, 0, 0, 12)12 - AIC:270.1830846664186\n",
      "(1, 0, 1)\n",
      "(1, 0, 1, 12)\n",
      "<statsmodels.tsa.statespace.sarimax.SARIMAXResultsWrapper object at 0x000001A1BD9FF8C8>\n",
      "ARIMA(1, 0, 1)x(1, 0, 1, 12)12 - AIC:242.48690525012847\n",
      "(1, 0, 1)\n",
      "(1, 0, 2, 12)\n",
      "<statsmodels.tsa.statespace.sarimax.SARIMAXResultsWrapper object at 0x000001A1BDA35E88>\n",
      "ARIMA(1, 0, 1)x(1, 0, 2, 12)12 - AIC:218.14112217883613\n",
      "(1, 0, 1)\n",
      "(1, 1, 0, 12)\n",
      "<statsmodels.tsa.statespace.sarimax.SARIMAXResultsWrapper object at 0x000001A1BDA358C8>\n",
      "ARIMA(1, 0, 1)x(1, 1, 0, 12)12 - AIC:220.74002060091686\n",
      "(1, 0, 1)\n",
      "(1, 1, 1, 12)\n",
      "<statsmodels.tsa.statespace.sarimax.SARIMAXResultsWrapper object at 0x000001A1BDA5BD88>\n",
      "ARIMA(1, 0, 1)x(1, 1, 1, 12)12 - AIC:215.29363980485067\n",
      "(1, 0, 1)\n",
      "(1, 1, 2, 12)\n"
     ]
    },
    {
     "name": "stderr",
     "output_type": "stream",
     "text": [
      "C:\\Users\\Satya\\Anaconda3\\lib\\site-packages\\statsmodels\\base\\model.py:568: ConvergenceWarning: Maximum Likelihood optimization failed to converge. Check mle_retvals\n",
      "  \"Check mle_retvals\", ConvergenceWarning)\n"
     ]
    },
    {
     "name": "stdout",
     "output_type": "stream",
     "text": [
      "<statsmodels.tsa.statespace.sarimax.SARIMAXResultsWrapper object at 0x000001A1BDA38208>\n",
      "ARIMA(1, 0, 1)x(1, 1, 2, 12)12 - AIC:187.90796507634946\n",
      "(1, 0, 1)\n",
      "(1, 2, 0, 12)\n",
      "<statsmodels.tsa.statespace.sarimax.SARIMAXResultsWrapper object at 0x000001A1AD35C388>\n",
      "ARIMA(1, 0, 1)x(1, 2, 0, 12)12 - AIC:252.10096261367192\n",
      "(1, 0, 1)\n",
      "(1, 2, 1, 12)\n",
      "<statsmodels.tsa.statespace.sarimax.SARIMAXResultsWrapper object at 0x000001A1BDA38788>\n",
      "ARIMA(1, 0, 1)x(1, 2, 1, 12)12 - AIC:216.32706814910844\n",
      "(1, 0, 1)\n",
      "(1, 2, 2, 12)\n"
     ]
    },
    {
     "name": "stderr",
     "output_type": "stream",
     "text": [
      "C:\\Users\\Satya\\Anaconda3\\lib\\site-packages\\statsmodels\\base\\model.py:568: ConvergenceWarning: Maximum Likelihood optimization failed to converge. Check mle_retvals\n",
      "  \"Check mle_retvals\", ConvergenceWarning)\n"
     ]
    },
    {
     "name": "stdout",
     "output_type": "stream",
     "text": [
      "<statsmodels.tsa.statespace.sarimax.SARIMAXResultsWrapper object at 0x000001A1BDA58A48>\n",
      "ARIMA(1, 0, 1)x(1, 2, 2, 12)12 - AIC:2767.179323647005\n",
      "(1, 0, 1)\n",
      "(2, 0, 0, 12)\n",
      "<statsmodels.tsa.statespace.sarimax.SARIMAXResultsWrapper object at 0x000001A1BDA64508>\n",
      "ARIMA(1, 0, 1)x(2, 0, 0, 12)12 - AIC:221.57111235681558\n",
      "(1, 0, 1)\n",
      "(2, 0, 1, 12)\n"
     ]
    },
    {
     "name": "stderr",
     "output_type": "stream",
     "text": [
      "C:\\Users\\Satya\\Anaconda3\\lib\\site-packages\\statsmodels\\base\\model.py:568: ConvergenceWarning: Maximum Likelihood optimization failed to converge. Check mle_retvals\n",
      "  \"Check mle_retvals\", ConvergenceWarning)\n"
     ]
    },
    {
     "name": "stdout",
     "output_type": "stream",
     "text": [
      "<statsmodels.tsa.statespace.sarimax.SARIMAXResultsWrapper object at 0x000001A1BDA68F08>\n",
      "ARIMA(1, 0, 1)x(2, 0, 1, 12)12 - AIC:217.84884837424482\n",
      "(1, 0, 1)\n",
      "(2, 0, 2, 12)\n"
     ]
    },
    {
     "name": "stderr",
     "output_type": "stream",
     "text": [
      "C:\\Users\\Satya\\Anaconda3\\lib\\site-packages\\statsmodels\\base\\model.py:568: ConvergenceWarning: Maximum Likelihood optimization failed to converge. Check mle_retvals\n",
      "  \"Check mle_retvals\", ConvergenceWarning)\n"
     ]
    },
    {
     "name": "stdout",
     "output_type": "stream",
     "text": [
      "<statsmodels.tsa.statespace.sarimax.SARIMAXResultsWrapper object at 0x000001A1BDA35B08>\n",
      "ARIMA(1, 0, 1)x(2, 0, 2, 12)12 - AIC:227.32902928673928\n",
      "(1, 0, 1)\n",
      "(2, 1, 0, 12)\n",
      "<statsmodels.tsa.statespace.sarimax.SARIMAXResultsWrapper object at 0x000001A1BDA60688>\n",
      "ARIMA(1, 0, 1)x(2, 1, 0, 12)12 - AIC:189.68686685354615\n",
      "(1, 0, 1)\n",
      "(2, 1, 1, 12)\n",
      "<statsmodels.tsa.statespace.sarimax.SARIMAXResultsWrapper object at 0x000001A1BDA5BA88>\n",
      "ARIMA(1, 0, 1)x(2, 1, 1, 12)12 - AIC:189.6990245589766\n",
      "(1, 0, 1)\n",
      "(2, 1, 2, 12)\n",
      "<statsmodels.tsa.statespace.sarimax.SARIMAXResultsWrapper object at 0x000001A1BDA66508>\n",
      "ARIMA(1, 0, 1)x(2, 1, 2, 12)12 - AIC:190.08784430060535\n",
      "(1, 0, 1)\n",
      "(2, 2, 0, 12)\n",
      "<statsmodels.tsa.statespace.sarimax.SARIMAXResultsWrapper object at 0x000001A1B9F06B88>\n",
      "ARIMA(1, 0, 1)x(2, 2, 0, 12)12 - AIC:196.91938565558482\n",
      "(1, 0, 1)\n",
      "(2, 2, 1, 12)\n",
      "<statsmodels.tsa.statespace.sarimax.SARIMAXResultsWrapper object at 0x000001A1B88AFE08>\n",
      "ARIMA(1, 0, 1)x(2, 2, 1, 12)12 - AIC:183.98988316426372\n",
      "(1, 0, 1)\n",
      "(2, 2, 2, 12)\n"
     ]
    },
    {
     "name": "stderr",
     "output_type": "stream",
     "text": [
      "C:\\Users\\Satya\\Anaconda3\\lib\\site-packages\\statsmodels\\base\\model.py:568: ConvergenceWarning: Maximum Likelihood optimization failed to converge. Check mle_retvals\n",
      "  \"Check mle_retvals\", ConvergenceWarning)\n"
     ]
    },
    {
     "name": "stdout",
     "output_type": "stream",
     "text": [
      "<statsmodels.tsa.statespace.sarimax.SARIMAXResultsWrapper object at 0x000001A1B9F06C88>\n",
      "ARIMA(1, 0, 1)x(2, 2, 2, 12)12 - AIC:2818.016735804462\n",
      "(1, 0, 2)\n",
      "(0, 0, 0, 12)\n",
      "<statsmodels.tsa.statespace.sarimax.SARIMAXResultsWrapper object at 0x000001A1B9F0B488>\n",
      "ARIMA(1, 0, 2)x(0, 0, 0, 12)12 - AIC:780.677817476276\n",
      "(1, 0, 2)\n",
      "(0, 0, 1, 12)\n",
      "<statsmodels.tsa.statespace.sarimax.SARIMAXResultsWrapper object at 0x000001A1B9EFE708>\n",
      "ARIMA(1, 0, 2)x(0, 0, 1, 12)12 - AIC:585.8216892953957\n",
      "(1, 0, 2)\n",
      "(0, 0, 2, 12)\n"
     ]
    },
    {
     "name": "stderr",
     "output_type": "stream",
     "text": [
      "C:\\Users\\Satya\\Anaconda3\\lib\\site-packages\\statsmodels\\base\\model.py:568: ConvergenceWarning: Maximum Likelihood optimization failed to converge. Check mle_retvals\n",
      "  \"Check mle_retvals\", ConvergenceWarning)\n"
     ]
    },
    {
     "name": "stdout",
     "output_type": "stream",
     "text": [
      "<statsmodels.tsa.statespace.sarimax.SARIMAXResultsWrapper object at 0x000001A1B9EFE3C8>\n",
      "ARIMA(1, 0, 2)x(0, 0, 2, 12)12 - AIC:535.8624857927134\n",
      "(1, 0, 2)\n",
      "(0, 1, 0, 12)\n",
      "<statsmodels.tsa.statespace.sarimax.SARIMAXResultsWrapper object at 0x000001A1B9F2CEC8>\n",
      "ARIMA(1, 0, 2)x(0, 1, 0, 12)12 - AIC:265.39941491336924\n",
      "(1, 0, 2)\n",
      "(0, 1, 1, 12)\n",
      "<statsmodels.tsa.statespace.sarimax.SARIMAXResultsWrapper object at 0x000001A1BDA59908>\n",
      "ARIMA(1, 0, 2)x(0, 1, 1, 12)12 - AIC:212.85924348795461\n",
      "(1, 0, 2)\n",
      "(0, 1, 2, 12)\n",
      "<statsmodels.tsa.statespace.sarimax.SARIMAXResultsWrapper object at 0x000001A1BDA41848>\n",
      "ARIMA(1, 0, 2)x(0, 1, 2, 12)12 - AIC:187.7637959063624\n",
      "(1, 0, 2)\n",
      "(0, 2, 0, 12)\n",
      "<statsmodels.tsa.statespace.sarimax.SARIMAXResultsWrapper object at 0x000001A1B9EFA348>\n",
      "ARIMA(1, 0, 2)x(0, 2, 0, 12)12 - AIC:328.41231885302676\n",
      "(1, 0, 2)\n",
      "(0, 2, 1, 12)\n",
      "<statsmodels.tsa.statespace.sarimax.SARIMAXResultsWrapper object at 0x000001A1B9EFA788>\n",
      "ARIMA(1, 0, 2)x(0, 2, 1, 12)12 - AIC:222.18111171918807\n",
      "(1, 0, 2)\n",
      "(0, 2, 2, 12)\n"
     ]
    },
    {
     "name": "stderr",
     "output_type": "stream",
     "text": [
      "C:\\Users\\Satya\\Anaconda3\\lib\\site-packages\\statsmodels\\base\\model.py:568: ConvergenceWarning: Maximum Likelihood optimization failed to converge. Check mle_retvals\n",
      "  \"Check mle_retvals\", ConvergenceWarning)\n"
     ]
    },
    {
     "name": "stdout",
     "output_type": "stream",
     "text": [
      "<statsmodels.tsa.statespace.sarimax.SARIMAXResultsWrapper object at 0x000001A1B9EF2608>\n",
      "ARIMA(1, 0, 2)x(0, 2, 2, 12)12 - AIC:2939.211639256143\n",
      "(1, 0, 2)\n",
      "(1, 0, 0, 12)\n",
      "<statsmodels.tsa.statespace.sarimax.SARIMAXResultsWrapper object at 0x000001A1BDA586C8>\n",
      "ARIMA(1, 0, 2)x(1, 0, 0, 12)12 - AIC:271.46521312557155\n",
      "(1, 0, 2)\n",
      "(1, 0, 1, 12)\n",
      "<statsmodels.tsa.statespace.sarimax.SARIMAXResultsWrapper object at 0x000001A1B9F35788>\n",
      "ARIMA(1, 0, 2)x(1, 0, 1, 12)12 - AIC:242.03135995388112\n",
      "(1, 0, 2)\n",
      "(1, 0, 2, 12)\n"
     ]
    },
    {
     "name": "stderr",
     "output_type": "stream",
     "text": [
      "C:\\Users\\Satya\\Anaconda3\\lib\\site-packages\\statsmodels\\base\\model.py:568: ConvergenceWarning: Maximum Likelihood optimization failed to converge. Check mle_retvals\n",
      "  \"Check mle_retvals\", ConvergenceWarning)\n"
     ]
    },
    {
     "name": "stdout",
     "output_type": "stream",
     "text": [
      "<statsmodels.tsa.statespace.sarimax.SARIMAXResultsWrapper object at 0x000001A1B9ED5948>\n",
      "ARIMA(1, 0, 2)x(1, 0, 2, 12)12 - AIC:217.0235058733413\n",
      "(1, 0, 2)\n",
      "(1, 1, 0, 12)\n",
      "<statsmodels.tsa.statespace.sarimax.SARIMAXResultsWrapper object at 0x000001A1BDA41B08>\n",
      "ARIMA(1, 0, 2)x(1, 1, 0, 12)12 - AIC:222.5224099311512\n",
      "(1, 0, 2)\n",
      "(1, 1, 1, 12)\n"
     ]
    },
    {
     "name": "stderr",
     "output_type": "stream",
     "text": [
      "C:\\Users\\Satya\\Anaconda3\\lib\\site-packages\\statsmodels\\base\\model.py:568: ConvergenceWarning: Maximum Likelihood optimization failed to converge. Check mle_retvals\n",
      "  \"Check mle_retvals\", ConvergenceWarning)\n"
     ]
    },
    {
     "name": "stdout",
     "output_type": "stream",
     "text": [
      "<statsmodels.tsa.statespace.sarimax.SARIMAXResultsWrapper object at 0x000001A1B9ED0448>\n",
      "ARIMA(1, 0, 2)x(1, 1, 1, 12)12 - AIC:215.40017129304223\n",
      "(1, 0, 2)\n",
      "(1, 1, 2, 12)\n"
     ]
    },
    {
     "name": "stderr",
     "output_type": "stream",
     "text": [
      "C:\\Users\\Satya\\Anaconda3\\lib\\site-packages\\statsmodels\\base\\model.py:568: ConvergenceWarning: Maximum Likelihood optimization failed to converge. Check mle_retvals\n",
      "  \"Check mle_retvals\", ConvergenceWarning)\n"
     ]
    },
    {
     "name": "stdout",
     "output_type": "stream",
     "text": [
      "<statsmodels.tsa.statespace.sarimax.SARIMAXResultsWrapper object at 0x000001A1BDA35348>\n",
      "ARIMA(1, 0, 2)x(1, 1, 2, 12)12 - AIC:188.4636337308362\n",
      "(1, 0, 2)\n",
      "(1, 2, 0, 12)\n",
      "<statsmodels.tsa.statespace.sarimax.SARIMAXResultsWrapper object at 0x000001A1B9EFEA08>\n",
      "ARIMA(1, 0, 2)x(1, 2, 0, 12)12 - AIC:253.8490177209191\n",
      "(1, 0, 2)\n",
      "(1, 2, 1, 12)\n",
      "<statsmodels.tsa.statespace.sarimax.SARIMAXResultsWrapper object at 0x000001A1BDA68AC8>\n",
      "ARIMA(1, 0, 2)x(1, 2, 1, 12)12 - AIC:214.48631857861704\n",
      "(1, 0, 2)\n",
      "(1, 2, 2, 12)\n"
     ]
    },
    {
     "name": "stderr",
     "output_type": "stream",
     "text": [
      "C:\\Users\\Satya\\Anaconda3\\lib\\site-packages\\statsmodels\\base\\model.py:568: ConvergenceWarning: Maximum Likelihood optimization failed to converge. Check mle_retvals\n",
      "  \"Check mle_retvals\", ConvergenceWarning)\n"
     ]
    },
    {
     "name": "stdout",
     "output_type": "stream",
     "text": [
      "<statsmodels.tsa.statespace.sarimax.SARIMAXResultsWrapper object at 0x000001A1B9F10BC8>\n",
      "ARIMA(1, 0, 2)x(1, 2, 2, 12)12 - AIC:2835.77750293218\n",
      "(1, 0, 2)\n",
      "(2, 0, 0, 12)\n"
     ]
    },
    {
     "name": "stderr",
     "output_type": "stream",
     "text": [
      "C:\\Users\\Satya\\Anaconda3\\lib\\site-packages\\statsmodels\\base\\model.py:568: ConvergenceWarning: Maximum Likelihood optimization failed to converge. Check mle_retvals\n",
      "  \"Check mle_retvals\", ConvergenceWarning)\n"
     ]
    },
    {
     "name": "stdout",
     "output_type": "stream",
     "text": [
      "<statsmodels.tsa.statespace.sarimax.SARIMAXResultsWrapper object at 0x000001A1B9EDF208>\n",
      "ARIMA(1, 0, 2)x(2, 0, 0, 12)12 - AIC:223.20346167098884\n",
      "(1, 0, 2)\n",
      "(2, 0, 1, 12)\n"
     ]
    },
    {
     "name": "stderr",
     "output_type": "stream",
     "text": [
      "C:\\Users\\Satya\\Anaconda3\\lib\\site-packages\\statsmodels\\base\\model.py:568: ConvergenceWarning: Maximum Likelihood optimization failed to converge. Check mle_retvals\n",
      "  \"Check mle_retvals\", ConvergenceWarning)\n"
     ]
    },
    {
     "name": "stdout",
     "output_type": "stream",
     "text": [
      "<statsmodels.tsa.statespace.sarimax.SARIMAXResultsWrapper object at 0x000001A1BD9F0488>\n",
      "ARIMA(1, 0, 2)x(2, 0, 1, 12)12 - AIC:219.8626279823158\n",
      "(1, 0, 2)\n",
      "(2, 0, 2, 12)\n"
     ]
    },
    {
     "name": "stderr",
     "output_type": "stream",
     "text": [
      "C:\\Users\\Satya\\Anaconda3\\lib\\site-packages\\statsmodels\\base\\model.py:568: ConvergenceWarning: Maximum Likelihood optimization failed to converge. Check mle_retvals\n",
      "  \"Check mle_retvals\", ConvergenceWarning)\n"
     ]
    },
    {
     "name": "stdout",
     "output_type": "stream",
     "text": [
      "<statsmodels.tsa.statespace.sarimax.SARIMAXResultsWrapper object at 0x000001A1B9ED0C88>\n",
      "ARIMA(1, 0, 2)x(2, 0, 2, 12)12 - AIC:223.2487016666044\n",
      "(1, 0, 2)\n",
      "(2, 1, 0, 12)\n",
      "<statsmodels.tsa.statespace.sarimax.SARIMAXResultsWrapper object at 0x000001A1B9F10B48>\n",
      "ARIMA(1, 0, 2)x(2, 1, 0, 12)12 - AIC:191.64291024590003\n",
      "(1, 0, 2)\n",
      "(2, 1, 1, 12)\n"
     ]
    },
    {
     "name": "stderr",
     "output_type": "stream",
     "text": [
      "C:\\Users\\Satya\\Anaconda3\\lib\\site-packages\\statsmodels\\base\\model.py:568: ConvergenceWarning: Maximum Likelihood optimization failed to converge. Check mle_retvals\n",
      "  \"Check mle_retvals\", ConvergenceWarning)\n"
     ]
    },
    {
     "name": "stdout",
     "output_type": "stream",
     "text": [
      "<statsmodels.tsa.statespace.sarimax.SARIMAXResultsWrapper object at 0x000001A1B9EC5188>\n",
      "ARIMA(1, 0, 2)x(2, 1, 1, 12)12 - AIC:192.03608682446736\n",
      "(1, 0, 2)\n",
      "(2, 1, 2, 12)\n"
     ]
    },
    {
     "name": "stderr",
     "output_type": "stream",
     "text": [
      "C:\\Users\\Satya\\Anaconda3\\lib\\site-packages\\statsmodels\\base\\model.py:568: ConvergenceWarning: Maximum Likelihood optimization failed to converge. Check mle_retvals\n",
      "  \"Check mle_retvals\", ConvergenceWarning)\n"
     ]
    },
    {
     "name": "stdout",
     "output_type": "stream",
     "text": [
      "<statsmodels.tsa.statespace.sarimax.SARIMAXResultsWrapper object at 0x000001A1BDA35C88>\n",
      "ARIMA(1, 0, 2)x(2, 1, 2, 12)12 - AIC:191.3994879411243\n",
      "(1, 0, 2)\n",
      "(2, 2, 0, 12)\n",
      "<statsmodels.tsa.statespace.sarimax.SARIMAXResultsWrapper object at 0x000001A1B9EDF588>\n",
      "ARIMA(1, 0, 2)x(2, 2, 0, 12)12 - AIC:198.83227653959258\n",
      "(1, 0, 2)\n",
      "(2, 2, 1, 12)\n",
      "<statsmodels.tsa.statespace.sarimax.SARIMAXResultsWrapper object at 0x000001A1BB5A25C8>\n",
      "ARIMA(1, 0, 2)x(2, 2, 1, 12)12 - AIC:185.97496459182227\n",
      "(1, 0, 2)\n",
      "(2, 2, 2, 12)\n"
     ]
    },
    {
     "name": "stderr",
     "output_type": "stream",
     "text": [
      "C:\\Users\\Satya\\Anaconda3\\lib\\site-packages\\statsmodels\\base\\model.py:568: ConvergenceWarning: Maximum Likelihood optimization failed to converge. Check mle_retvals\n",
      "  \"Check mle_retvals\", ConvergenceWarning)\n"
     ]
    },
    {
     "name": "stdout",
     "output_type": "stream",
     "text": [
      "<statsmodels.tsa.statespace.sarimax.SARIMAXResultsWrapper object at 0x000001A1B9EC5888>\n",
      "ARIMA(1, 0, 2)x(2, 2, 2, 12)12 - AIC:2885.9191350788255\n",
      "(1, 1, 0)\n",
      "(0, 0, 0, 12)\n",
      "<statsmodels.tsa.statespace.sarimax.SARIMAXResultsWrapper object at 0x000001A1BD9F8B88>\n",
      "ARIMA(1, 1, 0)x(0, 0, 0, 12)12 - AIC:787.2873782301856\n",
      "(1, 1, 0)\n",
      "(0, 0, 1, 12)\n",
      "<statsmodels.tsa.statespace.sarimax.SARIMAXResultsWrapper object at 0x000001A1B9EFE708>\n",
      "ARIMA(1, 1, 0)x(0, 0, 1, 12)12 - AIC:602.1846682363906\n",
      "(1, 1, 0)\n",
      "(0, 0, 2, 12)\n",
      "<statsmodels.tsa.statespace.sarimax.SARIMAXResultsWrapper object at 0x000001A1B9EF0948>\n",
      "ARIMA(1, 1, 0)x(0, 0, 2, 12)12 - AIC:483.7965956604906\n",
      "(1, 1, 0)\n",
      "(0, 1, 0, 12)\n",
      "<statsmodels.tsa.statespace.sarimax.SARIMAXResultsWrapper object at 0x000001A1BD9F0488>\n",
      "ARIMA(1, 1, 0)x(0, 1, 0, 12)12 - AIC:294.5381824917184\n",
      "(1, 1, 0)\n",
      "(0, 1, 1, 12)\n",
      "<statsmodels.tsa.statespace.sarimax.SARIMAXResultsWrapper object at 0x000001A1B9EEB308>\n",
      "ARIMA(1, 1, 0)x(0, 1, 1, 12)12 - AIC:235.99726809304747\n",
      "(1, 1, 0)\n",
      "(0, 1, 2, 12)\n",
      "<statsmodels.tsa.statespace.sarimax.SARIMAXResultsWrapper object at 0x000001A1B9EEB748>\n",
      "ARIMA(1, 1, 0)x(0, 1, 2, 12)12 - AIC:210.9068626084819\n",
      "(1, 1, 0)\n",
      "(0, 2, 0, 12)\n",
      "<statsmodels.tsa.statespace.sarimax.SARIMAXResultsWrapper object at 0x000001A1B9F10508>\n",
      "ARIMA(1, 1, 0)x(0, 2, 0, 12)12 - AIC:355.8235217432481\n",
      "(1, 1, 0)\n",
      "(0, 2, 1, 12)\n",
      "<statsmodels.tsa.statespace.sarimax.SARIMAXResultsWrapper object at 0x000001A1BDA60F08>\n",
      "ARIMA(1, 1, 0)x(0, 2, 1, 12)12 - AIC:251.60455040638433\n",
      "(1, 1, 0)\n",
      "(0, 2, 2, 12)\n"
     ]
    },
    {
     "name": "stderr",
     "output_type": "stream",
     "text": [
      "C:\\Users\\Satya\\Anaconda3\\lib\\site-packages\\statsmodels\\base\\model.py:568: ConvergenceWarning: Maximum Likelihood optimization failed to converge. Check mle_retvals\n",
      "  \"Check mle_retvals\", ConvergenceWarning)\n"
     ]
    },
    {
     "name": "stdout",
     "output_type": "stream",
     "text": [
      "<statsmodels.tsa.statespace.sarimax.SARIMAXResultsWrapper object at 0x000001A1B9EF2BC8>\n",
      "ARIMA(1, 1, 0)x(0, 2, 2, 12)12 - AIC:nan\n",
      "(1, 1, 0)\n",
      "(1, 0, 0, 12)\n",
      "<statsmodels.tsa.statespace.sarimax.SARIMAXResultsWrapper object at 0x000001A1BDA66588>\n",
      "ARIMA(1, 1, 0)x(1, 0, 0, 12)12 - AIC:294.5396983137358\n",
      "(1, 1, 0)\n",
      "(1, 0, 1, 12)\n"
     ]
    },
    {
     "name": "stderr",
     "output_type": "stream",
     "text": [
      "C:\\Users\\Satya\\Anaconda3\\lib\\site-packages\\statsmodels\\base\\model.py:568: ConvergenceWarning: Maximum Likelihood optimization failed to converge. Check mle_retvals\n",
      "  \"Check mle_retvals\", ConvergenceWarning)\n"
     ]
    },
    {
     "name": "stdout",
     "output_type": "stream",
     "text": [
      "<statsmodels.tsa.statespace.sarimax.SARIMAXResultsWrapper object at 0x000001A1B9ED09C8>\n",
      "ARIMA(1, 1, 0)x(1, 0, 1, 12)12 - AIC:297.6574257546894\n",
      "(1, 1, 0)\n",
      "(1, 0, 2, 12)\n",
      "<statsmodels.tsa.statespace.sarimax.SARIMAXResultsWrapper object at 0x000001A1B9ED0648>\n",
      "ARIMA(1, 1, 0)x(1, 0, 2, 12)12 - AIC:243.24885975242267\n",
      "(1, 1, 0)\n",
      "(1, 1, 0, 12)\n",
      "<statsmodels.tsa.statespace.sarimax.SARIMAXResultsWrapper object at 0x000001A1BB5CAC88>\n",
      "ARIMA(1, 1, 0)x(1, 1, 0, 12)12 - AIC:247.539837361854\n",
      "(1, 1, 0)\n",
      "(1, 1, 1, 12)\n",
      "<statsmodels.tsa.statespace.sarimax.SARIMAXResultsWrapper object at 0x000001A1B6A8E548>\n",
      "ARIMA(1, 1, 0)x(1, 1, 1, 12)12 - AIC:243.22533310293034\n",
      "(1, 1, 0)\n",
      "(1, 1, 2, 12)\n",
      "<statsmodels.tsa.statespace.sarimax.SARIMAXResultsWrapper object at 0x000001A1B9ED0248>\n",
      "ARIMA(1, 1, 0)x(1, 1, 2, 12)12 - AIC:211.30765595226097\n",
      "(1, 1, 0)\n",
      "(1, 2, 0, 12)\n",
      "<statsmodels.tsa.statespace.sarimax.SARIMAXResultsWrapper object at 0x000001A1B9F1ADC8>\n",
      "ARIMA(1, 1, 0)x(1, 2, 0, 12)12 - AIC:276.87107766031653\n",
      "(1, 1, 0)\n",
      "(1, 2, 1, 12)\n",
      "<statsmodels.tsa.statespace.sarimax.SARIMAXResultsWrapper object at 0x000001A1B9EC5248>\n",
      "ARIMA(1, 1, 0)x(1, 2, 1, 12)12 - AIC:247.49005415796987\n",
      "(1, 1, 0)\n",
      "(1, 2, 2, 12)\n",
      "<statsmodels.tsa.statespace.sarimax.SARIMAXResultsWrapper object at 0x000001A1B9F10208>\n",
      "ARIMA(1, 1, 0)x(1, 2, 2, 12)12 - AIC:2673.860291294572\n",
      "(1, 1, 0)\n",
      "(2, 0, 0, 12)\n",
      "<statsmodels.tsa.statespace.sarimax.SARIMAXResultsWrapper object at 0x000001A1B9EC5148>\n",
      "ARIMA(1, 1, 0)x(2, 0, 0, 12)12 - AIC:247.48336557869033\n",
      "(1, 1, 0)\n",
      "(2, 0, 1, 12)\n"
     ]
    },
    {
     "name": "stderr",
     "output_type": "stream",
     "text": [
      "C:\\Users\\Satya\\Anaconda3\\lib\\site-packages\\statsmodels\\base\\model.py:568: ConvergenceWarning: Maximum Likelihood optimization failed to converge. Check mle_retvals\n",
      "  \"Check mle_retvals\", ConvergenceWarning)\n"
     ]
    },
    {
     "name": "stdout",
     "output_type": "stream",
     "text": [
      "<statsmodels.tsa.statespace.sarimax.SARIMAXResultsWrapper object at 0x000001A1B9ED0348>\n",
      "ARIMA(1, 1, 0)x(2, 0, 1, 12)12 - AIC:250.40579725424155\n",
      "(1, 1, 0)\n",
      "(2, 0, 2, 12)\n"
     ]
    },
    {
     "name": "stderr",
     "output_type": "stream",
     "text": [
      "C:\\Users\\Satya\\Anaconda3\\lib\\site-packages\\statsmodels\\base\\model.py:568: ConvergenceWarning: Maximum Likelihood optimization failed to converge. Check mle_retvals\n",
      "  \"Check mle_retvals\", ConvergenceWarning)\n"
     ]
    },
    {
     "name": "stdout",
     "output_type": "stream",
     "text": [
      "<statsmodels.tsa.statespace.sarimax.SARIMAXResultsWrapper object at 0x000001A1B9EEB8C8>\n",
      "ARIMA(1, 1, 0)x(2, 0, 2, 12)12 - AIC:261.03136710199897\n",
      "(1, 1, 0)\n",
      "(2, 1, 0, 12)\n",
      "<statsmodels.tsa.statespace.sarimax.SARIMAXResultsWrapper object at 0x000001A1B9EFAF08>\n",
      "ARIMA(1, 1, 0)x(2, 1, 0, 12)12 - AIC:209.75571422075748\n",
      "(1, 1, 0)\n",
      "(2, 1, 1, 12)\n",
      "<statsmodels.tsa.statespace.sarimax.SARIMAXResultsWrapper object at 0x000001A1BB5CF7C8>\n",
      "ARIMA(1, 1, 0)x(2, 1, 1, 12)12 - AIC:210.90579427167808\n",
      "(1, 1, 0)\n",
      "(2, 1, 2, 12)\n",
      "<statsmodels.tsa.statespace.sarimax.SARIMAXResultsWrapper object at 0x000001A1B9F060C8>\n",
      "ARIMA(1, 1, 0)x(2, 1, 2, 12)12 - AIC:212.50664135290748\n",
      "(1, 1, 0)\n",
      "(2, 2, 0, 12)\n",
      "<statsmodels.tsa.statespace.sarimax.SARIMAXResultsWrapper object at 0x000001A1B9EEB848>\n",
      "ARIMA(1, 1, 0)x(2, 2, 0, 12)12 - AIC:222.01183455479898\n",
      "(1, 1, 0)\n",
      "(2, 2, 1, 12)\n",
      "<statsmodels.tsa.statespace.sarimax.SARIMAXResultsWrapper object at 0x000001A1B9ED0DC8>\n",
      "ARIMA(1, 1, 0)x(2, 2, 1, 12)12 - AIC:206.60612526942606\n",
      "(1, 1, 0)\n",
      "(2, 2, 2, 12)\n",
      "<statsmodels.tsa.statespace.sarimax.SARIMAXResultsWrapper object at 0x000001A1B9F166C8>\n",
      "ARIMA(1, 1, 0)x(2, 2, 2, 12)12 - AIC:2945.2839391892935\n",
      "(1, 1, 1)\n",
      "(0, 0, 0, 12)\n",
      "<statsmodels.tsa.statespace.sarimax.SARIMAXResultsWrapper object at 0x000001A1B9EF0F48>\n",
      "ARIMA(1, 1, 1)x(0, 0, 0, 12)12 - AIC:781.8578636828779\n",
      "(1, 1, 1)\n",
      "(0, 0, 1, 12)\n",
      "<statsmodels.tsa.statespace.sarimax.SARIMAXResultsWrapper object at 0x000001A1B9EC5248>\n",
      "ARIMA(1, 1, 1)x(0, 0, 1, 12)12 - AIC:598.3504504433663\n",
      "(1, 1, 1)\n",
      "(0, 0, 2, 12)\n",
      "<statsmodels.tsa.statespace.sarimax.SARIMAXResultsWrapper object at 0x000001A1B9EDF588>\n",
      "ARIMA(1, 1, 1)x(0, 0, 2, 12)12 - AIC:464.9937847357303\n",
      "(1, 1, 1)\n",
      "(0, 1, 0, 12)\n",
      "<statsmodels.tsa.statespace.sarimax.SARIMAXResultsWrapper object at 0x000001A1BDA66F88>\n",
      "ARIMA(1, 1, 1)x(0, 1, 0, 12)12 - AIC:263.6405878368871\n",
      "(1, 1, 1)\n",
      "(0, 1, 1, 12)\n",
      "<statsmodels.tsa.statespace.sarimax.SARIMAXResultsWrapper object at 0x000001A1BDA38788>\n",
      "ARIMA(1, 1, 1)x(0, 1, 1, 12)12 - AIC:211.46522794986916\n",
      "(1, 1, 1)\n",
      "(0, 1, 2, 12)\n",
      "<statsmodels.tsa.statespace.sarimax.SARIMAXResultsWrapper object at 0x000001A1BDA389C8>\n",
      "ARIMA(1, 1, 1)x(0, 1, 2, 12)12 - AIC:185.70042861181346\n",
      "(1, 1, 1)\n",
      "(0, 2, 0, 12)\n",
      "<statsmodels.tsa.statespace.sarimax.SARIMAXResultsWrapper object at 0x000001A1B9ED0048>\n",
      "ARIMA(1, 1, 1)x(0, 2, 0, 12)12 - AIC:332.7035283744942\n",
      "(1, 1, 1)\n",
      "(0, 2, 1, 12)\n",
      "<statsmodels.tsa.statespace.sarimax.SARIMAXResultsWrapper object at 0x000001A1B9EFE7C8>\n",
      "ARIMA(1, 1, 1)x(0, 2, 1, 12)12 - AIC:227.58218950469004\n",
      "(1, 1, 1)\n",
      "(0, 2, 2, 12)\n"
     ]
    },
    {
     "name": "stderr",
     "output_type": "stream",
     "text": [
      "C:\\Users\\Satya\\Anaconda3\\lib\\site-packages\\statsmodels\\base\\model.py:568: ConvergenceWarning: Maximum Likelihood optimization failed to converge. Check mle_retvals\n",
      "  \"Check mle_retvals\", ConvergenceWarning)\n"
     ]
    },
    {
     "name": "stdout",
     "output_type": "stream",
     "text": [
      "<statsmodels.tsa.statespace.sarimax.SARIMAXResultsWrapper object at 0x000001A1B9F1F808>\n",
      "ARIMA(1, 1, 1)x(0, 2, 2, 12)12 - AIC:nan\n",
      "(1, 1, 1)\n",
      "(1, 0, 0, 12)\n",
      "<statsmodels.tsa.statespace.sarimax.SARIMAXResultsWrapper object at 0x000001A1B9ED0B88>\n",
      "ARIMA(1, 1, 1)x(1, 0, 0, 12)12 - AIC:265.7066959735544\n",
      "(1, 1, 1)\n",
      "(1, 0, 1, 12)\n"
     ]
    },
    {
     "name": "stderr",
     "output_type": "stream",
     "text": [
      "C:\\Users\\Satya\\Anaconda3\\lib\\site-packages\\statsmodels\\base\\model.py:568: ConvergenceWarning: Maximum Likelihood optimization failed to converge. Check mle_retvals\n",
      "  \"Check mle_retvals\", ConvergenceWarning)\n"
     ]
    },
    {
     "name": "stdout",
     "output_type": "stream",
     "text": [
      "<statsmodels.tsa.statespace.sarimax.SARIMAXResultsWrapper object at 0x000001A1BDA53648>\n",
      "ARIMA(1, 1, 1)x(1, 0, 1, 12)12 - AIC:267.85533392638575\n",
      "(1, 1, 1)\n",
      "(1, 0, 2, 12)\n"
     ]
    },
    {
     "name": "stderr",
     "output_type": "stream",
     "text": [
      "C:\\Users\\Satya\\Anaconda3\\lib\\site-packages\\statsmodels\\base\\model.py:568: ConvergenceWarning: Maximum Likelihood optimization failed to converge. Check mle_retvals\n",
      "  \"Check mle_retvals\", ConvergenceWarning)\n"
     ]
    },
    {
     "name": "stdout",
     "output_type": "stream",
     "text": [
      "<statsmodels.tsa.statespace.sarimax.SARIMAXResultsWrapper object at 0x000001A1B9E86C88>\n",
      "ARIMA(1, 1, 1)x(1, 0, 2, 12)12 - AIC:218.10241362129963\n",
      "(1, 1, 1)\n",
      "(1, 1, 0, 12)\n",
      "<statsmodels.tsa.statespace.sarimax.SARIMAXResultsWrapper object at 0x000001A1B9E86C08>\n",
      "ARIMA(1, 1, 1)x(1, 1, 0, 12)12 - AIC:218.204170985204\n",
      "(1, 1, 1)\n",
      "(1, 1, 1, 12)\n",
      "<statsmodels.tsa.statespace.sarimax.SARIMAXResultsWrapper object at 0x000001A1B9E86E08>\n",
      "ARIMA(1, 1, 1)x(1, 1, 1, 12)12 - AIC:213.6910424425357\n",
      "(1, 1, 1)\n",
      "(1, 1, 2, 12)\n",
      "<statsmodels.tsa.statespace.sarimax.SARIMAXResultsWrapper object at 0x000001A1B9F16648>\n",
      "ARIMA(1, 1, 1)x(1, 1, 2, 12)12 - AIC:185.97943543014588\n",
      "(1, 1, 1)\n",
      "(1, 2, 0, 12)\n",
      "<statsmodels.tsa.statespace.sarimax.SARIMAXResultsWrapper object at 0x000001A1B9EEBC48>\n",
      "ARIMA(1, 1, 1)x(1, 2, 0, 12)12 - AIC:253.76393873266562\n",
      "(1, 1, 1)\n",
      "(1, 2, 1, 12)\n",
      "<statsmodels.tsa.statespace.sarimax.SARIMAXResultsWrapper object at 0x000001A1B9E86208>\n",
      "ARIMA(1, 1, 1)x(1, 2, 1, 12)12 - AIC:221.98167975456917\n",
      "(1, 1, 1)\n",
      "(1, 2, 2, 12)\n"
     ]
    },
    {
     "name": "stderr",
     "output_type": "stream",
     "text": [
      "C:\\Users\\Satya\\Anaconda3\\lib\\site-packages\\statsmodels\\base\\model.py:568: ConvergenceWarning: Maximum Likelihood optimization failed to converge. Check mle_retvals\n",
      "  \"Check mle_retvals\", ConvergenceWarning)\n"
     ]
    },
    {
     "name": "stdout",
     "output_type": "stream",
     "text": [
      "<statsmodels.tsa.statespace.sarimax.SARIMAXResultsWrapper object at 0x000001A1AD35E708>\n",
      "ARIMA(1, 1, 1)x(1, 2, 2, 12)12 - AIC:2678.4271913942475\n",
      "(1, 1, 1)\n",
      "(2, 0, 0, 12)\n",
      "<statsmodels.tsa.statespace.sarimax.SARIMAXResultsWrapper object at 0x000001A1B9E86A48>\n",
      "ARIMA(1, 1, 1)x(2, 0, 0, 12)12 - AIC:220.24119450926267\n",
      "(1, 1, 1)\n",
      "(2, 0, 1, 12)\n"
     ]
    },
    {
     "name": "stderr",
     "output_type": "stream",
     "text": [
      "C:\\Users\\Satya\\Anaconda3\\lib\\site-packages\\statsmodels\\base\\model.py:568: ConvergenceWarning: Maximum Likelihood optimization failed to converge. Check mle_retvals\n",
      "  \"Check mle_retvals\", ConvergenceWarning)\n"
     ]
    },
    {
     "name": "stdout",
     "output_type": "stream",
     "text": [
      "<statsmodels.tsa.statespace.sarimax.SARIMAXResultsWrapper object at 0x000001A1BDA58A48>\n",
      "ARIMA(1, 1, 1)x(2, 0, 1, 12)12 - AIC:223.34314485657472\n",
      "(1, 1, 1)\n",
      "(2, 0, 2, 12)\n"
     ]
    },
    {
     "name": "stderr",
     "output_type": "stream",
     "text": [
      "C:\\Users\\Satya\\Anaconda3\\lib\\site-packages\\statsmodels\\base\\model.py:568: ConvergenceWarning: Maximum Likelihood optimization failed to converge. Check mle_retvals\n",
      "  \"Check mle_retvals\", ConvergenceWarning)\n"
     ]
    },
    {
     "name": "stdout",
     "output_type": "stream",
     "text": [
      "<statsmodels.tsa.statespace.sarimax.SARIMAXResultsWrapper object at 0x000001A1B9EFEA48>\n",
      "ARIMA(1, 1, 1)x(2, 0, 2, 12)12 - AIC:230.03524564369596\n",
      "(1, 1, 1)\n",
      "(2, 1, 0, 12)\n",
      "<statsmodels.tsa.statespace.sarimax.SARIMAXResultsWrapper object at 0x000001A1B9EEB108>\n",
      "ARIMA(1, 1, 1)x(2, 1, 0, 12)12 - AIC:187.12194183074624\n",
      "(1, 1, 1)\n",
      "(2, 1, 1, 12)\n",
      "<statsmodels.tsa.statespace.sarimax.SARIMAXResultsWrapper object at 0x000001A1B9E86688>\n",
      "ARIMA(1, 1, 1)x(2, 1, 1, 12)12 - AIC:189.12096311964567\n",
      "(1, 1, 1)\n",
      "(2, 1, 2, 12)\n",
      "<statsmodels.tsa.statespace.sarimax.SARIMAXResultsWrapper object at 0x000001A1BDA60D08>\n",
      "ARIMA(1, 1, 1)x(2, 1, 2, 12)12 - AIC:189.4111570914525\n",
      "(1, 1, 1)\n",
      "(2, 2, 0, 12)\n",
      "<statsmodels.tsa.statespace.sarimax.SARIMAXResultsWrapper object at 0x000001A1B9EEB088>\n",
      "ARIMA(1, 1, 1)x(2, 2, 0, 12)12 - AIC:200.88957513437163\n",
      "(1, 1, 1)\n",
      "(2, 2, 1, 12)\n",
      "<statsmodels.tsa.statespace.sarimax.SARIMAXResultsWrapper object at 0x000001A1B9EF2B08>\n",
      "ARIMA(1, 1, 1)x(2, 2, 1, 12)12 - AIC:187.74017957332995\n",
      "(1, 1, 1)\n",
      "(2, 2, 2, 12)\n"
     ]
    },
    {
     "name": "stderr",
     "output_type": "stream",
     "text": [
      "C:\\Users\\Satya\\Anaconda3\\lib\\site-packages\\statsmodels\\base\\model.py:568: ConvergenceWarning: Maximum Likelihood optimization failed to converge. Check mle_retvals\n",
      "  \"Check mle_retvals\", ConvergenceWarning)\n"
     ]
    },
    {
     "name": "stdout",
     "output_type": "stream",
     "text": [
      "<statsmodels.tsa.statespace.sarimax.SARIMAXResultsWrapper object at 0x000001A1BD9F8DC8>\n",
      "ARIMA(1, 1, 1)x(2, 2, 2, 12)12 - AIC:3257.3956384324956\n",
      "(1, 1, 2)\n",
      "(0, 0, 0, 12)\n",
      "<statsmodels.tsa.statespace.sarimax.SARIMAXResultsWrapper object at 0x000001A1B9F1F0C8>\n",
      "ARIMA(1, 1, 2)x(0, 0, 0, 12)12 - AIC:754.6031001971595\n",
      "(1, 1, 2)\n",
      "(0, 0, 1, 12)\n",
      "<statsmodels.tsa.statespace.sarimax.SARIMAXResultsWrapper object at 0x000001A1B9F1AE48>\n",
      "ARIMA(1, 1, 2)x(0, 0, 1, 12)12 - AIC:574.7823066791486\n",
      "(1, 1, 2)\n",
      "(0, 0, 2, 12)\n",
      "<statsmodels.tsa.statespace.sarimax.SARIMAXResultsWrapper object at 0x000001A1B9E862C8>\n",
      "ARIMA(1, 1, 2)x(0, 0, 2, 12)12 - AIC:459.1447429825212\n",
      "(1, 1, 2)\n",
      "(0, 1, 0, 12)\n",
      "<statsmodels.tsa.statespace.sarimax.SARIMAXResultsWrapper object at 0x000001A1B9EEB108>\n",
      "ARIMA(1, 1, 2)x(0, 1, 0, 12)12 - AIC:258.4843993431745\n",
      "(1, 1, 2)\n",
      "(0, 1, 1, 12)\n",
      "<statsmodels.tsa.statespace.sarimax.SARIMAXResultsWrapper object at 0x000001A1B9EF0A88>\n",
      "ARIMA(1, 1, 2)x(0, 1, 1, 12)12 - AIC:203.90892722789948\n",
      "(1, 1, 2)\n",
      "(0, 1, 2, 12)\n",
      "<statsmodels.tsa.statespace.sarimax.SARIMAXResultsWrapper object at 0x000001A1B9E86D08>\n",
      "ARIMA(1, 1, 2)x(0, 1, 2, 12)12 - AIC:183.98803084366148\n",
      "(1, 1, 2)\n",
      "(0, 2, 0, 12)\n",
      "<statsmodels.tsa.statespace.sarimax.SARIMAXResultsWrapper object at 0x000001A1B9F1A048>\n",
      "ARIMA(1, 1, 2)x(0, 2, 0, 12)12 - AIC:326.494917252546\n",
      "(1, 1, 2)\n",
      "(0, 2, 1, 12)\n",
      "<statsmodels.tsa.statespace.sarimax.SARIMAXResultsWrapper object at 0x000001A1B9ED0DC8>\n",
      "ARIMA(1, 1, 2)x(0, 2, 1, 12)12 - AIC:225.13775568235116\n",
      "(1, 1, 2)\n",
      "(0, 2, 2, 12)\n"
     ]
    },
    {
     "name": "stderr",
     "output_type": "stream",
     "text": [
      "C:\\Users\\Satya\\Anaconda3\\lib\\site-packages\\statsmodels\\base\\model.py:568: ConvergenceWarning: Maximum Likelihood optimization failed to converge. Check mle_retvals\n",
      "  \"Check mle_retvals\", ConvergenceWarning)\n"
     ]
    },
    {
     "name": "stdout",
     "output_type": "stream",
     "text": [
      "<statsmodels.tsa.statespace.sarimax.SARIMAXResultsWrapper object at 0x000001A1B9E75D48>\n",
      "ARIMA(1, 1, 2)x(0, 2, 2, 12)12 - AIC:nan\n",
      "(1, 1, 2)\n",
      "(1, 0, 0, 12)\n",
      "<statsmodels.tsa.statespace.sarimax.SARIMAXResultsWrapper object at 0x000001A1B9EFE0C8>\n",
      "ARIMA(1, 1, 2)x(1, 0, 0, 12)12 - AIC:266.33814215104996\n",
      "(1, 1, 2)\n",
      "(1, 0, 1, 12)\n"
     ]
    },
    {
     "name": "stderr",
     "output_type": "stream",
     "text": [
      "C:\\Users\\Satya\\Anaconda3\\lib\\site-packages\\statsmodels\\base\\model.py:568: ConvergenceWarning: Maximum Likelihood optimization failed to converge. Check mle_retvals\n",
      "  \"Check mle_retvals\", ConvergenceWarning)\n"
     ]
    },
    {
     "name": "stdout",
     "output_type": "stream",
     "text": [
      "<statsmodels.tsa.statespace.sarimax.SARIMAXResultsWrapper object at 0x000001A1B9EC5D08>\n",
      "ARIMA(1, 1, 2)x(1, 0, 1, 12)12 - AIC:266.7103547910515\n",
      "(1, 1, 2)\n",
      "(1, 0, 2, 12)\n"
     ]
    },
    {
     "name": "stderr",
     "output_type": "stream",
     "text": [
      "C:\\Users\\Satya\\Anaconda3\\lib\\site-packages\\statsmodels\\base\\model.py:568: ConvergenceWarning: Maximum Likelihood optimization failed to converge. Check mle_retvals\n",
      "  \"Check mle_retvals\", ConvergenceWarning)\n"
     ]
    },
    {
     "name": "stdout",
     "output_type": "stream",
     "text": [
      "<statsmodels.tsa.statespace.sarimax.SARIMAXResultsWrapper object at 0x000001A1B9F35848>\n",
      "ARIMA(1, 1, 2)x(1, 0, 2, 12)12 - AIC:216.08810971526015\n",
      "(1, 1, 2)\n",
      "(1, 1, 0, 12)\n",
      "<statsmodels.tsa.statespace.sarimax.SARIMAXResultsWrapper object at 0x000001A1B9EC5D08>\n",
      "ARIMA(1, 1, 2)x(1, 1, 0, 12)12 - AIC:220.18338442032578\n",
      "(1, 1, 2)\n",
      "(1, 1, 1, 12)\n",
      "<statsmodels.tsa.statespace.sarimax.SARIMAXResultsWrapper object at 0x000001A1B9E75348>\n",
      "ARIMA(1, 1, 2)x(1, 1, 1, 12)12 - AIC:211.16602933915976\n",
      "(1, 1, 2)\n",
      "(1, 1, 2, 12)\n",
      "<statsmodels.tsa.statespace.sarimax.SARIMAXResultsWrapper object at 0x000001A1B9F1FF88>\n",
      "ARIMA(1, 1, 2)x(1, 1, 2, 12)12 - AIC:183.32689299383463\n",
      "(1, 1, 2)\n",
      "(1, 2, 0, 12)\n",
      "<statsmodels.tsa.statespace.sarimax.SARIMAXResultsWrapper object at 0x000001A1B9EC5808>\n",
      "ARIMA(1, 1, 2)x(1, 2, 0, 12)12 - AIC:256.3547590447625\n",
      "(1, 1, 2)\n",
      "(1, 2, 1, 12)\n",
      "<statsmodels.tsa.statespace.sarimax.SARIMAXResultsWrapper object at 0x000001A1B9E75308>\n",
      "ARIMA(1, 1, 2)x(1, 2, 1, 12)12 - AIC:220.57082008874892\n",
      "(1, 1, 2)\n",
      "(1, 2, 2, 12)\n"
     ]
    },
    {
     "name": "stderr",
     "output_type": "stream",
     "text": [
      "C:\\Users\\Satya\\Anaconda3\\lib\\site-packages\\statsmodels\\base\\model.py:568: ConvergenceWarning: Maximum Likelihood optimization failed to converge. Check mle_retvals\n",
      "  \"Check mle_retvals\", ConvergenceWarning)\n"
     ]
    },
    {
     "name": "stdout",
     "output_type": "stream",
     "text": [
      "<statsmodels.tsa.statespace.sarimax.SARIMAXResultsWrapper object at 0x000001A1B9EDFFC8>\n",
      "ARIMA(1, 1, 2)x(1, 2, 2, 12)12 - AIC:3110.75758588382\n",
      "(1, 1, 2)\n",
      "(2, 0, 0, 12)\n",
      "<statsmodels.tsa.statespace.sarimax.SARIMAXResultsWrapper object at 0x000001A1B9E650C8>\n",
      "ARIMA(1, 1, 2)x(2, 0, 0, 12)12 - AIC:222.07571075447558\n",
      "(1, 1, 2)\n",
      "(2, 0, 1, 12)\n"
     ]
    },
    {
     "name": "stderr",
     "output_type": "stream",
     "text": [
      "C:\\Users\\Satya\\Anaconda3\\lib\\site-packages\\statsmodels\\base\\model.py:568: ConvergenceWarning: Maximum Likelihood optimization failed to converge. Check mle_retvals\n",
      "  \"Check mle_retvals\", ConvergenceWarning)\n"
     ]
    },
    {
     "name": "stdout",
     "output_type": "stream",
     "text": [
      "<statsmodels.tsa.statespace.sarimax.SARIMAXResultsWrapper object at 0x000001A1B9EDFFC8>\n",
      "ARIMA(1, 1, 2)x(2, 0, 1, 12)12 - AIC:224.81760375463384\n",
      "(1, 1, 2)\n",
      "(2, 0, 2, 12)\n"
     ]
    },
    {
     "name": "stderr",
     "output_type": "stream",
     "text": [
      "C:\\Users\\Satya\\Anaconda3\\lib\\site-packages\\statsmodels\\base\\model.py:568: ConvergenceWarning: Maximum Likelihood optimization failed to converge. Check mle_retvals\n",
      "  \"Check mle_retvals\", ConvergenceWarning)\n"
     ]
    },
    {
     "name": "stdout",
     "output_type": "stream",
     "text": [
      "<statsmodels.tsa.statespace.sarimax.SARIMAXResultsWrapper object at 0x000001A1B9E65EC8>\n",
      "ARIMA(1, 1, 2)x(2, 0, 2, 12)12 - AIC:219.86068678847\n",
      "(1, 1, 2)\n",
      "(2, 1, 0, 12)\n",
      "<statsmodels.tsa.statespace.sarimax.SARIMAXResultsWrapper object at 0x000001A1B9E75588>\n",
      "ARIMA(1, 1, 2)x(2, 1, 0, 12)12 - AIC:187.64488589108547\n",
      "(1, 1, 2)\n",
      "(2, 1, 1, 12)\n",
      "<statsmodels.tsa.statespace.sarimax.SARIMAXResultsWrapper object at 0x000001A1B9E86048>\n",
      "ARIMA(1, 1, 2)x(2, 1, 1, 12)12 - AIC:189.19753870163368\n",
      "(1, 1, 2)\n",
      "(2, 1, 2, 12)\n",
      "<statsmodels.tsa.statespace.sarimax.SARIMAXResultsWrapper object at 0x000001A1B9E75B08>\n",
      "ARIMA(1, 1, 2)x(2, 1, 2, 12)12 - AIC:186.4749514434677\n",
      "(1, 1, 2)\n",
      "(2, 2, 0, 12)\n",
      "<statsmodels.tsa.statespace.sarimax.SARIMAXResultsWrapper object at 0x000001A1B9EEBA88>\n",
      "ARIMA(1, 1, 2)x(2, 2, 0, 12)12 - AIC:200.2524933440576\n",
      "(1, 1, 2)\n",
      "(2, 2, 1, 12)\n",
      "<statsmodels.tsa.statespace.sarimax.SARIMAXResultsWrapper object at 0x000001A1B9F10F48>\n",
      "ARIMA(1, 1, 2)x(2, 2, 1, 12)12 - AIC:187.3762596168947\n",
      "(1, 1, 2)\n",
      "(2, 2, 2, 12)\n"
     ]
    },
    {
     "name": "stderr",
     "output_type": "stream",
     "text": [
      "C:\\Users\\Satya\\Anaconda3\\lib\\site-packages\\statsmodels\\base\\model.py:568: ConvergenceWarning: Maximum Likelihood optimization failed to converge. Check mle_retvals\n",
      "  \"Check mle_retvals\", ConvergenceWarning)\n"
     ]
    },
    {
     "name": "stdout",
     "output_type": "stream",
     "text": [
      "<statsmodels.tsa.statespace.sarimax.SARIMAXResultsWrapper object at 0x000001A1B9EFE548>\n",
      "ARIMA(1, 1, 2)x(2, 2, 2, 12)12 - AIC:3265.0219668426685\n",
      "(1, 2, 0)\n",
      "(0, 0, 0, 12)\n",
      "<statsmodels.tsa.statespace.sarimax.SARIMAXResultsWrapper object at 0x000001A1B9EF27C8>\n",
      "ARIMA(1, 2, 0)x(0, 0, 0, 12)12 - AIC:835.136332731523\n",
      "(1, 2, 0)\n",
      "(0, 0, 1, 12)\n",
      "<statsmodels.tsa.statespace.sarimax.SARIMAXResultsWrapper object at 0x000001A1B9E65AC8>\n",
      "ARIMA(1, 2, 0)x(0, 0, 1, 12)12 - AIC:640.7401264151099\n",
      "(1, 2, 0)\n",
      "(0, 0, 2, 12)\n",
      "<statsmodels.tsa.statespace.sarimax.SARIMAXResultsWrapper object at 0x000001A1B9F24508>\n",
      "ARIMA(1, 2, 0)x(0, 0, 2, 12)12 - AIC:515.9158868593888\n",
      "(1, 2, 0)\n",
      "(0, 1, 0, 12)\n",
      "<statsmodels.tsa.statespace.sarimax.SARIMAXResultsWrapper object at 0x000001A1B9F0BC48>\n",
      "ARIMA(1, 2, 0)x(0, 1, 0, 12)12 - AIC:372.68050340244\n",
      "(1, 2, 0)\n",
      "(0, 1, 1, 12)\n",
      "<statsmodels.tsa.statespace.sarimax.SARIMAXResultsWrapper object at 0x000001A1B9E75308>\n",
      "ARIMA(1, 2, 0)x(0, 1, 1, 12)12 - AIC:308.05111308727885\n",
      "(1, 2, 0)\n",
      "(0, 1, 2, 12)\n",
      "<statsmodels.tsa.statespace.sarimax.SARIMAXResultsWrapper object at 0x000001A1B9E65988>\n",
      "ARIMA(1, 2, 0)x(0, 1, 2, 12)12 - AIC:275.27974537373854\n",
      "(1, 2, 0)\n",
      "(0, 2, 0, 12)\n",
      "<statsmodels.tsa.statespace.sarimax.SARIMAXResultsWrapper object at 0x000001A1B9EC5A88>\n",
      "ARIMA(1, 2, 0)x(0, 2, 0, 12)12 - AIC:424.29844954258533\n",
      "(1, 2, 0)\n",
      "(0, 2, 1, 12)\n",
      "<statsmodels.tsa.statespace.sarimax.SARIMAXResultsWrapper object at 0x000001A1B9E75BC8>\n",
      "ARIMA(1, 2, 0)x(0, 2, 1, 12)12 - AIC:311.64332237421945\n",
      "(1, 2, 0)\n",
      "(0, 2, 2, 12)\n"
     ]
    },
    {
     "name": "stderr",
     "output_type": "stream",
     "text": [
      "C:\\Users\\Satya\\Anaconda3\\lib\\site-packages\\statsmodels\\base\\model.py:568: ConvergenceWarning: Maximum Likelihood optimization failed to converge. Check mle_retvals\n",
      "  \"Check mle_retvals\", ConvergenceWarning)\n"
     ]
    },
    {
     "name": "stdout",
     "output_type": "stream",
     "text": [
      "<statsmodels.tsa.statespace.sarimax.SARIMAXResultsWrapper object at 0x000001A1B9E75AC8>\n",
      "ARIMA(1, 2, 0)x(0, 2, 2, 12)12 - AIC:2839.354218985386\n",
      "(1, 2, 0)\n",
      "(1, 0, 0, 12)\n",
      "<statsmodels.tsa.statespace.sarimax.SARIMAXResultsWrapper object at 0x000001A1BDA66A08>\n",
      "ARIMA(1, 2, 0)x(1, 0, 0, 12)12 - AIC:371.3128509311273\n",
      "(1, 2, 0)\n",
      "(1, 0, 1, 12)\n",
      "<statsmodels.tsa.statespace.sarimax.SARIMAXResultsWrapper object at 0x000001A1B9E65608>\n",
      "ARIMA(1, 2, 0)x(1, 0, 1, 12)12 - AIC:349.88826558098094\n",
      "(1, 2, 0)\n",
      "(1, 0, 2, 12)\n"
     ]
    },
    {
     "name": "stderr",
     "output_type": "stream",
     "text": [
      "C:\\Users\\Satya\\Anaconda3\\lib\\site-packages\\statsmodels\\base\\model.py:568: ConvergenceWarning: Maximum Likelihood optimization failed to converge. Check mle_retvals\n",
      "  \"Check mle_retvals\", ConvergenceWarning)\n"
     ]
    },
    {
     "name": "stdout",
     "output_type": "stream",
     "text": [
      "<statsmodels.tsa.statespace.sarimax.SARIMAXResultsWrapper object at 0x000001A1BDA48808>\n",
      "ARIMA(1, 2, 0)x(1, 0, 2, 12)12 - AIC:313.9127346498816\n",
      "(1, 2, 0)\n",
      "(1, 1, 0, 12)\n",
      "<statsmodels.tsa.statespace.sarimax.SARIMAXResultsWrapper object at 0x000001A1B9E65BC8>\n",
      "ARIMA(1, 2, 0)x(1, 1, 0, 12)12 - AIC:316.86508195843714\n",
      "(1, 2, 0)\n",
      "(1, 1, 1, 12)\n",
      "<statsmodels.tsa.statespace.sarimax.SARIMAXResultsWrapper object at 0x000001A1B9E75EC8>\n",
      "ARIMA(1, 2, 0)x(1, 1, 1, 12)12 - AIC:314.7985457148463\n",
      "(1, 2, 0)\n",
      "(1, 1, 2, 12)\n",
      "<statsmodels.tsa.statespace.sarimax.SARIMAXResultsWrapper object at 0x000001A1B9E75408>\n",
      "ARIMA(1, 2, 0)x(1, 1, 2, 12)12 - AIC:276.88738413231164\n",
      "(1, 2, 0)\n",
      "(1, 2, 0, 12)\n",
      "<statsmodels.tsa.statespace.sarimax.SARIMAXResultsWrapper object at 0x000001A1B9E86988>\n",
      "ARIMA(1, 2, 0)x(1, 2, 0, 12)12 - AIC:334.7303582848769\n",
      "(1, 2, 0)\n",
      "(1, 2, 1, 12)\n",
      "<statsmodels.tsa.statespace.sarimax.SARIMAXResultsWrapper object at 0x000001A1B9E75408>\n",
      "ARIMA(1, 2, 0)x(1, 2, 1, 12)12 - AIC:306.6659782840256\n",
      "(1, 2, 0)\n",
      "(1, 2, 2, 12)\n"
     ]
    },
    {
     "name": "stderr",
     "output_type": "stream",
     "text": [
      "C:\\Users\\Satya\\Anaconda3\\lib\\site-packages\\statsmodels\\base\\model.py:568: ConvergenceWarning: Maximum Likelihood optimization failed to converge. Check mle_retvals\n",
      "  \"Check mle_retvals\", ConvergenceWarning)\n"
     ]
    },
    {
     "name": "stdout",
     "output_type": "stream",
     "text": [
      "<statsmodels.tsa.statespace.sarimax.SARIMAXResultsWrapper object at 0x000001A1B9E757C8>\n",
      "ARIMA(1, 2, 0)x(1, 2, 2, 12)12 - AIC:2786.799426613131\n",
      "(1, 2, 0)\n",
      "(2, 0, 0, 12)\n",
      "<statsmodels.tsa.statespace.sarimax.SARIMAXResultsWrapper object at 0x000001A1B9EF09C8>\n",
      "ARIMA(1, 2, 0)x(2, 0, 0, 12)12 - AIC:315.57446224410904\n",
      "(1, 2, 0)\n",
      "(2, 0, 1, 12)\n",
      "<statsmodels.tsa.statespace.sarimax.SARIMAXResultsWrapper object at 0x000001A1BB5CDA48>\n",
      "ARIMA(1, 2, 0)x(2, 0, 1, 12)12 - AIC:313.7375354447134\n",
      "(1, 2, 0)\n",
      "(2, 0, 2, 12)\n"
     ]
    },
    {
     "name": "stderr",
     "output_type": "stream",
     "text": [
      "C:\\Users\\Satya\\Anaconda3\\lib\\site-packages\\statsmodels\\base\\model.py:568: ConvergenceWarning: Maximum Likelihood optimization failed to converge. Check mle_retvals\n",
      "  \"Check mle_retvals\", ConvergenceWarning)\n"
     ]
    },
    {
     "name": "stdout",
     "output_type": "stream",
     "text": [
      "<statsmodels.tsa.statespace.sarimax.SARIMAXResultsWrapper object at 0x000001A1B9E97888>\n",
      "ARIMA(1, 2, 0)x(2, 0, 2, 12)12 - AIC:316.97193953552915\n",
      "(1, 2, 0)\n",
      "(2, 1, 0, 12)\n",
      "<statsmodels.tsa.statespace.sarimax.SARIMAXResultsWrapper object at 0x000001A1B9F10188>\n",
      "ARIMA(1, 2, 0)x(2, 1, 0, 12)12 - AIC:274.6905990146698\n",
      "(1, 2, 0)\n",
      "(2, 1, 1, 12)\n",
      "<statsmodels.tsa.statespace.sarimax.SARIMAXResultsWrapper object at 0x000001A1B9F1FA88>\n",
      "ARIMA(1, 2, 0)x(2, 1, 1, 12)12 - AIC:275.84923575859773\n",
      "(1, 2, 0)\n",
      "(2, 1, 2, 12)\n",
      "<statsmodels.tsa.statespace.sarimax.SARIMAXResultsWrapper object at 0x000001A1BDA59488>\n",
      "ARIMA(1, 2, 0)x(2, 1, 2, 12)12 - AIC:277.501650224035\n",
      "(1, 2, 0)\n",
      "(2, 2, 0, 12)\n",
      "<statsmodels.tsa.statespace.sarimax.SARIMAXResultsWrapper object at 0x000001A1BDA60508>\n",
      "ARIMA(1, 2, 0)x(2, 2, 0, 12)12 - AIC:274.0519182115764\n",
      "(1, 2, 0)\n",
      "(2, 2, 1, 12)\n",
      "<statsmodels.tsa.statespace.sarimax.SARIMAXResultsWrapper object at 0x000001A1BDA41B08>\n",
      "ARIMA(1, 2, 0)x(2, 2, 1, 12)12 - AIC:259.9908944878383\n",
      "(1, 2, 0)\n",
      "(2, 2, 2, 12)\n"
     ]
    },
    {
     "name": "stderr",
     "output_type": "stream",
     "text": [
      "C:\\Users\\Satya\\Anaconda3\\lib\\site-packages\\statsmodels\\base\\model.py:568: ConvergenceWarning: Maximum Likelihood optimization failed to converge. Check mle_retvals\n",
      "  \"Check mle_retvals\", ConvergenceWarning)\n"
     ]
    },
    {
     "name": "stdout",
     "output_type": "stream",
     "text": [
      "<statsmodels.tsa.statespace.sarimax.SARIMAXResultsWrapper object at 0x000001A1B9E97C88>\n",
      "ARIMA(1, 2, 0)x(2, 2, 2, 12)12 - AIC:2714.7195841702605\n",
      "(1, 2, 1)\n",
      "(0, 0, 0, 12)\n",
      "<statsmodels.tsa.statespace.sarimax.SARIMAXResultsWrapper object at 0x000001A1B9E653C8>\n",
      "ARIMA(1, 2, 1)x(0, 0, 0, 12)12 - AIC:782.0176065055351\n",
      "(1, 2, 1)\n",
      "(0, 0, 1, 12)\n",
      "<statsmodels.tsa.statespace.sarimax.SARIMAXResultsWrapper object at 0x000001A1B9EEB348>\n",
      "ARIMA(1, 2, 1)x(0, 0, 1, 12)12 - AIC:599.2084000404877\n",
      "(1, 2, 1)\n",
      "(0, 0, 2, 12)\n",
      "<statsmodels.tsa.statespace.sarimax.SARIMAXResultsWrapper object at 0x000001A1B9F10CC8>\n",
      "ARIMA(1, 2, 1)x(0, 0, 2, 12)12 - AIC:479.00831987005876\n",
      "(1, 2, 1)\n",
      "(0, 1, 0, 12)\n",
      "<statsmodels.tsa.statespace.sarimax.SARIMAXResultsWrapper object at 0x000001A1B9EDF848>\n",
      "ARIMA(1, 2, 1)x(0, 1, 0, 12)12 - AIC:297.810791415725\n",
      "(1, 2, 1)\n",
      "(0, 1, 1, 12)\n",
      "<statsmodels.tsa.statespace.sarimax.SARIMAXResultsWrapper object at 0x000001A1BDA35788>\n",
      "ARIMA(1, 2, 1)x(0, 1, 1, 12)12 - AIC:236.68749545186034\n",
      "(1, 2, 1)\n",
      "(0, 1, 2, 12)\n",
      "<statsmodels.tsa.statespace.sarimax.SARIMAXResultsWrapper object at 0x000001A1B9EEB548>\n",
      "ARIMA(1, 2, 1)x(0, 1, 2, 12)12 - AIC:212.97842100259032\n",
      "(1, 2, 1)\n",
      "(0, 2, 0, 12)\n",
      "<statsmodels.tsa.statespace.sarimax.SARIMAXResultsWrapper object at 0x000001A1B9E86988>\n",
      "ARIMA(1, 2, 1)x(0, 2, 0, 12)12 - AIC:354.62050949583625\n",
      "(1, 2, 1)\n",
      "(0, 2, 1, 12)\n",
      "<statsmodels.tsa.statespace.sarimax.SARIMAXResultsWrapper object at 0x000001A1B9E97588>\n",
      "ARIMA(1, 2, 1)x(0, 2, 1, 12)12 - AIC:252.53556914518228\n",
      "(1, 2, 1)\n",
      "(0, 2, 2, 12)\n"
     ]
    },
    {
     "name": "stderr",
     "output_type": "stream",
     "text": [
      "C:\\Users\\Satya\\Anaconda3\\lib\\site-packages\\statsmodels\\base\\model.py:568: ConvergenceWarning: Maximum Likelihood optimization failed to converge. Check mle_retvals\n",
      "  \"Check mle_retvals\", ConvergenceWarning)\n"
     ]
    },
    {
     "name": "stdout",
     "output_type": "stream",
     "text": [
      "<statsmodels.tsa.statespace.sarimax.SARIMAXResultsWrapper object at 0x000001A1B9EEBA48>\n",
      "ARIMA(1, 2, 1)x(0, 2, 2, 12)12 - AIC:2792.330443796448\n",
      "(1, 2, 1)\n",
      "(1, 0, 0, 12)\n",
      "<statsmodels.tsa.statespace.sarimax.SARIMAXResultsWrapper object at 0x000001A1B9E9CDC8>\n",
      "ARIMA(1, 2, 1)x(1, 0, 0, 12)12 - AIC:299.4739967593873\n",
      "(1, 2, 1)\n",
      "(1, 0, 1, 12)\n"
     ]
    },
    {
     "name": "stderr",
     "output_type": "stream",
     "text": [
      "C:\\Users\\Satya\\Anaconda3\\lib\\site-packages\\statsmodels\\base\\model.py:568: ConvergenceWarning: Maximum Likelihood optimization failed to converge. Check mle_retvals\n",
      "  \"Check mle_retvals\", ConvergenceWarning)\n"
     ]
    },
    {
     "name": "stdout",
     "output_type": "stream",
     "text": [
      "<statsmodels.tsa.statespace.sarimax.SARIMAXResultsWrapper object at 0x000001A1B9ED5108>\n",
      "ARIMA(1, 2, 1)x(1, 0, 1, 12)12 - AIC:299.72752243276295\n",
      "(1, 2, 1)\n",
      "(1, 0, 2, 12)\n"
     ]
    },
    {
     "name": "stderr",
     "output_type": "stream",
     "text": [
      "C:\\Users\\Satya\\Anaconda3\\lib\\site-packages\\statsmodels\\base\\model.py:568: ConvergenceWarning: Maximum Likelihood optimization failed to converge. Check mle_retvals\n",
      "  \"Check mle_retvals\", ConvergenceWarning)\n"
     ]
    },
    {
     "name": "stdout",
     "output_type": "stream",
     "text": [
      "<statsmodels.tsa.statespace.sarimax.SARIMAXResultsWrapper object at 0x000001A1B9E9C148>\n",
      "ARIMA(1, 2, 1)x(1, 0, 2, 12)12 - AIC:244.38904787492277\n",
      "(1, 2, 1)\n",
      "(1, 1, 0, 12)\n",
      "<statsmodels.tsa.statespace.sarimax.SARIMAXResultsWrapper object at 0x000001A1B9F24E48>\n",
      "ARIMA(1, 2, 1)x(1, 1, 0, 12)12 - AIC:252.51873377435984\n",
      "(1, 2, 1)\n",
      "(1, 1, 1, 12)\n",
      "<statsmodels.tsa.statespace.sarimax.SARIMAXResultsWrapper object at 0x000001A1BDA450C8>\n",
      "ARIMA(1, 2, 1)x(1, 1, 1, 12)12 - AIC:244.32795091987458\n",
      "(1, 2, 1)\n",
      "(1, 1, 2, 12)\n",
      "<statsmodels.tsa.statespace.sarimax.SARIMAXResultsWrapper object at 0x000001A1BDA60DC8>\n",
      "ARIMA(1, 2, 1)x(1, 1, 2, 12)12 - AIC:213.0998224390592\n",
      "(1, 2, 1)\n",
      "(1, 2, 0, 12)\n",
      "<statsmodels.tsa.statespace.sarimax.SARIMAXResultsWrapper object at 0x000001A1BDA53248>\n",
      "ARIMA(1, 2, 1)x(1, 2, 0, 12)12 - AIC:280.7843186752491\n",
      "(1, 2, 1)\n",
      "(1, 2, 1, 12)\n",
      "<statsmodels.tsa.statespace.sarimax.SARIMAXResultsWrapper object at 0x000001A1B9E97288>\n",
      "ARIMA(1, 2, 1)x(1, 2, 1, 12)12 - AIC:249.46347823017234\n",
      "(1, 2, 1)\n",
      "(1, 2, 2, 12)\n",
      "<statsmodels.tsa.statespace.sarimax.SARIMAXResultsWrapper object at 0x000001A1B9E97A08>\n",
      "ARIMA(1, 2, 1)x(1, 2, 2, 12)12 - AIC:2740.6506413103493\n",
      "(1, 2, 1)\n",
      "(2, 0, 0, 12)\n",
      "<statsmodels.tsa.statespace.sarimax.SARIMAXResultsWrapper object at 0x000001A1B9F35848>\n",
      "ARIMA(1, 2, 1)x(2, 0, 0, 12)12 - AIC:252.4549897808528\n",
      "(1, 2, 1)\n",
      "(2, 0, 1, 12)\n",
      "<statsmodels.tsa.statespace.sarimax.SARIMAXResultsWrapper object at 0x000001A1B9F24B48>\n",
      "ARIMA(1, 2, 1)x(2, 0, 1, 12)12 - AIC:249.2234426108317\n",
      "(1, 2, 1)\n",
      "(2, 0, 2, 12)\n",
      "<statsmodels.tsa.statespace.sarimax.SARIMAXResultsWrapper object at 0x000001A1B9E97608>\n",
      "ARIMA(1, 2, 1)x(2, 0, 2, 12)12 - AIC:243.77439386667302\n",
      "(1, 2, 1)\n",
      "(2, 1, 0, 12)\n",
      "<statsmodels.tsa.statespace.sarimax.SARIMAXResultsWrapper object at 0x000001A1BDA68DC8>\n",
      "ARIMA(1, 2, 1)x(2, 1, 0, 12)12 - AIC:215.01041066425384\n",
      "(1, 2, 1)\n",
      "(2, 1, 1, 12)\n",
      "<statsmodels.tsa.statespace.sarimax.SARIMAXResultsWrapper object at 0x000001A1B9E97948>\n",
      "ARIMA(1, 2, 1)x(2, 1, 1, 12)12 - AIC:216.44617215736426\n",
      "(1, 2, 1)\n",
      "(2, 1, 2, 12)\n",
      "<statsmodels.tsa.statespace.sarimax.SARIMAXResultsWrapper object at 0x000001A1BDA38248>\n",
      "ARIMA(1, 2, 1)x(2, 1, 2, 12)12 - AIC:215.94629948209462\n",
      "(1, 2, 1)\n",
      "(2, 2, 0, 12)\n",
      "<statsmodels.tsa.statespace.sarimax.SARIMAXResultsWrapper object at 0x000001A1BDA41B08>\n",
      "ARIMA(1, 2, 1)x(2, 2, 0, 12)12 - AIC:225.8336732208985\n",
      "(1, 2, 1)\n",
      "(2, 2, 1, 12)\n",
      "<statsmodels.tsa.statespace.sarimax.SARIMAXResultsWrapper object at 0x000001A1B9E9C4C8>\n",
      "ARIMA(1, 2, 1)x(2, 2, 1, 12)12 - AIC:212.47252724386524\n",
      "(1, 2, 1)\n",
      "(2, 2, 2, 12)\n"
     ]
    },
    {
     "name": "stderr",
     "output_type": "stream",
     "text": [
      "C:\\Users\\Satya\\Anaconda3\\lib\\site-packages\\statsmodels\\base\\model.py:568: ConvergenceWarning: Maximum Likelihood optimization failed to converge. Check mle_retvals\n",
      "  \"Check mle_retvals\", ConvergenceWarning)\n"
     ]
    },
    {
     "name": "stdout",
     "output_type": "stream",
     "text": [
      "<statsmodels.tsa.statespace.sarimax.SARIMAXResultsWrapper object at 0x000001A1BDA5B788>\n",
      "ARIMA(1, 2, 1)x(2, 2, 2, 12)12 - AIC:2374.7351951193086\n",
      "(1, 2, 2)\n",
      "(0, 0, 0, 12)\n",
      "<statsmodels.tsa.statespace.sarimax.SARIMAXResultsWrapper object at 0x000001A1BDA41848>\n",
      "ARIMA(1, 2, 2)x(0, 0, 0, 12)12 - AIC:776.5949423938137\n",
      "(1, 2, 2)\n",
      "(0, 0, 1, 12)\n",
      "<statsmodels.tsa.statespace.sarimax.SARIMAXResultsWrapper object at 0x000001A1B9ED06C8>\n",
      "ARIMA(1, 2, 2)x(0, 0, 1, 12)12 - AIC:594.6453700824786\n",
      "(1, 2, 2)\n",
      "(0, 0, 2, 12)\n"
     ]
    },
    {
     "name": "stderr",
     "output_type": "stream",
     "text": [
      "C:\\Users\\Satya\\Anaconda3\\lib\\site-packages\\statsmodels\\base\\model.py:568: ConvergenceWarning: Maximum Likelihood optimization failed to converge. Check mle_retvals\n",
      "  \"Check mle_retvals\", ConvergenceWarning)\n"
     ]
    },
    {
     "name": "stdout",
     "output_type": "stream",
     "text": [
      "<statsmodels.tsa.statespace.sarimax.SARIMAXResultsWrapper object at 0x000001A1B9E976C8>\n",
      "ARIMA(1, 2, 2)x(0, 0, 2, 12)12 - AIC:459.94096799873665\n",
      "(1, 2, 2)\n",
      "(0, 1, 0, 12)\n",
      "<statsmodels.tsa.statespace.sarimax.SARIMAXResultsWrapper object at 0x000001A1B9ED0D08>\n",
      "ARIMA(1, 2, 2)x(0, 1, 0, 12)12 - AIC:266.61843196419926\n",
      "(1, 2, 2)\n",
      "(0, 1, 1, 12)\n",
      "<statsmodels.tsa.statespace.sarimax.SARIMAXResultsWrapper object at 0x000001A1BDA482C8>\n",
      "ARIMA(1, 2, 2)x(0, 1, 1, 12)12 - AIC:211.1288823307754\n",
      "(1, 2, 2)\n",
      "(0, 1, 2, 12)\n",
      "<statsmodels.tsa.statespace.sarimax.SARIMAXResultsWrapper object at 0x000001A1B9F10FC8>\n",
      "ARIMA(1, 2, 2)x(0, 1, 2, 12)12 - AIC:191.45279067108507\n",
      "(1, 2, 2)\n",
      "(0, 2, 0, 12)\n",
      "<statsmodels.tsa.statespace.sarimax.SARIMAXResultsWrapper object at 0x000001A1B9E758C8>\n",
      "ARIMA(1, 2, 2)x(0, 2, 0, 12)12 - AIC:334.80280501280566\n",
      "(1, 2, 2)\n",
      "(0, 2, 1, 12)\n",
      "<statsmodels.tsa.statespace.sarimax.SARIMAXResultsWrapper object at 0x000001A1B9E75D88>\n",
      "ARIMA(1, 2, 2)x(0, 2, 1, 12)12 - AIC:230.38753142750247\n",
      "(1, 2, 2)\n",
      "(0, 2, 2, 12)\n"
     ]
    },
    {
     "name": "stderr",
     "output_type": "stream",
     "text": [
      "C:\\Users\\Satya\\Anaconda3\\lib\\site-packages\\statsmodels\\base\\model.py:568: ConvergenceWarning: Maximum Likelihood optimization failed to converge. Check mle_retvals\n",
      "  \"Check mle_retvals\", ConvergenceWarning)\n"
     ]
    },
    {
     "name": "stdout",
     "output_type": "stream",
     "text": [
      "<statsmodels.tsa.statespace.sarimax.SARIMAXResultsWrapper object at 0x000001A1B9EF00C8>\n",
      "ARIMA(1, 2, 2)x(0, 2, 2, 12)12 - AIC:2568.1981115148556\n",
      "(1, 2, 2)\n",
      "(1, 0, 0, 12)\n",
      "<statsmodels.tsa.statespace.sarimax.SARIMAXResultsWrapper object at 0x000001A1B9E971C8>\n",
      "ARIMA(1, 2, 2)x(1, 0, 0, 12)12 - AIC:277.8172804503365\n",
      "(1, 2, 2)\n",
      "(1, 0, 1, 12)\n"
     ]
    },
    {
     "name": "stderr",
     "output_type": "stream",
     "text": [
      "C:\\Users\\Satya\\Anaconda3\\lib\\site-packages\\statsmodels\\base\\model.py:568: ConvergenceWarning: Maximum Likelihood optimization failed to converge. Check mle_retvals\n",
      "  \"Check mle_retvals\", ConvergenceWarning)\n"
     ]
    },
    {
     "name": "stdout",
     "output_type": "stream",
     "text": [
      "<statsmodels.tsa.statespace.sarimax.SARIMAXResultsWrapper object at 0x000001A1BDA42448>\n",
      "ARIMA(1, 2, 2)x(1, 0, 1, 12)12 - AIC:281.19622220956865\n",
      "(1, 2, 2)\n",
      "(1, 0, 2, 12)\n"
     ]
    },
    {
     "name": "stderr",
     "output_type": "stream",
     "text": [
      "C:\\Users\\Satya\\Anaconda3\\lib\\site-packages\\statsmodels\\base\\model.py:568: ConvergenceWarning: Maximum Likelihood optimization failed to converge. Check mle_retvals\n",
      "  \"Check mle_retvals\", ConvergenceWarning)\n"
     ]
    },
    {
     "name": "stdout",
     "output_type": "stream",
     "text": [
      "<statsmodels.tsa.statespace.sarimax.SARIMAXResultsWrapper object at 0x000001A1B9EFADC8>\n",
      "ARIMA(1, 2, 2)x(1, 0, 2, 12)12 - AIC:223.7349568209229\n",
      "(1, 2, 2)\n",
      "(1, 1, 0, 12)\n",
      "<statsmodels.tsa.statespace.sarimax.SARIMAXResultsWrapper object at 0x000001A1B9E97588>\n",
      "ARIMA(1, 2, 2)x(1, 1, 0, 12)12 - AIC:229.32133137984303\n",
      "(1, 2, 2)\n",
      "(1, 1, 1, 12)\n",
      "<statsmodels.tsa.statespace.sarimax.SARIMAXResultsWrapper object at 0x000001A1B9EC0F48>\n",
      "ARIMA(1, 2, 2)x(1, 1, 1, 12)12 - AIC:213.1383340014695\n",
      "(1, 2, 2)\n",
      "(1, 1, 2, 12)\n"
     ]
    },
    {
     "name": "stderr",
     "output_type": "stream",
     "text": [
      "C:\\Users\\Satya\\Anaconda3\\lib\\site-packages\\statsmodels\\base\\model.py:568: ConvergenceWarning: Maximum Likelihood optimization failed to converge. Check mle_retvals\n",
      "  \"Check mle_retvals\", ConvergenceWarning)\n"
     ]
    },
    {
     "name": "stdout",
     "output_type": "stream",
     "text": [
      "<statsmodels.tsa.statespace.sarimax.SARIMAXResultsWrapper object at 0x000001A1B9F1F1C8>\n",
      "ARIMA(1, 2, 2)x(1, 1, 2, 12)12 - AIC:192.4212426186046\n",
      "(1, 2, 2)\n",
      "(1, 2, 0, 12)\n",
      "<statsmodels.tsa.statespace.sarimax.SARIMAXResultsWrapper object at 0x000001A1B9EC02C8>\n",
      "ARIMA(1, 2, 2)x(1, 2, 0, 12)12 - AIC:263.3961907852922\n",
      "(1, 2, 2)\n",
      "(1, 2, 1, 12)\n",
      "<statsmodels.tsa.statespace.sarimax.SARIMAXResultsWrapper object at 0x000001A1B9EF07C8>\n",
      "ARIMA(1, 2, 2)x(1, 2, 1, 12)12 - AIC:227.97554900540882\n",
      "(1, 2, 2)\n",
      "(1, 2, 2, 12)\n",
      "<statsmodels.tsa.statespace.sarimax.SARIMAXResultsWrapper object at 0x000001A1BDA38588>\n",
      "ARIMA(1, 2, 2)x(1, 2, 2, 12)12 - AIC:2641.229655322927\n",
      "(1, 2, 2)\n",
      "(2, 0, 0, 12)\n"
     ]
    },
    {
     "name": "stderr",
     "output_type": "stream",
     "text": [
      "C:\\Users\\Satya\\Anaconda3\\lib\\site-packages\\statsmodels\\base\\model.py:568: ConvergenceWarning: Maximum Likelihood optimization failed to converge. Check mle_retvals\n",
      "  \"Check mle_retvals\", ConvergenceWarning)\n"
     ]
    },
    {
     "name": "stdout",
     "output_type": "stream",
     "text": [
      "<statsmodels.tsa.statespace.sarimax.SARIMAXResultsWrapper object at 0x000001A1B9EC0148>\n",
      "ARIMA(1, 2, 2)x(2, 0, 0, 12)12 - AIC:230.1936226930486\n",
      "(1, 2, 2)\n",
      "(2, 0, 1, 12)\n"
     ]
    },
    {
     "name": "stderr",
     "output_type": "stream",
     "text": [
      "C:\\Users\\Satya\\Anaconda3\\lib\\site-packages\\statsmodels\\base\\model.py:568: ConvergenceWarning: Maximum Likelihood optimization failed to converge. Check mle_retvals\n",
      "  \"Check mle_retvals\", ConvergenceWarning)\n"
     ]
    },
    {
     "name": "stdout",
     "output_type": "stream",
     "text": [
      "<statsmodels.tsa.statespace.sarimax.SARIMAXResultsWrapper object at 0x000001A1B9F246C8>\n",
      "ARIMA(1, 2, 2)x(2, 0, 1, 12)12 - AIC:229.85775354647873\n",
      "(1, 2, 2)\n",
      "(2, 0, 2, 12)\n"
     ]
    },
    {
     "name": "stderr",
     "output_type": "stream",
     "text": [
      "C:\\Users\\Satya\\Anaconda3\\lib\\site-packages\\statsmodels\\base\\model.py:568: ConvergenceWarning: Maximum Likelihood optimization failed to converge. Check mle_retvals\n",
      "  \"Check mle_retvals\", ConvergenceWarning)\n"
     ]
    },
    {
     "name": "stdout",
     "output_type": "stream",
     "text": [
      "<statsmodels.tsa.statespace.sarimax.SARIMAXResultsWrapper object at 0x000001A1B9E84448>\n",
      "ARIMA(1, 2, 2)x(2, 0, 2, 12)12 - AIC:223.65056294650356\n",
      "(1, 2, 2)\n",
      "(2, 1, 0, 12)\n"
     ]
    },
    {
     "name": "stderr",
     "output_type": "stream",
     "text": [
      "C:\\Users\\Satya\\Anaconda3\\lib\\site-packages\\statsmodels\\base\\model.py:568: ConvergenceWarning: Maximum Likelihood optimization failed to converge. Check mle_retvals\n",
      "  \"Check mle_retvals\", ConvergenceWarning)\n"
     ]
    },
    {
     "name": "stdout",
     "output_type": "stream",
     "text": [
      "<statsmodels.tsa.statespace.sarimax.SARIMAXResultsWrapper object at 0x000001A1BDA66208>\n",
      "ARIMA(1, 2, 2)x(2, 1, 0, 12)12 - AIC:197.50849710647793\n",
      "(1, 2, 2)\n",
      "(2, 1, 1, 12)\n",
      "<statsmodels.tsa.statespace.sarimax.SARIMAXResultsWrapper object at 0x000001A1B9F1F048>\n",
      "ARIMA(1, 2, 2)x(2, 1, 1, 12)12 - AIC:199.5040681111456\n",
      "(1, 2, 2)\n",
      "(2, 1, 2, 12)\n"
     ]
    },
    {
     "name": "stderr",
     "output_type": "stream",
     "text": [
      "C:\\Users\\Satya\\Anaconda3\\lib\\site-packages\\statsmodels\\base\\model.py:568: ConvergenceWarning: Maximum Likelihood optimization failed to converge. Check mle_retvals\n",
      "  \"Check mle_retvals\", ConvergenceWarning)\n"
     ]
    },
    {
     "name": "stdout",
     "output_type": "stream",
     "text": [
      "<statsmodels.tsa.statespace.sarimax.SARIMAXResultsWrapper object at 0x000001A1B9EC0C88>\n",
      "ARIMA(1, 2, 2)x(2, 1, 2, 12)12 - AIC:195.33311131747\n",
      "(1, 2, 2)\n",
      "(2, 2, 0, 12)\n"
     ]
    },
    {
     "name": "stderr",
     "output_type": "stream",
     "text": [
      "C:\\Users\\Satya\\Anaconda3\\lib\\site-packages\\statsmodels\\base\\model.py:568: ConvergenceWarning: Maximum Likelihood optimization failed to converge. Check mle_retvals\n",
      "  \"Check mle_retvals\", ConvergenceWarning)\n"
     ]
    },
    {
     "name": "stdout",
     "output_type": "stream",
     "text": [
      "<statsmodels.tsa.statespace.sarimax.SARIMAXResultsWrapper object at 0x000001A1B9EFE7C8>\n",
      "ARIMA(1, 2, 2)x(2, 2, 0, 12)12 - AIC:209.51619307276442\n",
      "(1, 2, 2)\n",
      "(2, 2, 1, 12)\n",
      "<statsmodels.tsa.statespace.sarimax.SARIMAXResultsWrapper object at 0x000001A1B9EC5FC8>\n",
      "ARIMA(1, 2, 2)x(2, 2, 1, 12)12 - AIC:196.0091235953909\n",
      "(1, 2, 2)\n",
      "(2, 2, 2, 12)\n",
      "<statsmodels.tsa.statespace.sarimax.SARIMAXResultsWrapper object at 0x000001A1BB5CC948>\n",
      "ARIMA(1, 2, 2)x(2, 2, 2, 12)12 - AIC:2565.4977564304013\n",
      "(2, 0, 0)\n",
      "(0, 0, 0, 12)\n",
      "<statsmodels.tsa.statespace.sarimax.SARIMAXResultsWrapper object at 0x000001A1B9F24248>\n",
      "ARIMA(2, 0, 0)x(0, 0, 0, 12)12 - AIC:786.9508790519595\n",
      "(2, 0, 0)\n",
      "(0, 0, 1, 12)\n"
     ]
    },
    {
     "name": "stderr",
     "output_type": "stream",
     "text": [
      "C:\\Users\\Satya\\Anaconda3\\lib\\site-packages\\statsmodels\\base\\model.py:568: ConvergenceWarning: Maximum Likelihood optimization failed to converge. Check mle_retvals\n",
      "  \"Check mle_retvals\", ConvergenceWarning)\n"
     ]
    },
    {
     "name": "stdout",
     "output_type": "stream",
     "text": [
      "<statsmodels.tsa.statespace.sarimax.SARIMAXResultsWrapper object at 0x000001A1B9E65D08>\n",
      "ARIMA(2, 0, 0)x(0, 0, 1, 12)12 - AIC:609.1530292708766\n",
      "(2, 0, 0)\n",
      "(0, 0, 2, 12)\n"
     ]
    },
    {
     "name": "stderr",
     "output_type": "stream",
     "text": [
      "C:\\Users\\Satya\\Anaconda3\\lib\\site-packages\\statsmodels\\base\\model.py:568: ConvergenceWarning: Maximum Likelihood optimization failed to converge. Check mle_retvals\n",
      "  \"Check mle_retvals\", ConvergenceWarning)\n",
      "C:\\Users\\Satya\\Anaconda3\\lib\\site-packages\\statsmodels\\base\\model.py:568: ConvergenceWarning: Maximum Likelihood optimization failed to converge. Check mle_retvals\n",
      "  \"Check mle_retvals\", ConvergenceWarning)\n"
     ]
    },
    {
     "name": "stdout",
     "output_type": "stream",
     "text": [
      "<statsmodels.tsa.statespace.sarimax.SARIMAXResultsWrapper object at 0x000001A1B9E659C8>\n",
      "ARIMA(2, 0, 0)x(0, 0, 2, 12)12 - AIC:546.5798561480813\n",
      "(2, 0, 0)\n",
      "(0, 1, 0, 12)\n",
      "<statsmodels.tsa.statespace.sarimax.SARIMAXResultsWrapper object at 0x000001A1B9F1F688>\n",
      "ARIMA(2, 0, 0)x(0, 1, 0, 12)12 - AIC:293.51096195645295\n",
      "(2, 0, 0)\n",
      "(0, 1, 1, 12)\n",
      "<statsmodels.tsa.statespace.sarimax.SARIMAXResultsWrapper object at 0x000001A1B9E86988>\n",
      "ARIMA(2, 0, 0)x(0, 1, 1, 12)12 - AIC:239.4304498363487\n",
      "(2, 0, 0)\n",
      "(0, 1, 2, 12)\n",
      "<statsmodels.tsa.statespace.sarimax.SARIMAXResultsWrapper object at 0x000001A1B9E84208>\n",
      "ARIMA(2, 0, 0)x(0, 1, 2, 12)12 - AIC:214.26960137376668\n",
      "(2, 0, 0)\n",
      "(0, 2, 0, 12)\n",
      "<statsmodels.tsa.statespace.sarimax.SARIMAXResultsWrapper object at 0x000001A1AD351CC8>\n",
      "ARIMA(2, 0, 0)x(0, 2, 0, 12)12 - AIC:329.32213795791563\n",
      "(2, 0, 0)\n",
      "(0, 2, 1, 12)\n",
      "<statsmodels.tsa.statespace.sarimax.SARIMAXResultsWrapper object at 0x000001A1B9F10188>\n",
      "ARIMA(2, 0, 0)x(0, 2, 1, 12)12 - AIC:226.7368524151052\n",
      "(2, 0, 0)\n",
      "(0, 2, 2, 12)\n"
     ]
    },
    {
     "name": "stderr",
     "output_type": "stream",
     "text": [
      "C:\\Users\\Satya\\Anaconda3\\lib\\site-packages\\statsmodels\\base\\model.py:568: ConvergenceWarning: Maximum Likelihood optimization failed to converge. Check mle_retvals\n",
      "  \"Check mle_retvals\", ConvergenceWarning)\n"
     ]
    },
    {
     "name": "stdout",
     "output_type": "stream",
     "text": [
      "<statsmodels.tsa.statespace.sarimax.SARIMAXResultsWrapper object at 0x000001A1B9E65088>\n",
      "ARIMA(2, 0, 0)x(0, 2, 2, 12)12 - AIC:3003.1877037944673\n",
      "(2, 0, 0)\n",
      "(1, 0, 0, 12)\n",
      "<statsmodels.tsa.statespace.sarimax.SARIMAXResultsWrapper object at 0x000001A1BB5CF7C8>\n",
      "ARIMA(2, 0, 0)x(1, 0, 0, 12)12 - AIC:294.34543788558165\n",
      "(2, 0, 0)\n",
      "(1, 0, 1, 12)\n"
     ]
    },
    {
     "name": "stderr",
     "output_type": "stream",
     "text": [
      "C:\\Users\\Satya\\Anaconda3\\lib\\site-packages\\statsmodels\\base\\model.py:568: ConvergenceWarning: Maximum Likelihood optimization failed to converge. Check mle_retvals\n",
      "  \"Check mle_retvals\", ConvergenceWarning)\n"
     ]
    },
    {
     "name": "stdout",
     "output_type": "stream",
     "text": [
      "<statsmodels.tsa.statespace.sarimax.SARIMAXResultsWrapper object at 0x000001A1B9F1ADC8>\n",
      "ARIMA(2, 0, 0)x(1, 0, 1, 12)12 - AIC:298.729160901451\n",
      "(2, 0, 0)\n",
      "(1, 0, 2, 12)\n"
     ]
    },
    {
     "name": "stderr",
     "output_type": "stream",
     "text": [
      "C:\\Users\\Satya\\Anaconda3\\lib\\site-packages\\statsmodels\\base\\model.py:568: ConvergenceWarning: Maximum Likelihood optimization failed to converge. Check mle_retvals\n",
      "  \"Check mle_retvals\", ConvergenceWarning)\n"
     ]
    },
    {
     "name": "stdout",
     "output_type": "stream",
     "text": [
      "<statsmodels.tsa.statespace.sarimax.SARIMAXResultsWrapper object at 0x000001A1B9E97248>\n",
      "ARIMA(2, 0, 0)x(1, 0, 2, 12)12 - AIC:246.49363746350556\n",
      "(2, 0, 0)\n",
      "(1, 1, 0, 12)\n",
      "<statsmodels.tsa.statespace.sarimax.SARIMAXResultsWrapper object at 0x000001A1B9EF09C8>\n",
      "ARIMA(2, 0, 0)x(1, 1, 0, 12)12 - AIC:247.93647487252167\n",
      "(2, 0, 0)\n",
      "(1, 1, 1, 12)\n",
      "<statsmodels.tsa.statespace.sarimax.SARIMAXResultsWrapper object at 0x000001A1B9E75408>\n",
      "ARIMA(2, 0, 0)x(1, 1, 1, 12)12 - AIC:244.65286054590874\n",
      "(2, 0, 0)\n",
      "(1, 1, 2, 12)\n",
      "<statsmodels.tsa.statespace.sarimax.SARIMAXResultsWrapper object at 0x000001A1B9E65E88>\n",
      "ARIMA(2, 0, 0)x(1, 1, 2, 12)12 - AIC:214.6382138471007\n",
      "(2, 0, 0)\n",
      "(1, 2, 0, 12)\n",
      "<statsmodels.tsa.statespace.sarimax.SARIMAXResultsWrapper object at 0x000001A1B9EC0F88>\n",
      "ARIMA(2, 0, 0)x(1, 2, 0, 12)12 - AIC:249.01179268114583\n",
      "(2, 0, 0)\n",
      "(1, 2, 1, 12)\n",
      "<statsmodels.tsa.statespace.sarimax.SARIMAXResultsWrapper object at 0x000001A1AD35E708>\n",
      "ARIMA(2, 0, 0)x(1, 2, 1, 12)12 - AIC:216.31711322557246\n",
      "(2, 0, 0)\n",
      "(1, 2, 2, 12)\n"
     ]
    },
    {
     "name": "stderr",
     "output_type": "stream",
     "text": [
      "C:\\Users\\Satya\\Anaconda3\\lib\\site-packages\\statsmodels\\base\\model.py:568: ConvergenceWarning: Maximum Likelihood optimization failed to converge. Check mle_retvals\n",
      "  \"Check mle_retvals\", ConvergenceWarning)\n"
     ]
    },
    {
     "name": "stdout",
     "output_type": "stream",
     "text": [
      "<statsmodels.tsa.statespace.sarimax.SARIMAXResultsWrapper object at 0x000001A1B9E9C648>\n",
      "ARIMA(2, 0, 0)x(1, 2, 2, 12)12 - AIC:2896.699415382188\n",
      "(2, 0, 0)\n",
      "(2, 0, 0, 12)\n",
      "<statsmodels.tsa.statespace.sarimax.SARIMAXResultsWrapper object at 0x000001A1B9E97948>\n",
      "ARIMA(2, 0, 0)x(2, 0, 0, 12)12 - AIC:248.20918520049074\n",
      "(2, 0, 0)\n",
      "(2, 0, 1, 12)\n",
      "<statsmodels.tsa.statespace.sarimax.SARIMAXResultsWrapper object at 0x000001A1BB5CF7C8>\n",
      "ARIMA(2, 0, 0)x(2, 0, 1, 12)12 - AIC:244.50380313114113\n",
      "(2, 0, 0)\n",
      "(2, 0, 2, 12)\n"
     ]
    },
    {
     "name": "stderr",
     "output_type": "stream",
     "text": [
      "C:\\Users\\Satya\\Anaconda3\\lib\\site-packages\\statsmodels\\base\\model.py:568: ConvergenceWarning: Maximum Likelihood optimization failed to converge. Check mle_retvals\n",
      "  \"Check mle_retvals\", ConvergenceWarning)\n"
     ]
    },
    {
     "name": "stdout",
     "output_type": "stream",
     "text": [
      "<statsmodels.tsa.statespace.sarimax.SARIMAXResultsWrapper object at 0x000001A1BB5CFA08>\n",
      "ARIMA(2, 0, 0)x(2, 0, 2, 12)12 - AIC:243.64717194690482\n",
      "(2, 0, 0)\n",
      "(2, 1, 0, 12)\n",
      "<statsmodels.tsa.statespace.sarimax.SARIMAXResultsWrapper object at 0x000001A1B9E97488>\n",
      "ARIMA(2, 0, 0)x(2, 1, 0, 12)12 - AIC:211.37512725411304\n",
      "(2, 0, 0)\n",
      "(2, 1, 1, 12)\n",
      "<statsmodels.tsa.statespace.sarimax.SARIMAXResultsWrapper object at 0x000001A1B9E94D88>\n",
      "ARIMA(2, 0, 0)x(2, 1, 1, 12)12 - AIC:218.10556897122592\n",
      "(2, 0, 0)\n",
      "(2, 1, 2, 12)\n"
     ]
    },
    {
     "name": "stderr",
     "output_type": "stream",
     "text": [
      "C:\\Users\\Satya\\Anaconda3\\lib\\site-packages\\statsmodels\\base\\model.py:568: ConvergenceWarning: Maximum Likelihood optimization failed to converge. Check mle_retvals\n",
      "  \"Check mle_retvals\", ConvergenceWarning)\n"
     ]
    },
    {
     "name": "stdout",
     "output_type": "stream",
     "text": [
      "<statsmodels.tsa.statespace.sarimax.SARIMAXResultsWrapper object at 0x000001A1BDA66088>\n",
      "ARIMA(2, 0, 0)x(2, 1, 2, 12)12 - AIC:215.05959625278507\n",
      "(2, 0, 0)\n",
      "(2, 2, 0, 12)\n",
      "<statsmodels.tsa.statespace.sarimax.SARIMAXResultsWrapper object at 0x000001A1B9F35AC8>\n",
      "ARIMA(2, 0, 0)x(2, 2, 0, 12)12 - AIC:197.06896481760594\n",
      "(2, 0, 0)\n",
      "(2, 2, 1, 12)\n",
      "<statsmodels.tsa.statespace.sarimax.SARIMAXResultsWrapper object at 0x000001A1B9E84D88>\n",
      "ARIMA(2, 0, 0)x(2, 2, 1, 12)12 - AIC:182.18327986801285\n",
      "(2, 0, 0)\n",
      "(2, 2, 2, 12)\n"
     ]
    },
    {
     "name": "stderr",
     "output_type": "stream",
     "text": [
      "C:\\Users\\Satya\\Anaconda3\\lib\\site-packages\\statsmodels\\base\\model.py:568: ConvergenceWarning: Maximum Likelihood optimization failed to converge. Check mle_retvals\n",
      "  \"Check mle_retvals\", ConvergenceWarning)\n"
     ]
    },
    {
     "name": "stdout",
     "output_type": "stream",
     "text": [
      "<statsmodels.tsa.statespace.sarimax.SARIMAXResultsWrapper object at 0x000001A1B9F1A4C8>\n",
      "ARIMA(2, 0, 0)x(2, 2, 2, 12)12 - AIC:3201.4129044959927\n",
      "(2, 0, 1)\n",
      "(0, 0, 0, 12)\n",
      "<statsmodels.tsa.statespace.sarimax.SARIMAXResultsWrapper object at 0x000001A1BDA60988>\n",
      "ARIMA(2, 0, 1)x(0, 0, 0, 12)12 - AIC:788.2447927545189\n",
      "(2, 0, 1)\n",
      "(0, 0, 1, 12)\n",
      "<statsmodels.tsa.statespace.sarimax.SARIMAXResultsWrapper object at 0x000001A1B9F35AC8>\n",
      "ARIMA(2, 0, 1)x(0, 0, 1, 12)12 - AIC:605.1961256983686\n",
      "(2, 0, 1)\n",
      "(0, 0, 2, 12)\n",
      "<statsmodels.tsa.statespace.sarimax.SARIMAXResultsWrapper object at 0x000001A1B9E97608>\n",
      "ARIMA(2, 0, 1)x(0, 0, 2, 12)12 - AIC:469.2468230835454\n",
      "(2, 0, 1)\n",
      "(0, 1, 0, 12)\n",
      "<statsmodels.tsa.statespace.sarimax.SARIMAXResultsWrapper object at 0x000001A1B9EEB4C8>\n",
      "ARIMA(2, 0, 1)x(0, 1, 0, 12)12 - AIC:267.26291410321454\n",
      "(2, 0, 1)\n",
      "(0, 1, 1, 12)\n",
      "<statsmodels.tsa.statespace.sarimax.SARIMAXResultsWrapper object at 0x000001A1B9E94688>\n",
      "ARIMA(2, 0, 1)x(0, 1, 1, 12)12 - AIC:214.72247703061214\n",
      "(2, 0, 1)\n",
      "(0, 1, 2, 12)\n"
     ]
    },
    {
     "name": "stderr",
     "output_type": "stream",
     "text": [
      "C:\\Users\\Satya\\Anaconda3\\lib\\site-packages\\statsmodels\\base\\model.py:568: ConvergenceWarning: Maximum Likelihood optimization failed to converge. Check mle_retvals\n",
      "  \"Check mle_retvals\", ConvergenceWarning)\n"
     ]
    },
    {
     "name": "stdout",
     "output_type": "stream",
     "text": [
      "<statsmodels.tsa.statespace.sarimax.SARIMAXResultsWrapper object at 0x000001A1B9E9C248>\n",
      "ARIMA(2, 0, 1)x(0, 1, 2, 12)12 - AIC:188.70747685703515\n",
      "(2, 0, 1)\n",
      "(0, 2, 0, 12)\n",
      "<statsmodels.tsa.statespace.sarimax.SARIMAXResultsWrapper object at 0x000001A1BDA48808>\n",
      "ARIMA(2, 0, 1)x(0, 2, 0, 12)12 - AIC:331.3098298021999\n",
      "(2, 0, 1)\n",
      "(0, 2, 1, 12)\n",
      "<statsmodels.tsa.statespace.sarimax.SARIMAXResultsWrapper object at 0x000001A1BB5A2248>\n",
      "ARIMA(2, 0, 1)x(0, 2, 1, 12)12 - AIC:225.63836364414237\n",
      "(2, 0, 1)\n",
      "(0, 2, 2, 12)\n",
      "<statsmodels.tsa.statespace.sarimax.SARIMAXResultsWrapper object at 0x000001A1B9E86548>\n",
      "ARIMA(2, 0, 1)x(0, 2, 2, 12)12 - AIC:2934.793412133583\n",
      "(2, 0, 1)\n",
      "(1, 0, 0, 12)\n",
      "<statsmodels.tsa.statespace.sarimax.SARIMAXResultsWrapper object at 0x000001A1BDA4B288>\n",
      "ARIMA(2, 0, 1)x(1, 0, 0, 12)12 - AIC:267.65322319842886\n",
      "(2, 0, 1)\n",
      "(1, 0, 1, 12)\n"
     ]
    },
    {
     "name": "stderr",
     "output_type": "stream",
     "text": [
      "C:\\Users\\Satya\\Anaconda3\\lib\\site-packages\\statsmodels\\base\\model.py:568: ConvergenceWarning: Maximum Likelihood optimization failed to converge. Check mle_retvals\n",
      "  \"Check mle_retvals\", ConvergenceWarning)\n"
     ]
    },
    {
     "name": "stdout",
     "output_type": "stream",
     "text": [
      "<statsmodels.tsa.statespace.sarimax.SARIMAXResultsWrapper object at 0x000001A1BB5CFF88>\n",
      "ARIMA(2, 0, 1)x(1, 0, 1, 12)12 - AIC:283.47864589327196\n",
      "(2, 0, 1)\n",
      "(1, 0, 2, 12)\n"
     ]
    },
    {
     "name": "stderr",
     "output_type": "stream",
     "text": [
      "C:\\Users\\Satya\\Anaconda3\\lib\\site-packages\\statsmodels\\base\\model.py:568: ConvergenceWarning: Maximum Likelihood optimization failed to converge. Check mle_retvals\n",
      "  \"Check mle_retvals\", ConvergenceWarning)\n"
     ]
    },
    {
     "name": "stdout",
     "output_type": "stream",
     "text": [
      "<statsmodels.tsa.statespace.sarimax.SARIMAXResultsWrapper object at 0x000001A1B9F24B08>\n",
      "ARIMA(2, 0, 1)x(1, 0, 2, 12)12 - AIC:225.31925499181634\n",
      "(2, 0, 1)\n",
      "(1, 1, 0, 12)\n",
      "<statsmodels.tsa.statespace.sarimax.SARIMAXResultsWrapper object at 0x000001A1B9E84988>\n",
      "ARIMA(2, 0, 1)x(1, 1, 0, 12)12 - AIC:220.19159187945718\n",
      "(2, 0, 1)\n",
      "(1, 1, 1, 12)\n"
     ]
    },
    {
     "name": "stderr",
     "output_type": "stream",
     "text": [
      "C:\\Users\\Satya\\Anaconda3\\lib\\site-packages\\statsmodels\\base\\model.py:568: ConvergenceWarning: Maximum Likelihood optimization failed to converge. Check mle_retvals\n",
      "  \"Check mle_retvals\", ConvergenceWarning)\n"
     ]
    },
    {
     "name": "stdout",
     "output_type": "stream",
     "text": [
      "<statsmodels.tsa.statespace.sarimax.SARIMAXResultsWrapper object at 0x000001A1B9F30648>\n",
      "ARIMA(2, 0, 1)x(1, 1, 1, 12)12 - AIC:217.38939584627528\n",
      "(2, 0, 1)\n",
      "(1, 1, 2, 12)\n"
     ]
    },
    {
     "name": "stderr",
     "output_type": "stream",
     "text": [
      "C:\\Users\\Satya\\Anaconda3\\lib\\site-packages\\statsmodels\\base\\model.py:568: ConvergenceWarning: Maximum Likelihood optimization failed to converge. Check mle_retvals\n",
      "  \"Check mle_retvals\", ConvergenceWarning)\n"
     ]
    },
    {
     "name": "stdout",
     "output_type": "stream",
     "text": [
      "<statsmodels.tsa.statespace.sarimax.SARIMAXResultsWrapper object at 0x000001A1B9E940C8>\n",
      "ARIMA(2, 0, 1)x(1, 1, 2, 12)12 - AIC:189.74152639852156\n",
      "(2, 0, 1)\n",
      "(1, 2, 0, 12)\n",
      "<statsmodels.tsa.statespace.sarimax.SARIMAXResultsWrapper object at 0x000001A1B9E94448>\n",
      "ARIMA(2, 0, 1)x(1, 2, 0, 12)12 - AIC:250.87171736479394\n",
      "(2, 0, 1)\n",
      "(1, 2, 1, 12)\n",
      "<statsmodels.tsa.statespace.sarimax.SARIMAXResultsWrapper object at 0x000001A1BDA41B08>\n",
      "ARIMA(2, 0, 1)x(1, 2, 1, 12)12 - AIC:218.13066643965402\n",
      "(2, 0, 1)\n",
      "(1, 2, 2, 12)\n"
     ]
    },
    {
     "name": "stderr",
     "output_type": "stream",
     "text": [
      "C:\\Users\\Satya\\Anaconda3\\lib\\site-packages\\statsmodels\\base\\model.py:568: ConvergenceWarning: Maximum Likelihood optimization failed to converge. Check mle_retvals\n",
      "  \"Check mle_retvals\", ConvergenceWarning)\n"
     ]
    },
    {
     "name": "stdout",
     "output_type": "stream",
     "text": [
      "<statsmodels.tsa.statespace.sarimax.SARIMAXResultsWrapper object at 0x000001A1BDA4B288>\n",
      "ARIMA(2, 0, 1)x(1, 2, 2, 12)12 - AIC:2829.832913254382\n",
      "(2, 0, 1)\n",
      "(2, 0, 0, 12)\n"
     ]
    },
    {
     "name": "stderr",
     "output_type": "stream",
     "text": [
      "C:\\Users\\Satya\\Anaconda3\\lib\\site-packages\\statsmodels\\base\\model.py:568: ConvergenceWarning: Maximum Likelihood optimization failed to converge. Check mle_retvals\n",
      "  \"Check mle_retvals\", ConvergenceWarning)\n"
     ]
    },
    {
     "name": "stdout",
     "output_type": "stream",
     "text": [
      "<statsmodels.tsa.statespace.sarimax.SARIMAXResultsWrapper object at 0x000001A1B9E9C988>\n",
      "ARIMA(2, 0, 1)x(2, 0, 0, 12)12 - AIC:227.02322761958987\n",
      "(2, 0, 1)\n",
      "(2, 0, 1, 12)\n"
     ]
    },
    {
     "name": "stderr",
     "output_type": "stream",
     "text": [
      "C:\\Users\\Satya\\Anaconda3\\lib\\site-packages\\statsmodels\\base\\model.py:568: ConvergenceWarning: Maximum Likelihood optimization failed to converge. Check mle_retvals\n",
      "  \"Check mle_retvals\", ConvergenceWarning)\n"
     ]
    },
    {
     "name": "stdout",
     "output_type": "stream",
     "text": [
      "<statsmodels.tsa.statespace.sarimax.SARIMAXResultsWrapper object at 0x000001A1B9EF2148>\n",
      "ARIMA(2, 0, 1)x(2, 0, 1, 12)12 - AIC:218.70798366275162\n",
      "(2, 0, 1)\n",
      "(2, 0, 2, 12)\n"
     ]
    },
    {
     "name": "stderr",
     "output_type": "stream",
     "text": [
      "C:\\Users\\Satya\\Anaconda3\\lib\\site-packages\\statsmodels\\base\\model.py:568: ConvergenceWarning: Maximum Likelihood optimization failed to converge. Check mle_retvals\n",
      "  \"Check mle_retvals\", ConvergenceWarning)\n"
     ]
    },
    {
     "name": "stdout",
     "output_type": "stream",
     "text": [
      "<statsmodels.tsa.statespace.sarimax.SARIMAXResultsWrapper object at 0x000001A1B9E8F8C8>\n",
      "ARIMA(2, 0, 1)x(2, 0, 2, 12)12 - AIC:222.14597760574745\n",
      "(2, 0, 1)\n",
      "(2, 1, 0, 12)\n",
      "<statsmodels.tsa.statespace.sarimax.SARIMAXResultsWrapper object at 0x000001A1B9EC5448>\n",
      "ARIMA(2, 0, 1)x(2, 1, 0, 12)12 - AIC:188.8538974825864\n",
      "(2, 0, 1)\n",
      "(2, 1, 1, 12)\n",
      "<statsmodels.tsa.statespace.sarimax.SARIMAXResultsWrapper object at 0x000001A1B9EC0288>\n",
      "ARIMA(2, 0, 1)x(2, 1, 1, 12)12 - AIC:220.00041228810727\n",
      "(2, 0, 1)\n",
      "(2, 1, 2, 12)\n"
     ]
    },
    {
     "name": "stderr",
     "output_type": "stream",
     "text": [
      "C:\\Users\\Satya\\Anaconda3\\lib\\site-packages\\statsmodels\\base\\model.py:568: ConvergenceWarning: Maximum Likelihood optimization failed to converge. Check mle_retvals\n",
      "  \"Check mle_retvals\", ConvergenceWarning)\n"
     ]
    },
    {
     "name": "stdout",
     "output_type": "stream",
     "text": [
      "<statsmodels.tsa.statespace.sarimax.SARIMAXResultsWrapper object at 0x000001A1B9E8F0C8>\n",
      "ARIMA(2, 0, 1)x(2, 1, 2, 12)12 - AIC:193.1834703313732\n",
      "(2, 0, 1)\n",
      "(2, 2, 0, 12)\n",
      "<statsmodels.tsa.statespace.sarimax.SARIMAXResultsWrapper object at 0x000001A1B9E9C0C8>\n",
      "ARIMA(2, 0, 1)x(2, 2, 0, 12)12 - AIC:196.77869265773248\n",
      "(2, 0, 1)\n",
      "(2, 2, 1, 12)\n",
      "<statsmodels.tsa.statespace.sarimax.SARIMAXResultsWrapper object at 0x000001A1B9EC0848>\n",
      "ARIMA(2, 0, 1)x(2, 2, 1, 12)12 - AIC:184.17257921927146\n",
      "(2, 0, 1)\n",
      "(2, 2, 2, 12)\n",
      "<statsmodels.tsa.statespace.sarimax.SARIMAXResultsWrapper object at 0x000001A1B9E8FE88>\n",
      "ARIMA(2, 0, 1)x(2, 2, 2, 12)12 - AIC:2880.670121567443\n",
      "(2, 0, 2)\n",
      "(0, 0, 0, 12)\n",
      "<statsmodels.tsa.statespace.sarimax.SARIMAXResultsWrapper object at 0x000001A1B9EF0388>\n",
      "ARIMA(2, 0, 2)x(0, 0, 0, 12)12 - AIC:757.8240342878381\n",
      "(2, 0, 2)\n",
      "(0, 0, 1, 12)\n",
      "<statsmodels.tsa.statespace.sarimax.SARIMAXResultsWrapper object at 0x000001A1B9EC0E88>\n",
      "ARIMA(2, 0, 2)x(0, 0, 1, 12)12 - AIC:577.9999483061133\n",
      "(2, 0, 2)\n",
      "(0, 0, 2, 12)\n"
     ]
    },
    {
     "name": "stderr",
     "output_type": "stream",
     "text": [
      "C:\\Users\\Satya\\Anaconda3\\lib\\site-packages\\statsmodels\\base\\model.py:568: ConvergenceWarning: Maximum Likelihood optimization failed to converge. Check mle_retvals\n",
      "  \"Check mle_retvals\", ConvergenceWarning)\n"
     ]
    },
    {
     "name": "stdout",
     "output_type": "stream",
     "text": [
      "<statsmodels.tsa.statespace.sarimax.SARIMAXResultsWrapper object at 0x000001A1B9E8FF48>\n",
      "ARIMA(2, 0, 2)x(0, 0, 2, 12)12 - AIC:550.9029899904148\n",
      "(2, 0, 2)\n",
      "(0, 1, 0, 12)\n"
     ]
    },
    {
     "name": "stderr",
     "output_type": "stream",
     "text": [
      "C:\\Users\\Satya\\Anaconda3\\lib\\site-packages\\statsmodels\\base\\model.py:568: ConvergenceWarning: Maximum Likelihood optimization failed to converge. Check mle_retvals\n",
      "  \"Check mle_retvals\", ConvergenceWarning)\n"
     ]
    },
    {
     "name": "stdout",
     "output_type": "stream",
     "text": [
      "<statsmodels.tsa.statespace.sarimax.SARIMAXResultsWrapper object at 0x000001A1B9EF27C8>\n",
      "ARIMA(2, 0, 2)x(0, 1, 0, 12)12 - AIC:265.56368180728566\n",
      "(2, 0, 2)\n",
      "(0, 1, 1, 12)\n",
      "<statsmodels.tsa.statespace.sarimax.SARIMAXResultsWrapper object at 0x000001A1AD36B748>\n",
      "ARIMA(2, 0, 2)x(0, 1, 1, 12)12 - AIC:208.74811183924947\n",
      "(2, 0, 2)\n",
      "(0, 1, 2, 12)\n",
      "<statsmodels.tsa.statespace.sarimax.SARIMAXResultsWrapper object at 0x000001A1B9E9CCC8>\n",
      "ARIMA(2, 0, 2)x(0, 1, 2, 12)12 - AIC:187.02673348173545\n",
      "(2, 0, 2)\n",
      "(0, 2, 0, 12)\n",
      "<statsmodels.tsa.statespace.sarimax.SARIMAXResultsWrapper object at 0x000001A1B9EC5448>\n",
      "ARIMA(2, 0, 2)x(0, 2, 0, 12)12 - AIC:330.3208160060435\n",
      "(2, 0, 2)\n",
      "(0, 2, 1, 12)\n",
      "<statsmodels.tsa.statespace.sarimax.SARIMAXResultsWrapper object at 0x000001A1B9EF0288>\n",
      "ARIMA(2, 0, 2)x(0, 2, 1, 12)12 - AIC:221.99453312315984\n",
      "(2, 0, 2)\n",
      "(0, 2, 2, 12)\n"
     ]
    },
    {
     "name": "stderr",
     "output_type": "stream",
     "text": [
      "C:\\Users\\Satya\\Anaconda3\\lib\\site-packages\\statsmodels\\base\\model.py:568: ConvergenceWarning: Maximum Likelihood optimization failed to converge. Check mle_retvals\n",
      "  \"Check mle_retvals\", ConvergenceWarning)\n"
     ]
    },
    {
     "name": "stdout",
     "output_type": "stream",
     "text": [
      "<statsmodels.tsa.statespace.sarimax.SARIMAXResultsWrapper object at 0x000001A1B9E8F0C8>\n",
      "ARIMA(2, 0, 2)x(0, 2, 2, 12)12 - AIC:3296.7333470070416\n",
      "(2, 0, 2)\n",
      "(1, 0, 0, 12)\n"
     ]
    },
    {
     "name": "stderr",
     "output_type": "stream",
     "text": [
      "C:\\Users\\Satya\\Anaconda3\\lib\\site-packages\\statsmodels\\base\\model.py:568: ConvergenceWarning: Maximum Likelihood optimization failed to converge. Check mle_retvals\n",
      "  \"Check mle_retvals\", ConvergenceWarning)\n"
     ]
    },
    {
     "name": "stdout",
     "output_type": "stream",
     "text": [
      "<statsmodels.tsa.statespace.sarimax.SARIMAXResultsWrapper object at 0x000001A1B9E94E08>\n",
      "ARIMA(2, 0, 2)x(1, 0, 0, 12)12 - AIC:269.2473173757008\n",
      "(2, 0, 2)\n",
      "(1, 0, 1, 12)\n"
     ]
    },
    {
     "name": "stderr",
     "output_type": "stream",
     "text": [
      "C:\\Users\\Satya\\Anaconda3\\lib\\site-packages\\statsmodels\\base\\model.py:568: ConvergenceWarning: Maximum Likelihood optimization failed to converge. Check mle_retvals\n",
      "  \"Check mle_retvals\", ConvergenceWarning)\n"
     ]
    },
    {
     "name": "stdout",
     "output_type": "stream",
     "text": [
      "<statsmodels.tsa.statespace.sarimax.SARIMAXResultsWrapper object at 0x000001A1B9F1F808>\n",
      "ARIMA(2, 0, 2)x(1, 0, 1, 12)12 - AIC:277.9677602242099\n",
      "(2, 0, 2)\n",
      "(1, 0, 2, 12)\n"
     ]
    },
    {
     "name": "stderr",
     "output_type": "stream",
     "text": [
      "C:\\Users\\Satya\\Anaconda3\\lib\\site-packages\\statsmodels\\base\\model.py:568: ConvergenceWarning: Maximum Likelihood optimization failed to converge. Check mle_retvals\n",
      "  \"Check mle_retvals\", ConvergenceWarning)\n"
     ]
    },
    {
     "name": "stdout",
     "output_type": "stream",
     "text": [
      "<statsmodels.tsa.statespace.sarimax.SARIMAXResultsWrapper object at 0x000001A1B9ED0DC8>\n",
      "ARIMA(2, 0, 2)x(1, 0, 2, 12)12 - AIC:220.68203862993184\n",
      "(2, 0, 2)\n",
      "(1, 1, 0, 12)\n",
      "<statsmodels.tsa.statespace.sarimax.SARIMAXResultsWrapper object at 0x000001A1B9ED5EC8>\n",
      "ARIMA(2, 0, 2)x(1, 1, 0, 12)12 - AIC:222.133203930086\n",
      "(2, 0, 2)\n",
      "(1, 1, 1, 12)\n"
     ]
    },
    {
     "name": "stderr",
     "output_type": "stream",
     "text": [
      "C:\\Users\\Satya\\Anaconda3\\lib\\site-packages\\statsmodels\\base\\model.py:568: ConvergenceWarning: Maximum Likelihood optimization failed to converge. Check mle_retvals\n",
      "  \"Check mle_retvals\", ConvergenceWarning)\n"
     ]
    },
    {
     "name": "stdout",
     "output_type": "stream",
     "text": [
      "<statsmodels.tsa.statespace.sarimax.SARIMAXResultsWrapper object at 0x000001A1BB5CFF88>\n",
      "ARIMA(2, 0, 2)x(1, 1, 1, 12)12 - AIC:212.5845570215288\n",
      "(2, 0, 2)\n",
      "(1, 1, 2, 12)\n"
     ]
    },
    {
     "name": "stderr",
     "output_type": "stream",
     "text": [
      "C:\\Users\\Satya\\Anaconda3\\lib\\site-packages\\statsmodels\\base\\model.py:568: ConvergenceWarning: Maximum Likelihood optimization failed to converge. Check mle_retvals\n",
      "  \"Check mle_retvals\", ConvergenceWarning)\n"
     ]
    },
    {
     "name": "stdout",
     "output_type": "stream",
     "text": [
      "<statsmodels.tsa.statespace.sarimax.SARIMAXResultsWrapper object at 0x000001A1BDA59288>\n",
      "ARIMA(2, 0, 2)x(1, 1, 2, 12)12 - AIC:186.65904367733827\n",
      "(2, 0, 2)\n",
      "(1, 2, 0, 12)\n",
      "<statsmodels.tsa.statespace.sarimax.SARIMAXResultsWrapper object at 0x000001A1B9E8F488>\n",
      "ARIMA(2, 0, 2)x(1, 2, 0, 12)12 - AIC:251.9760469070607\n",
      "(2, 0, 2)\n",
      "(1, 2, 1, 12)\n",
      "<statsmodels.tsa.statespace.sarimax.SARIMAXResultsWrapper object at 0x000001A1B9E975C8>\n",
      "ARIMA(2, 0, 2)x(1, 2, 1, 12)12 - AIC:216.51112296544173\n",
      "(2, 0, 2)\n",
      "(1, 2, 2, 12)\n"
     ]
    },
    {
     "name": "stderr",
     "output_type": "stream",
     "text": [
      "C:\\Users\\Satya\\Anaconda3\\lib\\site-packages\\statsmodels\\base\\model.py:568: ConvergenceWarning: Maximum Likelihood optimization failed to converge. Check mle_retvals\n",
      "  \"Check mle_retvals\", ConvergenceWarning)\n"
     ]
    },
    {
     "name": "stdout",
     "output_type": "stream",
     "text": [
      "<statsmodels.tsa.statespace.sarimax.SARIMAXResultsWrapper object at 0x000001A1B9E65248>\n",
      "ARIMA(2, 0, 2)x(1, 2, 2, 12)12 - AIC:3193.300887793841\n",
      "(2, 0, 2)\n",
      "(2, 0, 0, 12)\n",
      "<statsmodels.tsa.statespace.sarimax.SARIMAXResultsWrapper object at 0x000001A1B9E65808>\n",
      "ARIMA(2, 0, 2)x(2, 0, 0, 12)12 - AIC:223.77242286919966\n",
      "(2, 0, 2)\n",
      "(2, 0, 1, 12)\n"
     ]
    },
    {
     "name": "stderr",
     "output_type": "stream",
     "text": [
      "C:\\Users\\Satya\\Anaconda3\\lib\\site-packages\\statsmodels\\base\\model.py:568: ConvergenceWarning: Maximum Likelihood optimization failed to converge. Check mle_retvals\n",
      "  \"Check mle_retvals\", ConvergenceWarning)\n"
     ]
    },
    {
     "name": "stdout",
     "output_type": "stream",
     "text": [
      "<statsmodels.tsa.statespace.sarimax.SARIMAXResultsWrapper object at 0x000001A1B9EEBCC8>\n",
      "ARIMA(2, 0, 2)x(2, 0, 1, 12)12 - AIC:237.17687620461555\n",
      "(2, 0, 2)\n",
      "(2, 0, 2, 12)\n"
     ]
    },
    {
     "name": "stderr",
     "output_type": "stream",
     "text": [
      "C:\\Users\\Satya\\Anaconda3\\lib\\site-packages\\statsmodels\\base\\model.py:568: ConvergenceWarning: Maximum Likelihood optimization failed to converge. Check mle_retvals\n",
      "  \"Check mle_retvals\", ConvergenceWarning)\n"
     ]
    },
    {
     "name": "stdout",
     "output_type": "stream",
     "text": [
      "<statsmodels.tsa.statespace.sarimax.SARIMAXResultsWrapper object at 0x000001A1B9E84148>\n",
      "ARIMA(2, 0, 2)x(2, 0, 2, 12)12 - AIC:220.33140188705934\n",
      "(2, 0, 2)\n",
      "(2, 1, 0, 12)\n"
     ]
    },
    {
     "name": "stderr",
     "output_type": "stream",
     "text": [
      "C:\\Users\\Satya\\Anaconda3\\lib\\site-packages\\statsmodels\\base\\model.py:568: ConvergenceWarning: Maximum Likelihood optimization failed to converge. Check mle_retvals\n",
      "  \"Check mle_retvals\", ConvergenceWarning)\n"
     ]
    },
    {
     "name": "stdout",
     "output_type": "stream",
     "text": [
      "<statsmodels.tsa.statespace.sarimax.SARIMAXResultsWrapper object at 0x000001A1B9E65A88>\n",
      "ARIMA(2, 0, 2)x(2, 1, 0, 12)12 - AIC:189.47993144265763\n",
      "(2, 0, 2)\n",
      "(2, 1, 1, 12)\n"
     ]
    },
    {
     "name": "stderr",
     "output_type": "stream",
     "text": [
      "C:\\Users\\Satya\\Anaconda3\\lib\\site-packages\\statsmodels\\base\\model.py:568: ConvergenceWarning: Maximum Likelihood optimization failed to converge. Check mle_retvals\n",
      "  \"Check mle_retvals\", ConvergenceWarning)\n"
     ]
    },
    {
     "name": "stdout",
     "output_type": "stream",
     "text": [
      "<statsmodels.tsa.statespace.sarimax.SARIMAXResultsWrapper object at 0x000001A1B9E758C8>\n",
      "ARIMA(2, 0, 2)x(2, 1, 1, 12)12 - AIC:189.87410115607614\n",
      "(2, 0, 2)\n",
      "(2, 1, 2, 12)\n"
     ]
    },
    {
     "name": "stderr",
     "output_type": "stream",
     "text": [
      "C:\\Users\\Satya\\Anaconda3\\lib\\site-packages\\statsmodels\\base\\model.py:568: ConvergenceWarning: Maximum Likelihood optimization failed to converge. Check mle_retvals\n",
      "  \"Check mle_retvals\", ConvergenceWarning)\n"
     ]
    },
    {
     "name": "stdout",
     "output_type": "stream",
     "text": [
      "<statsmodels.tsa.statespace.sarimax.SARIMAXResultsWrapper object at 0x000001A1B9E75988>\n",
      "ARIMA(2, 0, 2)x(2, 1, 2, 12)12 - AIC:189.1208048295809\n",
      "(2, 0, 2)\n",
      "(2, 2, 0, 12)\n",
      "<statsmodels.tsa.statespace.sarimax.SARIMAXResultsWrapper object at 0x000001A1B9EA2B08>\n",
      "ARIMA(2, 0, 2)x(2, 2, 0, 12)12 - AIC:198.6774975124533\n",
      "(2, 0, 2)\n",
      "(2, 2, 1, 12)\n",
      "<statsmodels.tsa.statespace.sarimax.SARIMAXResultsWrapper object at 0x000001A1BDA52388>\n",
      "ARIMA(2, 0, 2)x(2, 2, 1, 12)12 - AIC:184.09696350650253\n",
      "(2, 0, 2)\n",
      "(2, 2, 2, 12)\n"
     ]
    },
    {
     "name": "stderr",
     "output_type": "stream",
     "text": [
      "C:\\Users\\Satya\\Anaconda3\\lib\\site-packages\\statsmodels\\base\\model.py:568: ConvergenceWarning: Maximum Likelihood optimization failed to converge. Check mle_retvals\n",
      "  \"Check mle_retvals\", ConvergenceWarning)\n"
     ]
    },
    {
     "name": "stdout",
     "output_type": "stream",
     "text": [
      "<statsmodels.tsa.statespace.sarimax.SARIMAXResultsWrapper object at 0x000001A1B9EA2B08>\n",
      "ARIMA(2, 0, 2)x(2, 2, 2, 12)12 - AIC:3243.440541298668\n",
      "(2, 1, 0)\n",
      "(0, 0, 0, 12)\n",
      "<statsmodels.tsa.statespace.sarimax.SARIMAXResultsWrapper object at 0x000001A1B9EF2C48>\n",
      "ARIMA(2, 1, 0)x(0, 0, 0, 12)12 - AIC:779.8269133606364\n",
      "(2, 1, 0)\n",
      "(0, 0, 1, 12)\n",
      "<statsmodels.tsa.statespace.sarimax.SARIMAXResultsWrapper object at 0x000001A1B9EADB48>\n",
      "ARIMA(2, 1, 0)x(0, 0, 1, 12)12 - AIC:599.9312789977258\n",
      "(2, 1, 0)\n",
      "(0, 0, 2, 12)\n",
      "<statsmodels.tsa.statespace.sarimax.SARIMAXResultsWrapper object at 0x000001A1B9E8FE88>\n",
      "ARIMA(2, 1, 0)x(0, 0, 2, 12)12 - AIC:483.6269637097433\n",
      "(2, 1, 0)\n",
      "(0, 1, 0, 12)\n",
      "<statsmodels.tsa.statespace.sarimax.SARIMAXResultsWrapper object at 0x000001A1B9E943C8>\n",
      "ARIMA(2, 1, 0)x(0, 1, 0, 12)12 - AIC:286.579758801308\n",
      "(2, 1, 0)\n",
      "(0, 1, 1, 12)\n",
      "<statsmodels.tsa.statespace.sarimax.SARIMAXResultsWrapper object at 0x000001A1B9E84C48>\n",
      "ARIMA(2, 1, 0)x(0, 1, 1, 12)12 - AIC:231.30044056150263\n",
      "(2, 1, 0)\n",
      "(0, 1, 2, 12)\n",
      "<statsmodels.tsa.statespace.sarimax.SARIMAXResultsWrapper object at 0x000001A1B9E943C8>\n",
      "ARIMA(2, 1, 0)x(0, 1, 2, 12)12 - AIC:204.35080953373085\n",
      "(2, 1, 0)\n",
      "(0, 2, 0, 12)\n",
      "<statsmodels.tsa.statespace.sarimax.SARIMAXResultsWrapper object at 0x000001A1B9EB9348>\n",
      "ARIMA(2, 1, 0)x(0, 2, 0, 12)12 - AIC:347.34992267043907\n",
      "(2, 1, 0)\n",
      "(0, 2, 1, 12)\n",
      "<statsmodels.tsa.statespace.sarimax.SARIMAXResultsWrapper object at 0x000001A1B9E84808>\n",
      "ARIMA(2, 1, 0)x(0, 2, 1, 12)12 - AIC:246.52019462801675\n",
      "(2, 1, 0)\n",
      "(0, 2, 2, 12)\n"
     ]
    },
    {
     "name": "stderr",
     "output_type": "stream",
     "text": [
      "C:\\Users\\Satya\\Anaconda3\\lib\\site-packages\\statsmodels\\base\\model.py:568: ConvergenceWarning: Maximum Likelihood optimization failed to converge. Check mle_retvals\n",
      "  \"Check mle_retvals\", ConvergenceWarning)\n"
     ]
    },
    {
     "name": "stdout",
     "output_type": "stream",
     "text": [
      "<statsmodels.tsa.statespace.sarimax.SARIMAXResultsWrapper object at 0x000001A1B9EAD608>\n",
      "ARIMA(2, 1, 0)x(0, 2, 2, 12)12 - AIC:nan\n",
      "(2, 1, 0)\n",
      "(1, 0, 0, 12)\n",
      "<statsmodels.tsa.statespace.sarimax.SARIMAXResultsWrapper object at 0x000001A1B9E94708>\n",
      "ARIMA(2, 1, 0)x(1, 0, 0, 12)12 - AIC:286.93616176573687\n",
      "(2, 1, 0)\n",
      "(1, 0, 1, 12)\n"
     ]
    },
    {
     "name": "stderr",
     "output_type": "stream",
     "text": [
      "C:\\Users\\Satya\\Anaconda3\\lib\\site-packages\\statsmodels\\base\\model.py:568: ConvergenceWarning: Maximum Likelihood optimization failed to converge. Check mle_retvals\n",
      "  \"Check mle_retvals\", ConvergenceWarning)\n"
     ]
    },
    {
     "name": "stdout",
     "output_type": "stream",
     "text": [
      "<statsmodels.tsa.statespace.sarimax.SARIMAXResultsWrapper object at 0x000001A1B9ED0C88>\n",
      "ARIMA(2, 1, 0)x(1, 0, 1, 12)12 - AIC:290.4150903783499\n",
      "(2, 1, 0)\n",
      "(1, 0, 2, 12)\n",
      "<statsmodels.tsa.statespace.sarimax.SARIMAXResultsWrapper object at 0x000001A1B9EA2C88>\n",
      "ARIMA(2, 1, 0)x(1, 0, 2, 12)12 - AIC:236.87912602435787\n",
      "(2, 1, 0)\n",
      "(1, 1, 0, 12)\n",
      "<statsmodels.tsa.statespace.sarimax.SARIMAXResultsWrapper object at 0x000001A1B9EC0FC8>\n",
      "ARIMA(2, 1, 0)x(1, 1, 0, 12)12 - AIC:240.17791110110855\n",
      "(2, 1, 0)\n",
      "(1, 1, 1, 12)\n",
      "<statsmodels.tsa.statespace.sarimax.SARIMAXResultsWrapper object at 0x000001A1B9E94408>\n",
      "ARIMA(2, 1, 0)x(1, 1, 1, 12)12 - AIC:234.88198657956042\n",
      "(2, 1, 0)\n",
      "(1, 1, 2, 12)\n",
      "<statsmodels.tsa.statespace.sarimax.SARIMAXResultsWrapper object at 0x000001A1B9EA2808>\n",
      "ARIMA(2, 1, 0)x(1, 1, 2, 12)12 - AIC:204.87585318454526\n",
      "(2, 1, 0)\n",
      "(1, 2, 0, 12)\n",
      "<statsmodels.tsa.statespace.sarimax.SARIMAXResultsWrapper object at 0x000001A1B9F24048>\n",
      "ARIMA(2, 1, 0)x(1, 2, 0, 12)12 - AIC:270.6829802735607\n",
      "(2, 1, 0)\n",
      "(1, 2, 1, 12)\n",
      "<statsmodels.tsa.statespace.sarimax.SARIMAXResultsWrapper object at 0x000001A1B9E8FEC8>\n",
      "ARIMA(2, 1, 0)x(1, 2, 1, 12)12 - AIC:239.80827924119336\n",
      "(2, 1, 0)\n",
      "(1, 2, 2, 12)\n",
      "<statsmodels.tsa.statespace.sarimax.SARIMAXResultsWrapper object at 0x000001A1B9EC0A48>\n",
      "ARIMA(2, 1, 0)x(1, 2, 2, 12)12 - AIC:2667.6727870600016\n",
      "(2, 1, 0)\n",
      "(2, 0, 0, 12)\n",
      "<statsmodels.tsa.statespace.sarimax.SARIMAXResultsWrapper object at 0x000001A1B9EA2588>\n",
      "ARIMA(2, 1, 0)x(2, 0, 0, 12)12 - AIC:240.4770986645736\n",
      "(2, 1, 0)\n",
      "(2, 0, 1, 12)\n"
     ]
    },
    {
     "name": "stderr",
     "output_type": "stream",
     "text": [
      "C:\\Users\\Satya\\Anaconda3\\lib\\site-packages\\statsmodels\\base\\model.py:568: ConvergenceWarning: Maximum Likelihood optimization failed to converge. Check mle_retvals\n",
      "  \"Check mle_retvals\", ConvergenceWarning)\n"
     ]
    },
    {
     "name": "stdout",
     "output_type": "stream",
     "text": [
      "<statsmodels.tsa.statespace.sarimax.SARIMAXResultsWrapper object at 0x000001A1B9EA2848>\n",
      "ARIMA(2, 1, 0)x(2, 0, 1, 12)12 - AIC:243.5372317208105\n",
      "(2, 1, 0)\n",
      "(2, 0, 2, 12)\n"
     ]
    },
    {
     "name": "stderr",
     "output_type": "stream",
     "text": [
      "C:\\Users\\Satya\\Anaconda3\\lib\\site-packages\\statsmodels\\base\\model.py:568: ConvergenceWarning: Maximum Likelihood optimization failed to converge. Check mle_retvals\n",
      "  \"Check mle_retvals\", ConvergenceWarning)\n"
     ]
    },
    {
     "name": "stdout",
     "output_type": "stream",
     "text": [
      "<statsmodels.tsa.statespace.sarimax.SARIMAXResultsWrapper object at 0x000001A1B9E86748>\n",
      "ARIMA(2, 1, 0)x(2, 0, 2, 12)12 - AIC:251.42834832631\n",
      "(2, 1, 0)\n",
      "(2, 1, 0, 12)\n",
      "<statsmodels.tsa.statespace.sarimax.SARIMAXResultsWrapper object at 0x000001A1B9EADE88>\n",
      "ARIMA(2, 1, 0)x(2, 1, 0, 12)12 - AIC:200.55944536225448\n",
      "(2, 1, 0)\n",
      "(2, 1, 1, 12)\n",
      "<statsmodels.tsa.statespace.sarimax.SARIMAXResultsWrapper object at 0x000001A1B9EC0748>\n",
      "ARIMA(2, 1, 0)x(2, 1, 1, 12)12 - AIC:202.0490630422909\n",
      "(2, 1, 0)\n",
      "(2, 1, 2, 12)\n",
      "<statsmodels.tsa.statespace.sarimax.SARIMAXResultsWrapper object at 0x000001A1B9EC0148>\n",
      "ARIMA(2, 1, 0)x(2, 1, 2, 12)12 - AIC:203.69419071817518\n",
      "(2, 1, 0)\n",
      "(2, 2, 0, 12)\n",
      "<statsmodels.tsa.statespace.sarimax.SARIMAXResultsWrapper object at 0x000001A1B9EAD688>\n",
      "ARIMA(2, 1, 0)x(2, 2, 0, 12)12 - AIC:210.2848732713852\n",
      "(2, 1, 0)\n",
      "(2, 2, 1, 12)\n",
      "<statsmodels.tsa.statespace.sarimax.SARIMAXResultsWrapper object at 0x000001A1BDA45048>\n",
      "ARIMA(2, 1, 0)x(2, 2, 1, 12)12 - AIC:196.03944866176153\n",
      "(2, 1, 0)\n",
      "(2, 2, 2, 12)\n"
     ]
    },
    {
     "name": "stderr",
     "output_type": "stream",
     "text": [
      "C:\\Users\\Satya\\Anaconda3\\lib\\site-packages\\statsmodels\\base\\model.py:568: ConvergenceWarning: Maximum Likelihood optimization failed to converge. Check mle_retvals\n",
      "  \"Check mle_retvals\", ConvergenceWarning)\n"
     ]
    },
    {
     "name": "stdout",
     "output_type": "stream",
     "text": [
      "<statsmodels.tsa.statespace.sarimax.SARIMAXResultsWrapper object at 0x000001A1B9EC0108>\n",
      "ARIMA(2, 1, 0)x(2, 2, 2, 12)12 - AIC:2651.7356849308258\n",
      "(2, 1, 1)\n",
      "(0, 0, 0, 12)\n",
      "<statsmodels.tsa.statespace.sarimax.SARIMAXResultsWrapper object at 0x000001A1B9E7C788>\n",
      "ARIMA(2, 1, 1)x(0, 0, 0, 12)12 - AIC:756.7049011075379\n",
      "(2, 1, 1)\n",
      "(0, 0, 1, 12)\n",
      "<statsmodels.tsa.statespace.sarimax.SARIMAXResultsWrapper object at 0x000001A1BB5A25C8>\n",
      "ARIMA(2, 1, 1)x(0, 0, 1, 12)12 - AIC:575.5084644608875\n",
      "(2, 1, 1)\n",
      "(0, 0, 2, 12)\n",
      "<statsmodels.tsa.statespace.sarimax.SARIMAXResultsWrapper object at 0x000001A1B9E7C388>\n",
      "ARIMA(2, 1, 1)x(0, 0, 2, 12)12 - AIC:461.9416197783787\n",
      "(2, 1, 1)\n",
      "(0, 1, 0, 12)\n",
      "<statsmodels.tsa.statespace.sarimax.SARIMAXResultsWrapper object at 0x000001A1AD342E88>\n",
      "ARIMA(2, 1, 1)x(0, 1, 0, 12)12 - AIC:265.0271329926216\n",
      "(2, 1, 1)\n",
      "(0, 1, 1, 12)\n",
      "<statsmodels.tsa.statespace.sarimax.SARIMAXResultsWrapper object at 0x000001A1B9E7C588>\n",
      "ARIMA(2, 1, 1)x(0, 1, 1, 12)12 - AIC:211.5122524927892\n",
      "(2, 1, 1)\n",
      "(0, 1, 2, 12)\n",
      "<statsmodels.tsa.statespace.sarimax.SARIMAXResultsWrapper object at 0x000001A1B9E7C448>\n",
      "ARIMA(2, 1, 1)x(0, 1, 2, 12)12 - AIC:187.17083447671502\n",
      "(2, 1, 1)\n",
      "(0, 2, 0, 12)\n",
      "<statsmodels.tsa.statespace.sarimax.SARIMAXResultsWrapper object at 0x000001A1B9EAD048>\n",
      "ARIMA(2, 1, 1)x(0, 2, 0, 12)12 - AIC:333.52461803543144\n",
      "(2, 1, 1)\n",
      "(0, 2, 1, 12)\n",
      "<statsmodels.tsa.statespace.sarimax.SARIMAXResultsWrapper object at 0x000001A1B9E86908>\n",
      "ARIMA(2, 1, 1)x(0, 2, 1, 12)12 - AIC:229.2118154149835\n",
      "(2, 1, 1)\n",
      "(0, 2, 2, 12)\n"
     ]
    },
    {
     "name": "stderr",
     "output_type": "stream",
     "text": [
      "C:\\Users\\Satya\\Anaconda3\\lib\\site-packages\\statsmodels\\base\\model.py:568: ConvergenceWarning: Maximum Likelihood optimization failed to converge. Check mle_retvals\n",
      "  \"Check mle_retvals\", ConvergenceWarning)\n"
     ]
    },
    {
     "name": "stdout",
     "output_type": "stream",
     "text": [
      "<statsmodels.tsa.statespace.sarimax.SARIMAXResultsWrapper object at 0x000001A1B9E7CFC8>\n",
      "ARIMA(2, 1, 1)x(0, 2, 2, 12)12 - AIC:nan\n",
      "(2, 1, 1)\n",
      "(1, 0, 0, 12)\n",
      "<statsmodels.tsa.statespace.sarimax.SARIMAXResultsWrapper object at 0x000001A1B9E9CEC8>\n",
      "ARIMA(2, 1, 1)x(1, 0, 0, 12)12 - AIC:265.60339066785184\n",
      "(2, 1, 1)\n",
      "(1, 0, 1, 12)\n",
      "<statsmodels.tsa.statespace.sarimax.SARIMAXResultsWrapper object at 0x000001A1B9E97AC8>\n",
      "ARIMA(2, 1, 1)x(1, 0, 1, 12)12 - AIC:241.5490028396046\n",
      "(2, 1, 1)\n",
      "(1, 0, 2, 12)\n",
      "<statsmodels.tsa.statespace.sarimax.SARIMAXResultsWrapper object at 0x000001A1B9EDFFC8>\n",
      "ARIMA(2, 1, 1)x(1, 0, 2, 12)12 - AIC:217.97426037084492\n",
      "(2, 1, 1)\n",
      "(1, 1, 0, 12)\n",
      "<statsmodels.tsa.statespace.sarimax.SARIMAXResultsWrapper object at 0x000001A1B9EB9308>\n",
      "ARIMA(2, 1, 1)x(1, 1, 0, 12)12 - AIC:218.2284500612779\n",
      "(2, 1, 1)\n",
      "(1, 1, 1, 12)\n",
      "<statsmodels.tsa.statespace.sarimax.SARIMAXResultsWrapper object at 0x000001A1B9F10E48>\n",
      "ARIMA(2, 1, 1)x(1, 1, 1, 12)12 - AIC:215.29767939649153\n",
      "(2, 1, 1)\n",
      "(1, 1, 2, 12)\n",
      "<statsmodels.tsa.statespace.sarimax.SARIMAXResultsWrapper object at 0x000001A1BB5CD988>\n",
      "ARIMA(2, 1, 1)x(1, 1, 2, 12)12 - AIC:187.2387040341417\n",
      "(2, 1, 1)\n",
      "(1, 2, 0, 12)\n",
      "<statsmodels.tsa.statespace.sarimax.SARIMAXResultsWrapper object at 0x000001A1B9ED0B88>\n",
      "ARIMA(2, 1, 1)x(1, 2, 0, 12)12 - AIC:253.2844728569846\n",
      "(2, 1, 1)\n",
      "(1, 2, 1, 12)\n",
      "<statsmodels.tsa.statespace.sarimax.SARIMAXResultsWrapper object at 0x000001A1B9E7C1C8>\n",
      "ARIMA(2, 1, 1)x(1, 2, 1, 12)12 - AIC:223.9692159069226\n",
      "(2, 1, 1)\n",
      "(1, 2, 2, 12)\n"
     ]
    },
    {
     "name": "stderr",
     "output_type": "stream",
     "text": [
      "C:\\Users\\Satya\\Anaconda3\\lib\\site-packages\\statsmodels\\base\\model.py:568: ConvergenceWarning: Maximum Likelihood optimization failed to converge. Check mle_retvals\n",
      "  \"Check mle_retvals\", ConvergenceWarning)\n"
     ]
    },
    {
     "name": "stdout",
     "output_type": "stream",
     "text": [
      "<statsmodels.tsa.statespace.sarimax.SARIMAXResultsWrapper object at 0x000001A1B9E7CC48>\n",
      "ARIMA(2, 1, 1)x(1, 2, 2, 12)12 - AIC:2767.8045327200225\n",
      "(2, 1, 1)\n",
      "(2, 0, 0, 12)\n",
      "<statsmodels.tsa.statespace.sarimax.SARIMAXResultsWrapper object at 0x000001A1BDA45048>\n",
      "ARIMA(2, 1, 1)x(2, 0, 0, 12)12 - AIC:219.36930883377562\n",
      "(2, 1, 1)\n",
      "(2, 0, 1, 12)\n",
      "<statsmodels.tsa.statespace.sarimax.SARIMAXResultsWrapper object at 0x000001A1B9E86048>\n",
      "ARIMA(2, 1, 1)x(2, 0, 1, 12)12 - AIC:216.90399044661476\n",
      "(2, 1, 1)\n",
      "(2, 0, 2, 12)\n"
     ]
    },
    {
     "name": "stderr",
     "output_type": "stream",
     "text": [
      "C:\\Users\\Satya\\Anaconda3\\lib\\site-packages\\statsmodels\\base\\model.py:568: ConvergenceWarning: Maximum Likelihood optimization failed to converge. Check mle_retvals\n",
      "  \"Check mle_retvals\", ConvergenceWarning)\n"
     ]
    },
    {
     "name": "stdout",
     "output_type": "stream",
     "text": [
      "<statsmodels.tsa.statespace.sarimax.SARIMAXResultsWrapper object at 0x000001A1B9F1A4C8>\n",
      "ARIMA(2, 1, 1)x(2, 0, 2, 12)12 - AIC:223.35480693355547\n",
      "(2, 1, 1)\n",
      "(2, 1, 0, 12)\n",
      "<statsmodels.tsa.statespace.sarimax.SARIMAXResultsWrapper object at 0x000001A1B9E94C08>\n",
      "ARIMA(2, 1, 1)x(2, 1, 0, 12)12 - AIC:186.78477154818844\n",
      "(2, 1, 1)\n",
      "(2, 1, 1, 12)\n",
      "<statsmodels.tsa.statespace.sarimax.SARIMAXResultsWrapper object at 0x000001A1B9EB2D88>\n",
      "ARIMA(2, 1, 1)x(2, 1, 1, 12)12 - AIC:188.77580738376128\n",
      "(2, 1, 1)\n",
      "(2, 1, 2, 12)\n",
      "<statsmodels.tsa.statespace.sarimax.SARIMAXResultsWrapper object at 0x000001A1B9E7CA48>\n",
      "ARIMA(2, 1, 1)x(2, 1, 2, 12)12 - AIC:190.66248694165245\n",
      "(2, 1, 1)\n",
      "(2, 2, 0, 12)\n",
      "<statsmodels.tsa.statespace.sarimax.SARIMAXResultsWrapper object at 0x000001A1B9EB2BC8>\n",
      "ARIMA(2, 1, 1)x(2, 2, 0, 12)12 - AIC:200.13003678932208\n",
      "(2, 1, 1)\n",
      "(2, 2, 1, 12)\n",
      "<statsmodels.tsa.statespace.sarimax.SARIMAXResultsWrapper object at 0x000001A1B9E97A88>\n",
      "ARIMA(2, 1, 1)x(2, 2, 1, 12)12 - AIC:187.08973427610943\n",
      "(2, 1, 1)\n",
      "(2, 2, 2, 12)\n"
     ]
    },
    {
     "name": "stderr",
     "output_type": "stream",
     "text": [
      "C:\\Users\\Satya\\Anaconda3\\lib\\site-packages\\statsmodels\\base\\model.py:568: ConvergenceWarning: Maximum Likelihood optimization failed to converge. Check mle_retvals\n",
      "  \"Check mle_retvals\", ConvergenceWarning)\n"
     ]
    },
    {
     "name": "stdout",
     "output_type": "stream",
     "text": [
      "<statsmodels.tsa.statespace.sarimax.SARIMAXResultsWrapper object at 0x000001A1B9EAD488>\n",
      "ARIMA(2, 1, 1)x(2, 2, 2, 12)12 - AIC:2961.708447143906\n",
      "(2, 1, 2)\n",
      "(0, 0, 0, 12)\n",
      "<statsmodels.tsa.statespace.sarimax.SARIMAXResultsWrapper object at 0x000001A1BB5CF1C8>\n",
      "ARIMA(2, 1, 2)x(0, 0, 0, 12)12 - AIC:721.0528393703189\n",
      "(2, 1, 2)\n",
      "(0, 0, 1, 12)\n",
      "<statsmodels.tsa.statespace.sarimax.SARIMAXResultsWrapper object at 0x000001A1B9F10FC8>\n",
      "ARIMA(2, 1, 2)x(0, 0, 1, 12)12 - AIC:555.786815230924\n",
      "(2, 1, 2)\n",
      "(0, 0, 2, 12)\n"
     ]
    },
    {
     "name": "stderr",
     "output_type": "stream",
     "text": [
      "C:\\Users\\Satya\\Anaconda3\\lib\\site-packages\\statsmodels\\base\\model.py:568: ConvergenceWarning: Maximum Likelihood optimization failed to converge. Check mle_retvals\n",
      "  \"Check mle_retvals\", ConvergenceWarning)\n"
     ]
    },
    {
     "name": "stdout",
     "output_type": "stream",
     "text": [
      "<statsmodels.tsa.statespace.sarimax.SARIMAXResultsWrapper object at 0x000001A1B9EAD508>\n",
      "ARIMA(2, 1, 2)x(0, 0, 2, 12)12 - AIC:449.99746492826\n",
      "(2, 1, 2)\n",
      "(0, 1, 0, 12)\n",
      "<statsmodels.tsa.statespace.sarimax.SARIMAXResultsWrapper object at 0x000001A1BD9F8548>\n",
      "ARIMA(2, 1, 2)x(0, 1, 0, 12)12 - AIC:260.36341112824283\n",
      "(2, 1, 2)\n",
      "(0, 1, 1, 12)\n",
      "<statsmodels.tsa.statespace.sarimax.SARIMAXResultsWrapper object at 0x000001A1B9E65E88>\n",
      "ARIMA(2, 1, 2)x(0, 1, 1, 12)12 - AIC:205.84393745791294\n",
      "(2, 1, 2)\n",
      "(0, 1, 2, 12)\n",
      "<statsmodels.tsa.statespace.sarimax.SARIMAXResultsWrapper object at 0x000001A1B9E65988>\n",
      "ARIMA(2, 1, 2)x(0, 1, 2, 12)12 - AIC:187.48527769216653\n",
      "(2, 1, 2)\n",
      "(0, 2, 0, 12)\n",
      "<statsmodels.tsa.statespace.sarimax.SARIMAXResultsWrapper object at 0x000001A1BDA66088>\n",
      "ARIMA(2, 1, 2)x(0, 2, 0, 12)12 - AIC:326.3973704140548\n",
      "(2, 1, 2)\n",
      "(0, 2, 1, 12)\n",
      "<statsmodels.tsa.statespace.sarimax.SARIMAXResultsWrapper object at 0x000001A1AD522848>\n",
      "ARIMA(2, 1, 2)x(0, 2, 1, 12)12 - AIC:227.0159409097079\n",
      "(2, 1, 2)\n",
      "(0, 2, 2, 12)\n"
     ]
    },
    {
     "name": "stderr",
     "output_type": "stream",
     "text": [
      "C:\\Users\\Satya\\Anaconda3\\lib\\site-packages\\statsmodels\\base\\model.py:568: ConvergenceWarning: Maximum Likelihood optimization failed to converge. Check mle_retvals\n",
      "  \"Check mle_retvals\", ConvergenceWarning)\n"
     ]
    },
    {
     "name": "stdout",
     "output_type": "stream",
     "text": [
      "<statsmodels.tsa.statespace.sarimax.SARIMAXResultsWrapper object at 0x000001A1B9EB9288>\n",
      "ARIMA(2, 1, 2)x(0, 2, 2, 12)12 - AIC:nan\n",
      "(2, 1, 2)\n",
      "(1, 0, 0, 12)\n",
      "<statsmodels.tsa.statespace.sarimax.SARIMAXResultsWrapper object at 0x000001A1B9EB2A48>\n",
      "ARIMA(2, 1, 2)x(1, 0, 0, 12)12 - AIC:266.1528024545813\n",
      "(2, 1, 2)\n",
      "(1, 0, 1, 12)\n"
     ]
    },
    {
     "name": "stderr",
     "output_type": "stream",
     "text": [
      "C:\\Users\\Satya\\Anaconda3\\lib\\site-packages\\statsmodels\\base\\model.py:568: ConvergenceWarning: Maximum Likelihood optimization failed to converge. Check mle_retvals\n",
      "  \"Check mle_retvals\", ConvergenceWarning)\n"
     ]
    },
    {
     "name": "stdout",
     "output_type": "stream",
     "text": [
      "<statsmodels.tsa.statespace.sarimax.SARIMAXResultsWrapper object at 0x000001A1B9E7C8C8>\n",
      "ARIMA(2, 1, 2)x(1, 0, 1, 12)12 - AIC:269.70243484878245\n",
      "(2, 1, 2)\n",
      "(1, 0, 2, 12)\n"
     ]
    },
    {
     "name": "stderr",
     "output_type": "stream",
     "text": [
      "C:\\Users\\Satya\\Anaconda3\\lib\\site-packages\\statsmodels\\base\\model.py:568: ConvergenceWarning: Maximum Likelihood optimization failed to converge. Check mle_retvals\n",
      "  \"Check mle_retvals\", ConvergenceWarning)\n"
     ]
    },
    {
     "name": "stdout",
     "output_type": "stream",
     "text": [
      "<statsmodels.tsa.statespace.sarimax.SARIMAXResultsWrapper object at 0x000001A1B9ED0748>\n",
      "ARIMA(2, 1, 2)x(1, 0, 2, 12)12 - AIC:214.177368743872\n",
      "(2, 1, 2)\n",
      "(1, 1, 0, 12)\n",
      "<statsmodels.tsa.statespace.sarimax.SARIMAXResultsWrapper object at 0x000001A1B9E71388>\n",
      "ARIMA(2, 1, 2)x(1, 1, 0, 12)12 - AIC:220.11774833789116\n",
      "(2, 1, 2)\n",
      "(1, 1, 1, 12)\n",
      "<statsmodels.tsa.statespace.sarimax.SARIMAXResultsWrapper object at 0x000001A1B9F16588>\n",
      "ARIMA(2, 1, 2)x(1, 1, 1, 12)12 - AIC:212.82367219775594\n",
      "(2, 1, 2)\n",
      "(1, 1, 2, 12)\n",
      "<statsmodels.tsa.statespace.sarimax.SARIMAXResultsWrapper object at 0x000001A1B9F10648>\n",
      "ARIMA(2, 1, 2)x(1, 1, 2, 12)12 - AIC:187.69494839261156\n",
      "(2, 1, 2)\n",
      "(1, 2, 0, 12)\n",
      "<statsmodels.tsa.statespace.sarimax.SARIMAXResultsWrapper object at 0x000001A1B9EA2988>\n",
      "ARIMA(2, 1, 2)x(1, 2, 0, 12)12 - AIC:255.15582850357114\n",
      "(2, 1, 2)\n",
      "(1, 2, 1, 12)\n",
      "<statsmodels.tsa.statespace.sarimax.SARIMAXResultsWrapper object at 0x000001A1BB5B6B08>\n",
      "ARIMA(2, 1, 2)x(1, 2, 1, 12)12 - AIC:222.4453226679438\n",
      "(2, 1, 2)\n",
      "(1, 2, 2, 12)\n"
     ]
    },
    {
     "name": "stderr",
     "output_type": "stream",
     "text": [
      "C:\\Users\\Satya\\Anaconda3\\lib\\site-packages\\statsmodels\\base\\model.py:568: ConvergenceWarning: Maximum Likelihood optimization failed to converge. Check mle_retvals\n",
      "  \"Check mle_retvals\", ConvergenceWarning)\n"
     ]
    },
    {
     "name": "stdout",
     "output_type": "stream",
     "text": [
      "<statsmodels.tsa.statespace.sarimax.SARIMAXResultsWrapper object at 0x000001A1B9E71788>\n",
      "ARIMA(2, 1, 2)x(1, 2, 2, 12)12 - AIC:3025.8849428110825\n",
      "(2, 1, 2)\n",
      "(2, 0, 0, 12)\n"
     ]
    },
    {
     "name": "stderr",
     "output_type": "stream",
     "text": [
      "C:\\Users\\Satya\\Anaconda3\\lib\\site-packages\\statsmodels\\base\\model.py:568: ConvergenceWarning: Maximum Likelihood optimization failed to converge. Check mle_retvals\n",
      "  \"Check mle_retvals\", ConvergenceWarning)\n"
     ]
    },
    {
     "name": "stdout",
     "output_type": "stream",
     "text": [
      "<statsmodels.tsa.statespace.sarimax.SARIMAXResultsWrapper object at 0x000001A1B9EB2908>\n",
      "ARIMA(2, 1, 2)x(2, 0, 0, 12)12 - AIC:221.2745284842842\n",
      "(2, 1, 2)\n",
      "(2, 0, 1, 12)\n",
      "<statsmodels.tsa.statespace.sarimax.SARIMAXResultsWrapper object at 0x000001A1B9E7C348>\n",
      "ARIMA(2, 1, 2)x(2, 0, 1, 12)12 - AIC:218.9082980790091\n",
      "(2, 1, 2)\n",
      "(2, 0, 2, 12)\n"
     ]
    },
    {
     "name": "stderr",
     "output_type": "stream",
     "text": [
      "C:\\Users\\Satya\\Anaconda3\\lib\\site-packages\\statsmodels\\base\\model.py:568: ConvergenceWarning: Maximum Likelihood optimization failed to converge. Check mle_retvals\n",
      "  \"Check mle_retvals\", ConvergenceWarning)\n"
     ]
    },
    {
     "name": "stdout",
     "output_type": "stream",
     "text": [
      "<statsmodels.tsa.statespace.sarimax.SARIMAXResultsWrapper object at 0x000001A1B9F0B508>\n",
      "ARIMA(2, 1, 2)x(2, 0, 2, 12)12 - AIC:219.76643511037096\n",
      "(2, 1, 2)\n",
      "(2, 1, 0, 12)\n",
      "<statsmodels.tsa.statespace.sarimax.SARIMAXResultsWrapper object at 0x000001A1BB5CFF88>\n",
      "ARIMA(2, 1, 2)x(2, 1, 0, 12)12 - AIC:187.44001688384415\n",
      "(2, 1, 2)\n",
      "(2, 1, 1, 12)\n",
      "<statsmodels.tsa.statespace.sarimax.SARIMAXResultsWrapper object at 0x000001A1B9EB2F88>\n",
      "ARIMA(2, 1, 2)x(2, 1, 1, 12)12 - AIC:189.193852358584\n",
      "(2, 1, 2)\n",
      "(2, 1, 2, 12)\n",
      "<statsmodels.tsa.statespace.sarimax.SARIMAXResultsWrapper object at 0x000001A1B9EC0B88>\n",
      "ARIMA(2, 1, 2)x(2, 1, 2, 12)12 - AIC:188.46294016761755\n",
      "(2, 1, 2)\n",
      "(2, 2, 0, 12)\n",
      "<statsmodels.tsa.statespace.sarimax.SARIMAXResultsWrapper object at 0x000001A1BB5CD188>\n",
      "ARIMA(2, 1, 2)x(2, 2, 0, 12)12 - AIC:199.50442774877217\n",
      "(2, 1, 2)\n",
      "(2, 2, 1, 12)\n",
      "<statsmodels.tsa.statespace.sarimax.SARIMAXResultsWrapper object at 0x000001A1B9E945C8>\n",
      "ARIMA(2, 1, 2)x(2, 2, 1, 12)12 - AIC:186.5031472015816\n",
      "(2, 1, 2)\n",
      "(2, 2, 2, 12)\n"
     ]
    },
    {
     "name": "stderr",
     "output_type": "stream",
     "text": [
      "C:\\Users\\Satya\\Anaconda3\\lib\\site-packages\\statsmodels\\base\\model.py:568: ConvergenceWarning: Maximum Likelihood optimization failed to converge. Check mle_retvals\n",
      "  \"Check mle_retvals\", ConvergenceWarning)\n"
     ]
    },
    {
     "name": "stdout",
     "output_type": "stream",
     "text": [
      "<statsmodels.tsa.statespace.sarimax.SARIMAXResultsWrapper object at 0x000001A1BB5A2D48>\n",
      "ARIMA(2, 1, 2)x(2, 2, 2, 12)12 - AIC:3197.9496963683096\n",
      "(2, 2, 0)\n",
      "(0, 0, 0, 12)\n",
      "<statsmodels.tsa.statespace.sarimax.SARIMAXResultsWrapper object at 0x000001A1B9EB2E08>\n",
      "ARIMA(2, 2, 0)x(0, 0, 0, 12)12 - AIC:820.7817564779208\n",
      "(2, 2, 0)\n",
      "(0, 0, 1, 12)\n",
      "<statsmodels.tsa.statespace.sarimax.SARIMAXResultsWrapper object at 0x000001A1B9E94388>\n",
      "ARIMA(2, 2, 0)x(0, 0, 1, 12)12 - AIC:634.1873622904529\n",
      "(2, 2, 0)\n",
      "(0, 0, 2, 12)\n",
      "<statsmodels.tsa.statespace.sarimax.SARIMAXResultsWrapper object at 0x000001A1B9E1BA48>\n",
      "ARIMA(2, 2, 0)x(0, 0, 2, 12)12 - AIC:512.7753947823509\n",
      "(2, 2, 0)\n",
      "(0, 1, 0, 12)\n",
      "<statsmodels.tsa.statespace.sarimax.SARIMAXResultsWrapper object at 0x000001A1BB5CF1C8>\n",
      "ARIMA(2, 2, 0)x(0, 1, 0, 12)12 - AIC:344.7964473866069\n",
      "(2, 2, 0)\n",
      "(0, 1, 1, 12)\n",
      "<statsmodels.tsa.statespace.sarimax.SARIMAXResultsWrapper object at 0x000001A1BDA41148>\n",
      "ARIMA(2, 2, 0)x(0, 1, 1, 12)12 - AIC:286.56798421601866\n",
      "(2, 2, 0)\n",
      "(0, 1, 2, 12)\n",
      "<statsmodels.tsa.statespace.sarimax.SARIMAXResultsWrapper object at 0x000001A1B9E1B548>\n",
      "ARIMA(2, 2, 0)x(0, 1, 2, 12)12 - AIC:253.79914344124438\n",
      "(2, 2, 0)\n",
      "(0, 2, 0, 12)\n",
      "<statsmodels.tsa.statespace.sarimax.SARIMAXResultsWrapper object at 0x000001A1B9E71A08>\n",
      "ARIMA(2, 2, 0)x(0, 2, 0, 12)12 - AIC:392.52706830095235\n",
      "(2, 2, 0)\n",
      "(0, 2, 1, 12)\n",
      "<statsmodels.tsa.statespace.sarimax.SARIMAXResultsWrapper object at 0x000001A1B9E9C2C8>\n",
      "ARIMA(2, 2, 0)x(0, 2, 1, 12)12 - AIC:294.2107107806883\n",
      "(2, 2, 0)\n",
      "(0, 2, 2, 12)\n",
      "<statsmodels.tsa.statespace.sarimax.SARIMAXResultsWrapper object at 0x000001A1B9E71A08>\n",
      "ARIMA(2, 2, 0)x(0, 2, 2, 12)12 - AIC:2907.3229092707275\n",
      "(2, 2, 0)\n",
      "(1, 0, 0, 12)\n",
      "<statsmodels.tsa.statespace.sarimax.SARIMAXResultsWrapper object at 0x000001A1B9E94188>\n",
      "ARIMA(2, 2, 0)x(1, 0, 0, 12)12 - AIC:344.83608545175616\n",
      "(2, 2, 0)\n",
      "(1, 0, 1, 12)\n",
      "<statsmodels.tsa.statespace.sarimax.SARIMAXResultsWrapper object at 0x000001A1B9EA2848>\n",
      "ARIMA(2, 2, 0)x(1, 0, 1, 12)12 - AIC:327.06828468098\n",
      "(2, 2, 0)\n",
      "(1, 0, 2, 12)\n"
     ]
    },
    {
     "name": "stderr",
     "output_type": "stream",
     "text": [
      "C:\\Users\\Satya\\Anaconda3\\lib\\site-packages\\statsmodels\\base\\model.py:568: ConvergenceWarning: Maximum Likelihood optimization failed to converge. Check mle_retvals\n",
      "  \"Check mle_retvals\", ConvergenceWarning)\n"
     ]
    },
    {
     "name": "stdout",
     "output_type": "stream",
     "text": [
      "<statsmodels.tsa.statespace.sarimax.SARIMAXResultsWrapper object at 0x000001A1B9E94188>\n",
      "ARIMA(2, 2, 0)x(1, 0, 2, 12)12 - AIC:289.3083541257806\n",
      "(2, 2, 0)\n",
      "(1, 1, 0, 12)\n",
      "<statsmodels.tsa.statespace.sarimax.SARIMAXResultsWrapper object at 0x000001A1B9EA2108>\n",
      "ARIMA(2, 2, 0)x(1, 1, 0, 12)12 - AIC:291.54756097008453\n",
      "(2, 2, 0)\n",
      "(1, 1, 1, 12)\n",
      "<statsmodels.tsa.statespace.sarimax.SARIMAXResultsWrapper object at 0x000001A1B9E973C8>\n",
      "ARIMA(2, 2, 0)x(1, 1, 1, 12)12 - AIC:283.60694687779727\n",
      "(2, 2, 0)\n",
      "(1, 1, 2, 12)\n",
      "<statsmodels.tsa.statespace.sarimax.SARIMAXResultsWrapper object at 0x000001A1B9E97B08>\n",
      "ARIMA(2, 2, 0)x(1, 1, 2, 12)12 - AIC:254.96124051323883\n",
      "(2, 2, 0)\n",
      "(1, 2, 0, 12)\n",
      "<statsmodels.tsa.statespace.sarimax.SARIMAXResultsWrapper object at 0x000001A1B9EAD548>\n",
      "ARIMA(2, 2, 0)x(1, 2, 0, 12)12 - AIC:315.49530223771774\n",
      "(2, 2, 0)\n",
      "(1, 2, 1, 12)\n",
      "<statsmodels.tsa.statespace.sarimax.SARIMAXResultsWrapper object at 0x000001A1B9E8FB48>\n",
      "ARIMA(2, 2, 0)x(1, 2, 1, 12)12 - AIC:283.21828606537133\n",
      "(2, 2, 0)\n",
      "(1, 2, 2, 12)\n"
     ]
    },
    {
     "name": "stderr",
     "output_type": "stream",
     "text": [
      "C:\\Users\\Satya\\Anaconda3\\lib\\site-packages\\statsmodels\\base\\model.py:568: ConvergenceWarning: Maximum Likelihood optimization failed to converge. Check mle_retvals\n",
      "  \"Check mle_retvals\", ConvergenceWarning)\n"
     ]
    },
    {
     "name": "stdout",
     "output_type": "stream",
     "text": [
      "<statsmodels.tsa.statespace.sarimax.SARIMAXResultsWrapper object at 0x000001A1B9E71E08>\n",
      "ARIMA(2, 2, 0)x(1, 2, 2, 12)12 - AIC:2854.921885457262\n",
      "(2, 2, 0)\n",
      "(2, 0, 0, 12)\n",
      "<statsmodels.tsa.statespace.sarimax.SARIMAXResultsWrapper object at 0x000001A1B9E3E588>\n",
      "ARIMA(2, 2, 0)x(2, 0, 0, 12)12 - AIC:290.7001238270518\n",
      "(2, 2, 0)\n",
      "(2, 0, 1, 12)\n",
      "<statsmodels.tsa.statespace.sarimax.SARIMAXResultsWrapper object at 0x000001A1B9ED0888>\n",
      "ARIMA(2, 2, 0)x(2, 0, 1, 12)12 - AIC:285.6386806525233\n",
      "(2, 2, 0)\n",
      "(2, 0, 2, 12)\n"
     ]
    },
    {
     "name": "stderr",
     "output_type": "stream",
     "text": [
      "C:\\Users\\Satya\\Anaconda3\\lib\\site-packages\\statsmodels\\base\\model.py:568: ConvergenceWarning: Maximum Likelihood optimization failed to converge. Check mle_retvals\n",
      "  \"Check mle_retvals\", ConvergenceWarning)\n"
     ]
    },
    {
     "name": "stdout",
     "output_type": "stream",
     "text": [
      "<statsmodels.tsa.statespace.sarimax.SARIMAXResultsWrapper object at 0x000001A1B9E3E208>\n",
      "ARIMA(2, 2, 0)x(2, 0, 2, 12)12 - AIC:286.2328784675916\n",
      "(2, 2, 0)\n",
      "(2, 1, 0, 12)\n",
      "<statsmodels.tsa.statespace.sarimax.SARIMAXResultsWrapper object at 0x000001A1B9E8F2C8>\n",
      "ARIMA(2, 2, 0)x(2, 1, 0, 12)12 - AIC:247.14015985119516\n",
      "(2, 2, 0)\n",
      "(2, 1, 1, 12)\n",
      "<statsmodels.tsa.statespace.sarimax.SARIMAXResultsWrapper object at 0x000001A1B9E97B08>\n",
      "ARIMA(2, 2, 0)x(2, 1, 1, 12)12 - AIC:247.78327927824128\n",
      "(2, 2, 0)\n",
      "(2, 1, 2, 12)\n",
      "<statsmodels.tsa.statespace.sarimax.SARIMAXResultsWrapper object at 0x000001A1BB5CC948>\n",
      "ARIMA(2, 2, 0)x(2, 1, 2, 12)12 - AIC:249.78307392189862\n",
      "(2, 2, 0)\n",
      "(2, 2, 0, 12)\n",
      "<statsmodels.tsa.statespace.sarimax.SARIMAXResultsWrapper object at 0x000001A1B9EA20C8>\n",
      "ARIMA(2, 2, 0)x(2, 2, 0, 12)12 - AIC:247.65518551108266\n",
      "(2, 2, 0)\n",
      "(2, 2, 1, 12)\n",
      "<statsmodels.tsa.statespace.sarimax.SARIMAXResultsWrapper object at 0x000001A1B9E1B688>\n",
      "ARIMA(2, 2, 0)x(2, 2, 1, 12)12 - AIC:232.16399085305525\n",
      "(2, 2, 0)\n",
      "(2, 2, 2, 12)\n"
     ]
    },
    {
     "name": "stderr",
     "output_type": "stream",
     "text": [
      "C:\\Users\\Satya\\Anaconda3\\lib\\site-packages\\statsmodels\\base\\model.py:568: ConvergenceWarning: Maximum Likelihood optimization failed to converge. Check mle_retvals\n",
      "  \"Check mle_retvals\", ConvergenceWarning)\n"
     ]
    },
    {
     "name": "stdout",
     "output_type": "stream",
     "text": [
      "<statsmodels.tsa.statespace.sarimax.SARIMAXResultsWrapper object at 0x000001A1B9E8F8C8>\n",
      "ARIMA(2, 2, 0)x(2, 2, 2, 12)12 - AIC:3115.839978347129\n",
      "(2, 2, 1)\n",
      "(0, 0, 0, 12)\n",
      "<statsmodels.tsa.statespace.sarimax.SARIMAXResultsWrapper object at 0x000001A1B9E97E08>\n",
      "ARIMA(2, 2, 1)x(0, 0, 0, 12)12 - AIC:780.9567293371557\n",
      "(2, 2, 1)\n",
      "(0, 0, 1, 12)\n",
      "<statsmodels.tsa.statespace.sarimax.SARIMAXResultsWrapper object at 0x000001A1B9EAD108>\n",
      "ARIMA(2, 2, 1)x(0, 0, 1, 12)12 - AIC:596.241414242618\n",
      "(2, 2, 1)\n",
      "(0, 0, 2, 12)\n",
      "<statsmodels.tsa.statespace.sarimax.SARIMAXResultsWrapper object at 0x000001A1B9E865C8>\n",
      "ARIMA(2, 2, 1)x(0, 0, 2, 12)12 - AIC:477.9475158872753\n",
      "(2, 2, 1)\n",
      "(0, 1, 0, 12)\n",
      "<statsmodels.tsa.statespace.sarimax.SARIMAXResultsWrapper object at 0x000001A1B9F1FD48>\n",
      "ARIMA(2, 2, 1)x(0, 1, 0, 12)12 - AIC:292.0949560680207\n",
      "(2, 2, 1)\n",
      "(0, 1, 1, 12)\n",
      "<statsmodels.tsa.statespace.sarimax.SARIMAXResultsWrapper object at 0x000001A1B9E94408>\n",
      "ARIMA(2, 2, 1)x(0, 1, 1, 12)12 - AIC:232.8075837170434\n",
      "(2, 2, 1)\n",
      "(0, 1, 2, 12)\n",
      "<statsmodels.tsa.statespace.sarimax.SARIMAXResultsWrapper object at 0x000001A1B9EC01C8>\n",
      "ARIMA(2, 2, 1)x(0, 1, 2, 12)12 - AIC:206.5920845676996\n",
      "(2, 2, 1)\n",
      "(0, 2, 0, 12)\n",
      "<statsmodels.tsa.statespace.sarimax.SARIMAXResultsWrapper object at 0x000001A1B9F2C308>\n",
      "ARIMA(2, 2, 1)x(0, 2, 0, 12)12 - AIC:349.30931978073437\n",
      "(2, 2, 1)\n",
      "(0, 2, 1, 12)\n",
      "<statsmodels.tsa.statespace.sarimax.SARIMAXResultsWrapper object at 0x000001A1B9E71408>\n",
      "ARIMA(2, 2, 1)x(0, 2, 1, 12)12 - AIC:248.09328244180128\n",
      "(2, 2, 1)\n",
      "(0, 2, 2, 12)\n"
     ]
    },
    {
     "name": "stderr",
     "output_type": "stream",
     "text": [
      "C:\\Users\\Satya\\Anaconda3\\lib\\site-packages\\statsmodels\\base\\model.py:568: ConvergenceWarning: Maximum Likelihood optimization failed to converge. Check mle_retvals\n",
      "  \"Check mle_retvals\", ConvergenceWarning)\n"
     ]
    },
    {
     "name": "stdout",
     "output_type": "stream",
     "text": [
      "<statsmodels.tsa.statespace.sarimax.SARIMAXResultsWrapper object at 0x000001A1B9E7C408>\n",
      "ARIMA(2, 2, 1)x(0, 2, 2, 12)12 - AIC:2341.9811539841776\n",
      "(2, 2, 1)\n",
      "(1, 0, 0, 12)\n",
      "<statsmodels.tsa.statespace.sarimax.SARIMAXResultsWrapper object at 0x000001A1B9EC5288>\n",
      "ARIMA(2, 2, 1)x(1, 0, 0, 12)12 - AIC:291.92321366834267\n",
      "(2, 2, 1)\n",
      "(1, 0, 1, 12)\n"
     ]
    },
    {
     "name": "stderr",
     "output_type": "stream",
     "text": [
      "C:\\Users\\Satya\\Anaconda3\\lib\\site-packages\\statsmodels\\base\\model.py:568: ConvergenceWarning: Maximum Likelihood optimization failed to converge. Check mle_retvals\n",
      "  \"Check mle_retvals\", ConvergenceWarning)\n"
     ]
    },
    {
     "name": "stdout",
     "output_type": "stream",
     "text": [
      "<statsmodels.tsa.statespace.sarimax.SARIMAXResultsWrapper object at 0x000001A1B9E84488>\n",
      "ARIMA(2, 2, 1)x(1, 0, 1, 12)12 - AIC:296.3915761768853\n",
      "(2, 2, 1)\n",
      "(1, 0, 2, 12)\n"
     ]
    },
    {
     "name": "stderr",
     "output_type": "stream",
     "text": [
      "C:\\Users\\Satya\\Anaconda3\\lib\\site-packages\\statsmodels\\base\\model.py:568: ConvergenceWarning: Maximum Likelihood optimization failed to converge. Check mle_retvals\n",
      "  \"Check mle_retvals\", ConvergenceWarning)\n"
     ]
    },
    {
     "name": "stdout",
     "output_type": "stream",
     "text": [
      "<statsmodels.tsa.statespace.sarimax.SARIMAXResultsWrapper object at 0x000001A1B9EDF448>\n",
      "ARIMA(2, 2, 1)x(1, 0, 2, 12)12 - AIC:237.84747552341165\n",
      "(2, 2, 1)\n",
      "(1, 1, 0, 12)\n",
      "<statsmodels.tsa.statespace.sarimax.SARIMAXResultsWrapper object at 0x000001A1B9E1B388>\n",
      "ARIMA(2, 2, 1)x(1, 1, 0, 12)12 - AIC:243.28411477518597\n",
      "(2, 2, 1)\n",
      "(1, 1, 1, 12)\n",
      "<statsmodels.tsa.statespace.sarimax.SARIMAXResultsWrapper object at 0x000001A1BDA45048>\n",
      "ARIMA(2, 2, 1)x(1, 1, 1, 12)12 - AIC:234.80821603581757\n",
      "(2, 2, 1)\n",
      "(1, 1, 2, 12)\n",
      "<statsmodels.tsa.statespace.sarimax.SARIMAXResultsWrapper object at 0x000001A1B9E3E7C8>\n",
      "ARIMA(2, 2, 1)x(1, 1, 2, 12)12 - AIC:207.25699420118505\n",
      "(2, 2, 1)\n",
      "(1, 2, 0, 12)\n",
      "<statsmodels.tsa.statespace.sarimax.SARIMAXResultsWrapper object at 0x000001A1B9F24988>\n",
      "ARIMA(2, 2, 1)x(1, 2, 0, 12)12 - AIC:273.8446138970778\n",
      "(2, 2, 1)\n",
      "(1, 2, 1, 12)\n",
      "<statsmodels.tsa.statespace.sarimax.SARIMAXResultsWrapper object at 0x000001A1B9E71EC8>\n",
      "ARIMA(2, 2, 1)x(1, 2, 1, 12)12 - AIC:244.82104665597666\n",
      "(2, 2, 1)\n",
      "(1, 2, 2, 12)\n"
     ]
    },
    {
     "name": "stderr",
     "output_type": "stream",
     "text": [
      "C:\\Users\\Satya\\Anaconda3\\lib\\site-packages\\statsmodels\\base\\model.py:568: ConvergenceWarning: Maximum Likelihood optimization failed to converge. Check mle_retvals\n",
      "  \"Check mle_retvals\", ConvergenceWarning)\n"
     ]
    },
    {
     "name": "stdout",
     "output_type": "stream",
     "text": [
      "<statsmodels.tsa.statespace.sarimax.SARIMAXResultsWrapper object at 0x000001A1B9E71308>\n",
      "ARIMA(2, 2, 1)x(1, 2, 2, 12)12 - AIC:2290.6006861996643\n",
      "(2, 2, 1)\n",
      "(2, 0, 0, 12)\n",
      "<statsmodels.tsa.statespace.sarimax.SARIMAXResultsWrapper object at 0x000001A1AD342E48>\n",
      "ARIMA(2, 2, 1)x(2, 0, 0, 12)12 - AIC:245.4750327838411\n",
      "(2, 2, 1)\n",
      "(2, 0, 1, 12)\n"
     ]
    },
    {
     "name": "stderr",
     "output_type": "stream",
     "text": [
      "C:\\Users\\Satya\\Anaconda3\\lib\\site-packages\\statsmodels\\base\\model.py:568: ConvergenceWarning: Maximum Likelihood optimization failed to converge. Check mle_retvals\n",
      "  \"Check mle_retvals\", ConvergenceWarning)\n"
     ]
    },
    {
     "name": "stdout",
     "output_type": "stream",
     "text": [
      "<statsmodels.tsa.statespace.sarimax.SARIMAXResultsWrapper object at 0x000001A1B9E1B588>\n",
      "ARIMA(2, 2, 1)x(2, 0, 1, 12)12 - AIC:237.56806348929334\n",
      "(2, 2, 1)\n",
      "(2, 0, 2, 12)\n"
     ]
    },
    {
     "name": "stderr",
     "output_type": "stream",
     "text": [
      "C:\\Users\\Satya\\Anaconda3\\lib\\site-packages\\statsmodels\\base\\model.py:568: ConvergenceWarning: Maximum Likelihood optimization failed to converge. Check mle_retvals\n",
      "  \"Check mle_retvals\", ConvergenceWarning)\n"
     ]
    },
    {
     "name": "stdout",
     "output_type": "stream",
     "text": [
      "<statsmodels.tsa.statespace.sarimax.SARIMAXResultsWrapper object at 0x000001A1AD342E88>\n",
      "ARIMA(2, 2, 1)x(2, 0, 2, 12)12 - AIC:248.73677312528193\n",
      "(2, 2, 1)\n",
      "(2, 1, 0, 12)\n",
      "<statsmodels.tsa.statespace.sarimax.SARIMAXResultsWrapper object at 0x000001A1B9EEB1C8>\n",
      "ARIMA(2, 2, 1)x(2, 1, 0, 12)12 - AIC:205.89669096670852\n",
      "(2, 2, 1)\n",
      "(2, 1, 1, 12)\n"
     ]
    },
    {
     "name": "stderr",
     "output_type": "stream",
     "text": [
      "C:\\Users\\Satya\\Anaconda3\\lib\\site-packages\\statsmodels\\base\\model.py:568: ConvergenceWarning: Maximum Likelihood optimization failed to converge. Check mle_retvals\n",
      "  \"Check mle_retvals\", ConvergenceWarning)\n"
     ]
    },
    {
     "name": "stdout",
     "output_type": "stream",
     "text": [
      "<statsmodels.tsa.statespace.sarimax.SARIMAXResultsWrapper object at 0x000001A1B9F10FC8>\n",
      "ARIMA(2, 2, 1)x(2, 1, 1, 12)12 - AIC:207.4783068404326\n",
      "(2, 2, 1)\n",
      "(2, 1, 2, 12)\n",
      "<statsmodels.tsa.statespace.sarimax.SARIMAXResultsWrapper object at 0x000001A1BDA35D48>\n",
      "ARIMA(2, 2, 1)x(2, 1, 2, 12)12 - AIC:209.2743286786478\n",
      "(2, 2, 1)\n",
      "(2, 2, 0, 12)\n",
      "<statsmodels.tsa.statespace.sarimax.SARIMAXResultsWrapper object at 0x000001A1B9E7C5C8>\n",
      "ARIMA(2, 2, 1)x(2, 2, 0, 12)12 - AIC:214.4388590915408\n",
      "(2, 2, 1)\n",
      "(2, 2, 1, 12)\n",
      "<statsmodels.tsa.statespace.sarimax.SARIMAXResultsWrapper object at 0x000001A1B9E2CA88>\n",
      "ARIMA(2, 2, 1)x(2, 2, 1, 12)12 - AIC:202.2216672955588\n",
      "(2, 2, 1)\n",
      "(2, 2, 2, 12)\n"
     ]
    },
    {
     "name": "stderr",
     "output_type": "stream",
     "text": [
      "C:\\Users\\Satya\\Anaconda3\\lib\\site-packages\\statsmodels\\base\\model.py:568: ConvergenceWarning: Maximum Likelihood optimization failed to converge. Check mle_retvals\n",
      "  \"Check mle_retvals\", ConvergenceWarning)\n"
     ]
    },
    {
     "name": "stdout",
     "output_type": "stream",
     "text": [
      "<statsmodels.tsa.statespace.sarimax.SARIMAXResultsWrapper object at 0x000001A1B9EAD908>\n",
      "ARIMA(2, 2, 1)x(2, 2, 2, 12)12 - AIC:2143.009775844416\n",
      "(2, 2, 2)\n",
      "(0, 0, 0, 12)\n",
      "<statsmodels.tsa.statespace.sarimax.SARIMAXResultsWrapper object at 0x000001A1B9EA2648>\n",
      "ARIMA(2, 2, 2)x(0, 0, 0, 12)12 - AIC:748.541146086551\n",
      "(2, 2, 2)\n",
      "(0, 0, 1, 12)\n",
      "<statsmodels.tsa.statespace.sarimax.SARIMAXResultsWrapper object at 0x000001A1B9E75308>\n",
      "ARIMA(2, 2, 2)x(0, 0, 1, 12)12 - AIC:568.5052217088635\n",
      "(2, 2, 2)\n",
      "(0, 0, 2, 12)\n"
     ]
    },
    {
     "name": "stderr",
     "output_type": "stream",
     "text": [
      "C:\\Users\\Satya\\Anaconda3\\lib\\site-packages\\statsmodels\\base\\model.py:568: ConvergenceWarning: Maximum Likelihood optimization failed to converge. Check mle_retvals\n",
      "  \"Check mle_retvals\", ConvergenceWarning)\n"
     ]
    },
    {
     "name": "stdout",
     "output_type": "stream",
     "text": [
      "<statsmodels.tsa.statespace.sarimax.SARIMAXResultsWrapper object at 0x000001A1B9E2C6C8>\n",
      "ARIMA(2, 2, 2)x(0, 0, 2, 12)12 - AIC:455.68832989293304\n",
      "(2, 2, 2)\n",
      "(0, 1, 0, 12)\n",
      "<statsmodels.tsa.statespace.sarimax.SARIMAXResultsWrapper object at 0x000001A1B9E71A88>\n",
      "ARIMA(2, 2, 2)x(0, 1, 0, 12)12 - AIC:291.1983792812514\n",
      "(2, 2, 2)\n",
      "(0, 1, 1, 12)\n",
      "<statsmodels.tsa.statespace.sarimax.SARIMAXResultsWrapper object at 0x000001A1B9EADE48>\n",
      "ARIMA(2, 2, 2)x(0, 1, 1, 12)12 - AIC:211.7329536564299\n",
      "(2, 2, 2)\n",
      "(0, 1, 2, 12)\n"
     ]
    },
    {
     "name": "stderr",
     "output_type": "stream",
     "text": [
      "C:\\Users\\Satya\\Anaconda3\\lib\\site-packages\\statsmodels\\base\\model.py:568: ConvergenceWarning: Maximum Likelihood optimization failed to converge. Check mle_retvals\n",
      "  \"Check mle_retvals\", ConvergenceWarning)\n"
     ]
    },
    {
     "name": "stdout",
     "output_type": "stream",
     "text": [
      "<statsmodels.tsa.statespace.sarimax.SARIMAXResultsWrapper object at 0x000001A1B9E2C748>\n",
      "ARIMA(2, 2, 2)x(0, 1, 2, 12)12 - AIC:192.92498279027672\n",
      "(2, 2, 2)\n",
      "(0, 2, 0, 12)\n",
      "<statsmodels.tsa.statespace.sarimax.SARIMAXResultsWrapper object at 0x000001A1B9E65EC8>\n",
      "ARIMA(2, 2, 2)x(0, 2, 0, 12)12 - AIC:335.5378306708648\n",
      "(2, 2, 2)\n",
      "(0, 2, 1, 12)\n",
      "<statsmodels.tsa.statespace.sarimax.SARIMAXResultsWrapper object at 0x000001A1B9BB1548>\n",
      "ARIMA(2, 2, 2)x(0, 2, 1, 12)12 - AIC:231.9517279940208\n",
      "(2, 2, 2)\n",
      "(0, 2, 2, 12)\n",
      "<statsmodels.tsa.statespace.sarimax.SARIMAXResultsWrapper object at 0x000001A1B9E71F88>\n",
      "ARIMA(2, 2, 2)x(0, 2, 2, 12)12 - AIC:2745.3084528595655\n",
      "(2, 2, 2)\n",
      "(1, 0, 0, 12)\n"
     ]
    },
    {
     "name": "stderr",
     "output_type": "stream",
     "text": [
      "C:\\Users\\Satya\\Anaconda3\\lib\\site-packages\\statsmodels\\base\\model.py:568: ConvergenceWarning: Maximum Likelihood optimization failed to converge. Check mle_retvals\n",
      "  \"Check mle_retvals\", ConvergenceWarning)\n"
     ]
    },
    {
     "name": "stdout",
     "output_type": "stream",
     "text": [
      "<statsmodels.tsa.statespace.sarimax.SARIMAXResultsWrapper object at 0x000001A1B9F1F688>\n",
      "ARIMA(2, 2, 2)x(1, 0, 0, 12)12 - AIC:275.0425596516935\n",
      "(2, 2, 2)\n",
      "(1, 0, 1, 12)\n"
     ]
    },
    {
     "name": "stderr",
     "output_type": "stream",
     "text": [
      "C:\\Users\\Satya\\Anaconda3\\lib\\site-packages\\statsmodels\\base\\model.py:568: ConvergenceWarning: Maximum Likelihood optimization failed to converge. Check mle_retvals\n",
      "  \"Check mle_retvals\", ConvergenceWarning)\n"
     ]
    },
    {
     "name": "stdout",
     "output_type": "stream",
     "text": [
      "<statsmodels.tsa.statespace.sarimax.SARIMAXResultsWrapper object at 0x000001A1B9E2CA08>\n",
      "ARIMA(2, 2, 2)x(1, 0, 1, 12)12 - AIC:247.77346901605458\n",
      "(2, 2, 2)\n",
      "(1, 0, 2, 12)\n"
     ]
    },
    {
     "name": "stderr",
     "output_type": "stream",
     "text": [
      "C:\\Users\\Satya\\Anaconda3\\lib\\site-packages\\statsmodels\\base\\model.py:568: ConvergenceWarning: Maximum Likelihood optimization failed to converge. Check mle_retvals\n",
      "  \"Check mle_retvals\", ConvergenceWarning)\n"
     ]
    },
    {
     "name": "stdout",
     "output_type": "stream",
     "text": [
      "<statsmodels.tsa.statespace.sarimax.SARIMAXResultsWrapper object at 0x000001A1B9E1BD88>\n",
      "ARIMA(2, 2, 2)x(1, 0, 2, 12)12 - AIC:290.5810384400491\n",
      "(2, 2, 2)\n",
      "(1, 1, 0, 12)\n",
      "<statsmodels.tsa.statespace.sarimax.SARIMAXResultsWrapper object at 0x000001A1B8C67188>\n",
      "ARIMA(2, 2, 2)x(1, 1, 0, 12)12 - AIC:226.91150735322105\n",
      "(2, 2, 2)\n",
      "(1, 1, 1, 12)\n",
      "<statsmodels.tsa.statespace.sarimax.SARIMAXResultsWrapper object at 0x000001A1B9E3A9C8>\n",
      "ARIMA(2, 2, 2)x(1, 1, 1, 12)12 - AIC:222.5821600512358\n",
      "(2, 2, 2)\n",
      "(1, 1, 2, 12)\n",
      "<statsmodels.tsa.statespace.sarimax.SARIMAXResultsWrapper object at 0x000001A1B9E3EEC8>\n",
      "ARIMA(2, 2, 2)x(1, 1, 2, 12)12 - AIC:193.66828670194906\n",
      "(2, 2, 2)\n",
      "(1, 2, 0, 12)\n",
      "<statsmodels.tsa.statespace.sarimax.SARIMAXResultsWrapper object at 0x000001A1B9E8FE08>\n",
      "ARIMA(2, 2, 2)x(1, 2, 0, 12)12 - AIC:261.67600423056905\n",
      "(2, 2, 2)\n",
      "(1, 2, 1, 12)\n",
      "<statsmodels.tsa.statespace.sarimax.SARIMAXResultsWrapper object at 0x000001A1B9E3AC48>\n",
      "ARIMA(2, 2, 2)x(1, 2, 1, 12)12 - AIC:229.96965277894134\n",
      "(2, 2, 2)\n",
      "(1, 2, 2, 12)\n",
      "<statsmodels.tsa.statespace.sarimax.SARIMAXResultsWrapper object at 0x000001A1B9E3A708>\n",
      "ARIMA(2, 2, 2)x(1, 2, 2, 12)12 - AIC:2694.372962904168\n",
      "(2, 2, 2)\n",
      "(2, 0, 0, 12)\n"
     ]
    },
    {
     "name": "stderr",
     "output_type": "stream",
     "text": [
      "C:\\Users\\Satya\\Anaconda3\\lib\\site-packages\\statsmodels\\base\\model.py:568: ConvergenceWarning: Maximum Likelihood optimization failed to converge. Check mle_retvals\n",
      "  \"Check mle_retvals\", ConvergenceWarning)\n"
     ]
    },
    {
     "name": "stdout",
     "output_type": "stream",
     "text": [
      "<statsmodels.tsa.statespace.sarimax.SARIMAXResultsWrapper object at 0x000001A1B9EC56C8>\n",
      "ARIMA(2, 2, 2)x(2, 0, 0, 12)12 - AIC:296.43328260355645\n",
      "(2, 2, 2)\n",
      "(2, 0, 1, 12)\n"
     ]
    },
    {
     "name": "stderr",
     "output_type": "stream",
     "text": [
      "C:\\Users\\Satya\\Anaconda3\\lib\\site-packages\\statsmodels\\base\\model.py:568: ConvergenceWarning: Maximum Likelihood optimization failed to converge. Check mle_retvals\n",
      "  \"Check mle_retvals\", ConvergenceWarning)\n"
     ]
    },
    {
     "name": "stdout",
     "output_type": "stream",
     "text": [
      "<statsmodels.tsa.statespace.sarimax.SARIMAXResultsWrapper object at 0x000001A1B9EEB108>\n",
      "ARIMA(2, 2, 2)x(2, 0, 1, 12)12 - AIC:243.16504594139687\n",
      "(2, 2, 2)\n",
      "(2, 0, 2, 12)\n"
     ]
    },
    {
     "name": "stderr",
     "output_type": "stream",
     "text": [
      "C:\\Users\\Satya\\Anaconda3\\lib\\site-packages\\statsmodels\\base\\model.py:568: ConvergenceWarning: Maximum Likelihood optimization failed to converge. Check mle_retvals\n",
      "  \"Check mle_retvals\", ConvergenceWarning)\n"
     ]
    },
    {
     "name": "stdout",
     "output_type": "stream",
     "text": [
      "<statsmodels.tsa.statespace.sarimax.SARIMAXResultsWrapper object at 0x000001A1B9E97788>\n",
      "ARIMA(2, 2, 2)x(2, 0, 2, 12)12 - AIC:301.4475796817174\n",
      "(2, 2, 2)\n",
      "(2, 1, 0, 12)\n",
      "<statsmodels.tsa.statespace.sarimax.SARIMAXResultsWrapper object at 0x000001A1B9F1A848>\n",
      "ARIMA(2, 2, 2)x(2, 1, 0, 12)12 - AIC:196.68480157451125\n",
      "(2, 2, 2)\n",
      "(2, 1, 1, 12)\n",
      "<statsmodels.tsa.statespace.sarimax.SARIMAXResultsWrapper object at 0x000001A1B9E7C448>\n",
      "ARIMA(2, 2, 2)x(2, 1, 1, 12)12 - AIC:198.6592687109507\n",
      "(2, 2, 2)\n",
      "(2, 1, 2, 12)\n"
     ]
    },
    {
     "name": "stderr",
     "output_type": "stream",
     "text": [
      "C:\\Users\\Satya\\Anaconda3\\lib\\site-packages\\statsmodels\\base\\model.py:568: ConvergenceWarning: Maximum Likelihood optimization failed to converge. Check mle_retvals\n",
      "  \"Check mle_retvals\", ConvergenceWarning)\n"
     ]
    },
    {
     "name": "stdout",
     "output_type": "stream",
     "text": [
      "<statsmodels.tsa.statespace.sarimax.SARIMAXResultsWrapper object at 0x000001A1B9E84FC8>\n",
      "ARIMA(2, 2, 2)x(2, 1, 2, 12)12 - AIC:196.8225595824177\n",
      "(2, 2, 2)\n",
      "(2, 2, 0, 12)\n"
     ]
    },
    {
     "name": "stderr",
     "output_type": "stream",
     "text": [
      "C:\\Users\\Satya\\Anaconda3\\lib\\site-packages\\statsmodels\\base\\model.py:568: ConvergenceWarning: Maximum Likelihood optimization failed to converge. Check mle_retvals\n",
      "  \"Check mle_retvals\", ConvergenceWarning)\n"
     ]
    },
    {
     "name": "stdout",
     "output_type": "stream",
     "text": [
      "<statsmodels.tsa.statespace.sarimax.SARIMAXResultsWrapper object at 0x000001A1B9E1BD88>\n",
      "ARIMA(2, 2, 2)x(2, 2, 0, 12)12 - AIC:208.05391876555518\n",
      "(2, 2, 2)\n",
      "(2, 2, 1, 12)\n"
     ]
    },
    {
     "name": "stderr",
     "output_type": "stream",
     "text": [
      "C:\\Users\\Satya\\Anaconda3\\lib\\site-packages\\statsmodels\\base\\model.py:568: ConvergenceWarning: Maximum Likelihood optimization failed to converge. Check mle_retvals\n",
      "  \"Check mle_retvals\", ConvergenceWarning)\n"
     ]
    },
    {
     "name": "stdout",
     "output_type": "stream",
     "text": [
      "<statsmodels.tsa.statespace.sarimax.SARIMAXResultsWrapper object at 0x000001A1B9E65B88>\n",
      "ARIMA(2, 2, 2)x(2, 2, 1, 12)12 - AIC:194.8575731266792\n",
      "(2, 2, 2)\n",
      "(2, 2, 2, 12)\n"
     ]
    },
    {
     "name": "stderr",
     "output_type": "stream",
     "text": [
      "C:\\Users\\Satya\\Anaconda3\\lib\\site-packages\\statsmodels\\base\\model.py:568: ConvergenceWarning: Maximum Likelihood optimization failed to converge. Check mle_retvals\n",
      "  \"Check mle_retvals\", ConvergenceWarning)\n"
     ]
    },
    {
     "name": "stdout",
     "output_type": "stream",
     "text": [
      "<statsmodels.tsa.statespace.sarimax.SARIMAXResultsWrapper object at 0x000001A1B9EFA308>\n",
      "ARIMA(2, 2, 2)x(2, 2, 2, 12)12 - AIC:2586.6841254756455\n"
     ]
    }
   ],
   "source": [
    "aic = 2000\n",
    "for param in pdq:\n",
    "    for param_seasonal in seasonal_pdq:\n",
    "        try:\n",
    "            print(param)\n",
    "            print(param_seasonal)\n",
    "            mod = sm.tsa.statespace.SARIMAX(monthly_average,order=param,seasonal_order=param_seasonal,enforce_stationarity=False,enforce_invertibility=False)\n",
    "            results = mod.fit()\n",
    "            print(results)\n",
    "            print('ARIMA{}x{}12 - AIC:{}'.format(param,param_seasonal,results.aic))\n",
    "            \n",
    "            # Record the paramters which have least AIC\n",
    "            if results.aic<aic:\n",
    "                aic = results.aic\n",
    "                param2 = param\n",
    "                param_seasonal2 = param_seasonal\n",
    "        except: \n",
    "            print('no')\n",
    "            continue\n",
    "            "
   ]
  },
  {
   "cell_type": "code",
   "execution_count": 36,
   "metadata": {
    "scrolled": true
   },
   "outputs": [
    {
     "data": {
      "text/plain": [
       "(1, 0, 0)"
      ]
     },
     "execution_count": 36,
     "metadata": {},
     "output_type": "execute_result"
    }
   ],
   "source": [
    "# OPtimum p,d,q\n",
    "param2"
   ]
  },
  {
   "cell_type": "code",
   "execution_count": 38,
   "metadata": {},
   "outputs": [
    {
     "data": {
      "text/plain": [
       "(2, 2, 1, 12)"
      ]
     },
     "execution_count": 38,
     "metadata": {},
     "output_type": "execute_result"
    }
   ],
   "source": [
    "# Optimim P,D,Q\n",
    "param_seasonal2"
   ]
  },
  {
   "cell_type": "markdown",
   "metadata": {},
   "source": [
    "### Now that we have the optimum values, lets fit the model using these"
   ]
  },
  {
   "cell_type": "code",
   "execution_count": 40,
   "metadata": {},
   "outputs": [],
   "source": [
    "# Fit ARIMA(1, 0,0)x(2, 2, 1, 12)\n",
    "mod = sm.tsa.statespace.SARIMAX(monthly_average,order=param,seasonal_order=param_seasonal2,enforce_stationarity=False,enforce_invertibility=False)\n",
    "model_fit = mod.fit(disp=False)"
   ]
  },
  {
   "cell_type": "markdown",
   "metadata": {},
   "source": [
    "### View the model diagnostics to check the performance of our model"
   ]
  },
  {
   "cell_type": "code",
   "execution_count": 43,
   "metadata": {
    "scrolled": true
   },
   "outputs": [
    {
     "data": {
      "image/png": "[encoded data removed]",
      "text/plain": [
       "<Figure size 1296x576 with 4 Axes>"
      ]
     },
     "metadata": {},
     "output_type": "display_data"
    }
   ],
   "source": [
    "\n",
    "model_fit.plot_diagnostics(figsize=(18, 8))\n",
    "pyplot.show()"
   ]
  },
  {
   "cell_type": "markdown",
   "metadata": {},
   "source": [
    "From the residual graph, we can see that there is not much of a pattern there, so no correlation between is existing. From the Normal Q-Q plot, we can see that the errors are normally distributed.The Correlogram shows that the values are close to zero, so correlation is not significant. Hence, our model is performing well"
   ]
  },
  {
   "cell_type": "markdown",
   "metadata": {},
   "source": [
    "### one-step Prediction for the test data"
   ]
  },
  {
   "cell_type": "code",
   "execution_count": 47,
   "metadata": {},
   "outputs": [
    {
     "data": {
      "image/png": "[encoded data removed]",
      "text/plain": [
       "<Figure size 1008x288 with 1 Axes>"
      ]
     },
     "metadata": {},
     "output_type": "display_data"
    }
   ],
   "source": [
    "pred = model_fit.get_prediction(start = pd.to_datetime('2008-02-01'),dynamic=False)\n",
    "pred_ci = pred.conf_int()\n",
    "ax = monthly_average.tail(500).plot(label='observed')\n",
    "pred.predicted_mean.plot(ax=ax, label='One-step ahead Forecast', alpha=.5, figsize=(14, 4))\n",
    "ax.fill_between(pred_ci.index,\n",
    "                pred_ci.iloc[:, 0],\n",
    "                pred_ci.iloc[:, 1], color='k', alpha=.2)\n",
    "ax.set_xlabel('Date')\n",
    "ax.set_ylabel('Number of visitors')\n",
    "pyplot.legend()\n",
    "pyplot.show()"
   ]
  },
  {
   "cell_type": "markdown",
   "metadata": {},
   "source": [
    "### Evaluate the performance of the model by finding MAE"
   ]
  },
  {
   "cell_type": "code",
   "execution_count": 56,
   "metadata": {},
   "outputs": [],
   "source": [
    "y_forecasted = pred.predicted_mean\n",
    "y_truth = monthly_average['2008-02-01':]\n",
    "mae = (np.mean(abs(y_forecasted - y_truth)))\n"
   ]
  },
  {
   "cell_type": "code",
   "execution_count": 57,
   "metadata": {
    "scrolled": true
   },
   "outputs": [
    {
     "data": {
      "text/plain": [
       "0.6029943654706763"
      ]
     },
     "execution_count": 57,
     "metadata": {},
     "output_type": "execute_result"
    }
   ],
   "source": [
    "mae"
   ]
  }
 ],
 "metadata": {
  "kernelspec": {
   "display_name": "Python 3",
   "language": "python",
   "name": "python3"
  },
  "language_info": {
   "codemirror_mode": {
    "name": "ipython",
    "version": 3
   },
   "file_extension": ".py",
   "mimetype": "text/x-python",
   "name": "python",
   "nbconvert_exporter": "python",
   "pygments_lexer": "ipython3",
   "version": "3.7.6"
  }
 },
 "nbformat": 4,
 "nbformat_minor": 4
}
